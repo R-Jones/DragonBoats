{
 "cells": [
  {
   "cell_type": "code",
   "execution_count": 1,
   "metadata": {},
   "outputs": [],
   "source": [
    "from flask import Flask, request\n",
    "from flask_cors import CORS\n",
    "import json\n",
    "import os\n",
    "app = Flask(__name__)\n",
    "CORS(app)\n",
    "\n",
    "mockdb = {\"heats\":[], \"stateId\":0}\n",
    "\n",
    "boatCounter = 0\n",
    "heatCounter = 0\n",
    "\n",
    "@app.route(\"/\")\n",
    "def index():\n",
    "    root_dir = os.path.dirname(os.getcwd())\n",
    "    return app.send_static_file('index.html')\n",
    "\n",
    "@app.route('/addHeat',methods=['POST'])\n",
    "def addHeat():\n",
    "    global heatCounter\n",
    "    print(mockdb)\n",
    "        \n",
    "    mockdb[\"heats\"].append({\"id\":str(heatCounter),\"boats\":[]})\n",
    "    heatCounter+=1\n",
    "    mockdb[\"stateId\"] += 1\n",
    "    return json.dumps(mockdb)\n",
    "\n",
    "@app.route('/<heatId>/addBoat',methods=['POST'])\n",
    "def addBoat(heatId):\n",
    "    global boatCounter\n",
    "    heat = [heat for heat in mockdb[\"heats\"] if heat[\"id\"] == heatId]\n",
    "    if not heat:\n",
    "        return '{\"error\": \"Heat not found\"}'\n",
    "    Id = str(boatCounter)\n",
    "    heat[0][\"boats\"].append({\"id\":Id,\"name\":\"Boat \" + Id,\"color\":None,\"StartTime\":None,\"EndTime\":None})\n",
    "    boatCounter+=1\n",
    "    mockdb[\"stateId\"]+=1\n",
    "    return json.dumps(mockdb)\n",
    "\n",
    "def setBoatParm(heatId,boatId,k,v):\n",
    "    heat = [heat for heat in mockdb[\"heats\"] if heat[\"id\"] == heatId]\n",
    "    if not heat:\n",
    "        return '{\"error\": \"Heat not found\"}'\n",
    "    boat = [boat for boat in heat[0][\"boats\"] if boat[\"id\"] == boatId]\n",
    "    if not boat:\n",
    "        return '{\"error\": \"Boat not found\"}'\n",
    "    boat[0][k] = v\n",
    "    \n",
    "    mockdb[\"stateId\"] += 1\n",
    "    \n",
    "    return json.dumps(mockdb)\n",
    "\n",
    "@app.route('/<heatId>/<boatId>/setStartTime',methods=['POST'])\n",
    "def setStartTime(heatId,boatId):\n",
    "    print(heatId,boatId)\n",
    "    reqJSON = request.get_json()\n",
    "    print(reqJSON)\n",
    "    if not \"StartTime\" in reqJSON:\n",
    "        return '{\"error\": \"missing start time\"}'\n",
    "    print(request.get_json())\n",
    "    mockdb[\"stateId\"] += 1\n",
    "    return setBoatParm(heatId,boatId,\"StartTime\",reqJSON[\"StartTime\"])\n",
    "\n",
    "@app.route('/<heatId>/<boatId>/setEndTime',methods=['POST'])\n",
    "def setEndTime(heatId,boatId):\n",
    "    reqJSON = request.get_json()\n",
    "    if not \"EndTime\" in reqJSON:\n",
    "        return '{\"error\": \"missing end time\"}'\n",
    "    mockdb[\"stateId\"] += 1\n",
    "    return setBoatParm(heatId,boatId,\"EndTime\",reqJSON[\"EndTime\"])\n",
    "\n",
    "@app.route('/<heatId>/<boatId>/setName',methods=['POST'])\n",
    "def setName(heatId,boatId):\n",
    "    reqJSON = request.get_json()\n",
    "    if not \"Name\" in reqJSON:\n",
    "        return '{\"error\": \"missing name\"}'\n",
    "    mockdb[\"stateId\"] += 1\n",
    "    return setBoatParm(heatId,boatId,\"name\",reqJSON[\"Name\"])\n",
    "\n",
    "@app.route('/<heatId>/<boatId>/setColor',methods=['POST'])\n",
    "def setColor(heatId,boatId):\n",
    "    reqJSON = request.get_json()\n",
    "    if not \"Color\" in reqJSON:\n",
    "        return '{\"error\": \"missing color\"}'\n",
    "    mockdb[\"stateId\"] += 1\n",
    "    return setBoatParm(heatId,boatId,\"color\",reqJSON[\"Color\"])\n",
    "\n",
    "@app.route('/getState',methods=['POST'])\n",
    "def getState():\n",
    "    reqJSON = request.get_json()\n",
    "    if reqJSON and \"stateId\" in reqJSON and str(mockdb[\"stateId\"]) == reqJSON[\"stateId\"]:\n",
    "        return '{\"unchanged\": 1}'\n",
    "    return json.dumps(mockdb)"
   ]
  },
  {
   "cell_type": "code",
   "execution_count": null,
   "metadata": {},
   "outputs": [
    {
     "name": "stdout",
     "output_type": "stream",
     "text": [
      " * Serving Flask app \"__main__\" (lazy loading)\n",
      " * Environment: production\n",
      "   WARNING: Do not use the development server in a production environment.\n",
      "   Use a production WSGI server instead.\n",
      " * Debug mode: off\n"
     ]
    },
    {
     "name": "stderr",
     "output_type": "stream",
     "text": [
      " * Running on http://127.0.0.1:5000/ (Press CTRL+C to quit)\n",
      "127.0.0.1 - - [23/Jul/2019 14:27:59] \"POST /getState HTTP/1.1\" 200 -\n",
      "127.0.0.1 - - [23/Jul/2019 14:28:00] \"POST /addHeat HTTP/1.1\" 200 -\n"
     ]
    },
    {
     "name": "stdout",
     "output_type": "stream",
     "text": [
      "{'heats': [], 'stateId': 0}\n"
     ]
    },
    {
     "name": "stderr",
     "output_type": "stream",
     "text": [
      "127.0.0.1 - - [23/Jul/2019 14:28:01] \"POST /addHeat HTTP/1.1\" 200 -\n"
     ]
    },
    {
     "name": "stdout",
     "output_type": "stream",
     "text": [
      "{'heats': [{'id': '0', 'boats': []}], 'stateId': 1}\n"
     ]
    },
    {
     "name": "stderr",
     "output_type": "stream",
     "text": [
      "127.0.0.1 - - [23/Jul/2019 14:28:01] \"POST /addHeat HTTP/1.1\" 200 -\n"
     ]
    },
    {
     "name": "stdout",
     "output_type": "stream",
     "text": [
      "{'heats': [{'id': '0', 'boats': []}, {'id': '1', 'boats': []}], 'stateId': 2}\n"
     ]
    },
    {
     "name": "stderr",
     "output_type": "stream",
     "text": [
      "127.0.0.1 - - [23/Jul/2019 14:28:02] \"POST /addHeat HTTP/1.1\" 200 -\n"
     ]
    },
    {
     "name": "stdout",
     "output_type": "stream",
     "text": [
      "{'heats': [{'id': '0', 'boats': []}, {'id': '1', 'boats': []}, {'id': '2', 'boats': []}], 'stateId': 3}\n"
     ]
    },
    {
     "name": "stderr",
     "output_type": "stream",
     "text": [
      "127.0.0.1 - - [23/Jul/2019 14:28:03] \"POST /2/addBoat HTTP/1.1\" 200 -\n",
      "127.0.0.1 - - [23/Jul/2019 14:28:04] \"POST /2/addBoat HTTP/1.1\" 200 -\n",
      "[2019-07-23 14:28:06,680] ERROR in app: Exception on /2/0/setStartTime [POST]\n",
      "Traceback (most recent call last):\n",
      "  File \"c:\\users\\rjones\\appdata\\local\\continuum\\anaconda3\\lib\\site-packages\\flask\\app.py\", line 2292, in wsgi_app\n",
      "    response = self.full_dispatch_request()\n",
      "  File \"c:\\users\\rjones\\appdata\\local\\continuum\\anaconda3\\lib\\site-packages\\flask\\app.py\", line 1815, in full_dispatch_request\n",
      "    rv = self.handle_user_exception(e)\n",
      "  File \"c:\\users\\rjones\\appdata\\local\\continuum\\anaconda3\\lib\\site-packages\\flask_cors\\extension.py\", line 161, in wrapped_function\n",
      "    return cors_after_request(app.make_response(f(*args, **kwargs)))\n",
      "  File \"c:\\users\\rjones\\appdata\\local\\continuum\\anaconda3\\lib\\site-packages\\flask\\app.py\", line 1718, in handle_user_exception\n",
      "    reraise(exc_type, exc_value, tb)\n",
      "  File \"c:\\users\\rjones\\appdata\\local\\continuum\\anaconda3\\lib\\site-packages\\flask\\_compat.py\", line 35, in reraise\n",
      "    raise value\n",
      "  File \"c:\\users\\rjones\\appdata\\local\\continuum\\anaconda3\\lib\\site-packages\\flask\\app.py\", line 1813, in full_dispatch_request\n",
      "    rv = self.dispatch_request()\n",
      "  File \"c:\\users\\rjones\\appdata\\local\\continuum\\anaconda3\\lib\\site-packages\\flask\\app.py\", line 1799, in dispatch_request\n",
      "    return self.view_functions[rule.endpoint](**req.view_args)\n",
      "  File \"<ipython-input-1-e83e36a8d59b>\", line 57, in setStartTime\n",
      "    if not \"StartTime\" in reqJSON:\n",
      "TypeError: argument of type 'NoneType' is not iterable\n",
      "127.0.0.1 - - [23/Jul/2019 14:28:06] \"POST /2/0/setStartTime HTTP/1.1\" 500 -\n"
     ]
    },
    {
     "name": "stdout",
     "output_type": "stream",
     "text": [
      "2 0\n",
      "None\n"
     ]
    },
    {
     "name": "stderr",
     "output_type": "stream",
     "text": [
      "127.0.0.1 - - [23/Jul/2019 14:28:18] \"POST /2/addBoat HTTP/1.1\" 200 -\n",
      "127.0.0.1 - - [23/Jul/2019 14:28:19] \"POST /2/addBoat HTTP/1.1\" 200 -\n",
      "127.0.0.1 - - [23/Jul/2019 14:28:19] \"POST /2/addBoat HTTP/1.1\" 200 -\n",
      "[2019-07-23 14:28:23,000] ERROR in app: Exception on /2/4/setStartTime [POST]\n",
      "Traceback (most recent call last):\n",
      "  File \"c:\\users\\rjones\\appdata\\local\\continuum\\anaconda3\\lib\\site-packages\\flask\\app.py\", line 2292, in wsgi_app\n",
      "    response = self.full_dispatch_request()\n",
      "  File \"c:\\users\\rjones\\appdata\\local\\continuum\\anaconda3\\lib\\site-packages\\flask\\app.py\", line 1815, in full_dispatch_request\n",
      "    rv = self.handle_user_exception(e)\n",
      "  File \"c:\\users\\rjones\\appdata\\local\\continuum\\anaconda3\\lib\\site-packages\\flask_cors\\extension.py\", line 161, in wrapped_function\n",
      "    return cors_after_request(app.make_response(f(*args, **kwargs)))\n",
      "  File \"c:\\users\\rjones\\appdata\\local\\continuum\\anaconda3\\lib\\site-packages\\flask\\app.py\", line 1718, in handle_user_exception\n",
      "    reraise(exc_type, exc_value, tb)\n",
      "  File \"c:\\users\\rjones\\appdata\\local\\continuum\\anaconda3\\lib\\site-packages\\flask\\_compat.py\", line 35, in reraise\n",
      "    raise value\n",
      "  File \"c:\\users\\rjones\\appdata\\local\\continuum\\anaconda3\\lib\\site-packages\\flask\\app.py\", line 1813, in full_dispatch_request\n",
      "    rv = self.dispatch_request()\n",
      "  File \"c:\\users\\rjones\\appdata\\local\\continuum\\anaconda3\\lib\\site-packages\\flask\\app.py\", line 1799, in dispatch_request\n",
      "    return self.view_functions[rule.endpoint](**req.view_args)\n",
      "  File \"<ipython-input-1-e83e36a8d59b>\", line 57, in setStartTime\n",
      "    if not \"StartTime\" in reqJSON:\n",
      "TypeError: argument of type 'NoneType' is not iterable\n",
      "127.0.0.1 - - [23/Jul/2019 14:28:23] \"POST /2/4/setStartTime HTTP/1.1\" 500 -\n"
     ]
    },
    {
     "name": "stdout",
     "output_type": "stream",
     "text": [
      "2 4\n",
      "None\n"
     ]
    },
    {
     "name": "stderr",
     "output_type": "stream",
     "text": [
      "127.0.0.1 - - [23/Jul/2019 14:30:46] \"OPTIONS /getState HTTP/1.1\" 200 -\n",
      "127.0.0.1 - - [23/Jul/2019 14:30:47] \"POST /getState HTTP/1.1\" 400 -\n",
      "127.0.0.1 - - [23/Jul/2019 14:31:54] \"OPTIONS /getState HTTP/1.1\" 200 -\n",
      "127.0.0.1 - - [23/Jul/2019 14:31:54] \"POST /getState HTTP/1.1\" 200 -\n",
      "127.0.0.1 - - [23/Jul/2019 14:31:58] \"OPTIONS /2/0/setStartTime HTTP/1.1\" 200 -\n",
      "127.0.0.1 - - [23/Jul/2019 14:31:58] \"POST /2/0/setStartTime HTTP/1.1\" 200 -\n"
     ]
    },
    {
     "name": "stdout",
     "output_type": "stream",
     "text": [
      "2 0\n",
      "{'StartTime': '2:31:58 PM'}\n",
      "{'StartTime': '2:31:58 PM'}\n"
     ]
    },
    {
     "name": "stderr",
     "output_type": "stream",
     "text": [
      "127.0.0.1 - - [23/Jul/2019 14:31:59] \"OPTIONS /2/1/setStartTime HTTP/1.1\" 200 -\n",
      "127.0.0.1 - - [23/Jul/2019 14:31:59] \"POST /2/1/setStartTime HTTP/1.1\" 200 -\n"
     ]
    },
    {
     "name": "stdout",
     "output_type": "stream",
     "text": [
      "2 1\n",
      "{'StartTime': '2:31:59 PM'}\n",
      "{'StartTime': '2:31:59 PM'}\n"
     ]
    },
    {
     "name": "stderr",
     "output_type": "stream",
     "text": [
      "127.0.0.1 - - [23/Jul/2019 14:31:59] \"OPTIONS /2/2/setStartTime HTTP/1.1\" 200 -\n",
      "127.0.0.1 - - [23/Jul/2019 14:31:59] \"POST /2/2/setStartTime HTTP/1.1\" 200 -\n"
     ]
    },
    {
     "name": "stdout",
     "output_type": "stream",
     "text": [
      "2 2\n",
      "{'StartTime': '2:31:59 PM'}\n",
      "{'StartTime': '2:31:59 PM'}\n"
     ]
    },
    {
     "name": "stderr",
     "output_type": "stream",
     "text": [
      "127.0.0.1 - - [23/Jul/2019 14:32:00] \"OPTIONS /2/3/setStartTime HTTP/1.1\" 200 -\n",
      "127.0.0.1 - - [23/Jul/2019 14:32:00] \"POST /2/3/setStartTime HTTP/1.1\" 200 -\n"
     ]
    },
    {
     "name": "stdout",
     "output_type": "stream",
     "text": [
      "2 3\n",
      "{'StartTime': '2:32:00 PM'}\n",
      "{'StartTime': '2:32:00 PM'}\n"
     ]
    },
    {
     "name": "stderr",
     "output_type": "stream",
     "text": [
      "127.0.0.1 - - [23/Jul/2019 14:32:00] \"OPTIONS /2/4/setStartTime HTTP/1.1\" 200 -\n",
      "127.0.0.1 - - [23/Jul/2019 14:32:00] \"POST /2/4/setStartTime HTTP/1.1\" 200 -\n"
     ]
    },
    {
     "name": "stdout",
     "output_type": "stream",
     "text": [
      "2 4\n",
      "{'StartTime': '2:32:00 PM'}\n",
      "{'StartTime': '2:32:00 PM'}\n"
     ]
    },
    {
     "name": "stderr",
     "output_type": "stream",
     "text": [
      "127.0.0.1 - - [23/Jul/2019 14:32:01] \"OPTIONS /getState HTTP/1.1\" 200 -\n",
      "127.0.0.1 - - [23/Jul/2019 14:32:01] \"POST /getState HTTP/1.1\" 200 -\n",
      "127.0.0.1 - - [23/Jul/2019 14:32:06] \"OPTIONS /0/addBoat HTTP/1.1\" 200 -\n",
      "127.0.0.1 - - [23/Jul/2019 14:32:06] \"POST /0/addBoat HTTP/1.1\" 200 -\n",
      "127.0.0.1 - - [23/Jul/2019 14:32:06] \"POST /0/addBoat HTTP/1.1\" 200 -\n",
      "127.0.0.1 - - [23/Jul/2019 14:32:07] \"POST /0/addBoat HTTP/1.1\" 200 -\n",
      "127.0.0.1 - - [23/Jul/2019 14:32:11] \"OPTIONS /1/addBoat HTTP/1.1\" 200 -\n",
      "127.0.0.1 - - [23/Jul/2019 14:32:11] \"POST /1/addBoat HTTP/1.1\" 200 -\n",
      "127.0.0.1 - - [23/Jul/2019 14:32:12] \"POST /1/addBoat HTTP/1.1\" 200 -\n",
      "127.0.0.1 - - [23/Jul/2019 14:32:13] \"POST /1/addBoat HTTP/1.1\" 200 -\n",
      "127.0.0.1 - - [23/Jul/2019 14:32:16] \"OPTIONS /0/5/setStartTime HTTP/1.1\" 200 -\n",
      "127.0.0.1 - - [23/Jul/2019 14:32:16] \"POST /0/5/setStartTime HTTP/1.1\" 200 -\n"
     ]
    },
    {
     "name": "stdout",
     "output_type": "stream",
     "text": [
      "0 5\n",
      "{'StartTime': '2:32:16 PM'}\n",
      "{'StartTime': '2:32:16 PM'}\n"
     ]
    },
    {
     "name": "stderr",
     "output_type": "stream",
     "text": [
      "127.0.0.1 - - [23/Jul/2019 14:32:16] \"OPTIONS /0/6/setStartTime HTTP/1.1\" 200 -\n",
      "127.0.0.1 - - [23/Jul/2019 14:32:16] \"POST /0/6/setStartTime HTTP/1.1\" 200 -\n"
     ]
    },
    {
     "name": "stdout",
     "output_type": "stream",
     "text": [
      "0 6\n",
      "{'StartTime': '2:32:16 PM'}\n",
      "{'StartTime': '2:32:16 PM'}\n"
     ]
    },
    {
     "name": "stderr",
     "output_type": "stream",
     "text": [
      "127.0.0.1 - - [23/Jul/2019 14:32:16] \"OPTIONS /0/7/setStartTime HTTP/1.1\" 200 -\n",
      "127.0.0.1 - - [23/Jul/2019 14:32:16] \"POST /0/7/setStartTime HTTP/1.1\" 200 -\n"
     ]
    },
    {
     "name": "stdout",
     "output_type": "stream",
     "text": [
      "0 7\n",
      "{'StartTime': '2:32:16 PM'}\n",
      "{'StartTime': '2:32:16 PM'}\n"
     ]
    },
    {
     "name": "stderr",
     "output_type": "stream",
     "text": [
      "127.0.0.1 - - [23/Jul/2019 14:32:21] \"OPTIONS /null/0/setStartTime HTTP/1.1\" 200 -\n",
      "127.0.0.1 - - [23/Jul/2019 14:32:21] \"POST /null/0/setStartTime HTTP/1.1\" 200 -\n"
     ]
    },
    {
     "name": "stdout",
     "output_type": "stream",
     "text": [
      "null 0\n",
      "{'StartTime': '2:32:21 PM'}\n",
      "{'StartTime': '2:32:21 PM'}\n"
     ]
    },
    {
     "name": "stderr",
     "output_type": "stream",
     "text": [
      "127.0.0.1 - - [23/Jul/2019 14:32:23] \"POST /null/0/setStartTime HTTP/1.1\" 200 -\n"
     ]
    },
    {
     "name": "stdout",
     "output_type": "stream",
     "text": [
      "null 0\n",
      "{'StartTime': '2:32:23 PM'}\n",
      "{'StartTime': '2:32:23 PM'}\n"
     ]
    },
    {
     "name": "stderr",
     "output_type": "stream",
     "text": [
      "127.0.0.1 - - [23/Jul/2019 14:32:25] \"OPTIONS /null/1/setStartTime HTTP/1.1\" 200 -\n",
      "127.0.0.1 - - [23/Jul/2019 14:32:25] \"POST /null/1/setStartTime HTTP/1.1\" 200 -\n"
     ]
    },
    {
     "name": "stdout",
     "output_type": "stream",
     "text": [
      "null 1\n",
      "{'StartTime': '2:32:25 PM'}\n",
      "{'StartTime': '2:32:25 PM'}\n"
     ]
    },
    {
     "name": "stderr",
     "output_type": "stream",
     "text": [
      "127.0.0.1 - - [23/Jul/2019 14:32:26] \"OPTIONS /null/2/setStartTime HTTP/1.1\" 200 -\n",
      "127.0.0.1 - - [23/Jul/2019 14:32:26] \"POST /null/2/setStartTime HTTP/1.1\" 200 -\n"
     ]
    },
    {
     "name": "stdout",
     "output_type": "stream",
     "text": [
      "null 2\n",
      "{'StartTime': '2:32:26 PM'}\n",
      "{'StartTime': '2:32:26 PM'}\n"
     ]
    },
    {
     "name": "stderr",
     "output_type": "stream",
     "text": [
      "127.0.0.1 - - [23/Jul/2019 14:32:26] \"OPTIONS /null/3/setStartTime HTTP/1.1\" 200 -\n",
      "127.0.0.1 - - [23/Jul/2019 14:32:26] \"POST /null/3/setStartTime HTTP/1.1\" 200 -\n"
     ]
    },
    {
     "name": "stdout",
     "output_type": "stream",
     "text": [
      "null 3\n",
      "{'StartTime': '2:32:26 PM'}\n",
      "{'StartTime': '2:32:26 PM'}\n"
     ]
    },
    {
     "name": "stderr",
     "output_type": "stream",
     "text": [
      "127.0.0.1 - - [23/Jul/2019 14:32:27] \"OPTIONS /null/-1/setStartTime HTTP/1.1\" 200 -\n",
      "127.0.0.1 - - [23/Jul/2019 14:32:27] \"POST /null/-1/setStartTime HTTP/1.1\" 200 -\n"
     ]
    },
    {
     "name": "stdout",
     "output_type": "stream",
     "text": [
      "null -1\n",
      "{'StartTime': '2:32:27 PM'}\n",
      "{'StartTime': '2:32:27 PM'}\n"
     ]
    },
    {
     "name": "stderr",
     "output_type": "stream",
     "text": [
      "127.0.0.1 - - [23/Jul/2019 14:32:28] \"OPTIONS /getState HTTP/1.1\" 200 -\n",
      "127.0.0.1 - - [23/Jul/2019 14:32:28] \"POST /getState HTTP/1.1\" 200 -\n",
      "127.0.0.1 - - [23/Jul/2019 14:32:38] \"OPTIONS /3/addBoat HTTP/1.1\" 200 -\n",
      "127.0.0.1 - - [23/Jul/2019 14:32:38] \"POST /3/addBoat HTTP/1.1\" 200 -\n",
      "127.0.0.1 - - [23/Jul/2019 14:32:39] \"POST /3/addBoat HTTP/1.1\" 200 -\n",
      "127.0.0.1 - - [23/Jul/2019 14:32:40] \"POST /3/addBoat HTTP/1.1\" 200 -\n",
      "127.0.0.1 - - [23/Jul/2019 14:32:41] \"OPTIONS /3/11/setStartTime HTTP/1.1\" 200 -\n",
      "127.0.0.1 - - [23/Jul/2019 14:32:41] \"POST /3/11/setStartTime HTTP/1.1\" 200 -\n"
     ]
    },
    {
     "name": "stdout",
     "output_type": "stream",
     "text": [
      "3 11\n",
      "{'StartTime': '2:32:41 PM'}\n",
      "{'StartTime': '2:32:41 PM'}\n"
     ]
    },
    {
     "name": "stderr",
     "output_type": "stream",
     "text": [
      "127.0.0.1 - - [23/Jul/2019 14:32:44] \"OPTIONS /null/-1/setStartTime HTTP/1.1\" 200 -\n",
      "127.0.0.1 - - [23/Jul/2019 14:32:44] \"POST /null/-1/setStartTime HTTP/1.1\" 200 -\n"
     ]
    },
    {
     "name": "stdout",
     "output_type": "stream",
     "text": [
      "null -1\n",
      "{'StartTime': '2:32:44 PM'}\n",
      "{'StartTime': '2:32:44 PM'}\n"
     ]
    },
    {
     "name": "stderr",
     "output_type": "stream",
     "text": [
      "127.0.0.1 - - [23/Jul/2019 14:32:45] \"POST /null/-1/setStartTime HTTP/1.1\" 200 -\n",
      "127.0.0.1 - - [23/Jul/2019 14:32:45] \"POST /null/-1/setStartTime HTTP/1.1\" 200 -\n"
     ]
    },
    {
     "name": "stdout",
     "output_type": "stream",
     "text": [
      "null -1\n",
      "{'StartTime': '2:32:45 PM'}\n",
      "{'StartTime': '2:32:45 PM'}\n",
      "null -1\n",
      "{'StartTime': '2:32:45 PM'}\n",
      "{'StartTime': '2:32:45 PM'}\n"
     ]
    },
    {
     "name": "stderr",
     "output_type": "stream",
     "text": [
      "127.0.0.1 - - [23/Jul/2019 14:32:46] \"OPTIONS /null/3/setStartTime HTTP/1.1\" 200 -\n",
      "127.0.0.1 - - [23/Jul/2019 14:32:46] \"POST /null/3/setStartTime HTTP/1.1\" 200 -\n"
     ]
    },
    {
     "name": "stdout",
     "output_type": "stream",
     "text": [
      "null 3\n",
      "{'StartTime': '2:32:46 PM'}\n",
      "{'StartTime': '2:32:46 PM'}\n"
     ]
    },
    {
     "name": "stderr",
     "output_type": "stream",
     "text": [
      "127.0.0.1 - - [23/Jul/2019 14:32:46] \"OPTIONS /null/2/setStartTime HTTP/1.1\" 200 -\n",
      "127.0.0.1 - - [23/Jul/2019 14:32:46] \"POST /null/2/setStartTime HTTP/1.1\" 200 -\n"
     ]
    },
    {
     "name": "stdout",
     "output_type": "stream",
     "text": [
      "null 2\n",
      "{'StartTime': '2:32:46 PM'}\n",
      "{'StartTime': '2:32:46 PM'}\n"
     ]
    },
    {
     "name": "stderr",
     "output_type": "stream",
     "text": [
      "127.0.0.1 - - [23/Jul/2019 14:32:46] \"OPTIONS /null/1/setStartTime HTTP/1.1\" 200 -\n",
      "127.0.0.1 - - [23/Jul/2019 14:32:46] \"POST /null/1/setStartTime HTTP/1.1\" 200 -\n"
     ]
    },
    {
     "name": "stdout",
     "output_type": "stream",
     "text": [
      "null 1\n",
      "{'StartTime': '2:32:46 PM'}\n",
      "{'StartTime': '2:32:46 PM'}\n"
     ]
    },
    {
     "name": "stderr",
     "output_type": "stream",
     "text": [
      "127.0.0.1 - - [23/Jul/2019 14:32:47] \"OPTIONS /null/0/setStartTime HTTP/1.1\" 200 -\n",
      "127.0.0.1 - - [23/Jul/2019 14:32:47] \"POST /null/0/setStartTime HTTP/1.1\" 200 -\n"
     ]
    },
    {
     "name": "stdout",
     "output_type": "stream",
     "text": [
      "null 0\n",
      "{'StartTime': '2:32:47 PM'}\n",
      "{'StartTime': '2:32:47 PM'}\n"
     ]
    },
    {
     "name": "stderr",
     "output_type": "stream",
     "text": [
      "127.0.0.1 - - [23/Jul/2019 14:32:48] \"POST /null/0/setStartTime HTTP/1.1\" 200 -\n",
      "127.0.0.1 - - [23/Jul/2019 14:32:48] \"POST /null/0/setStartTime HTTP/1.1\" 200 -\n"
     ]
    },
    {
     "name": "stdout",
     "output_type": "stream",
     "text": [
      "null 0\n",
      "{'StartTime': '2:32:48 PM'}\n",
      "{'StartTime': '2:32:48 PM'}\n",
      "null 0\n",
      "{'StartTime': '2:32:48 PM'}\n",
      "{'StartTime': '2:32:48 PM'}\n"
     ]
    },
    {
     "name": "stderr",
     "output_type": "stream",
     "text": [
      "127.0.0.1 - - [23/Jul/2019 14:32:48] \"POST /null/0/setStartTime HTTP/1.1\" 200 -\n"
     ]
    },
    {
     "name": "stdout",
     "output_type": "stream",
     "text": [
      "null 0\n",
      "{'StartTime': '2:32:48 PM'}\n",
      "{'StartTime': '2:32:48 PM'}\n"
     ]
    },
    {
     "name": "stderr",
     "output_type": "stream",
     "text": [
      "127.0.0.1 - - [23/Jul/2019 14:33:16] \"OPTIONS /null/0/setStartTime HTTP/1.1\" 200 -\n",
      "127.0.0.1 - - [23/Jul/2019 14:33:16] \"POST /null/0/setStartTime HTTP/1.1\" 200 -\n"
     ]
    },
    {
     "name": "stdout",
     "output_type": "stream",
     "text": [
      "null 0\n",
      "{'StartTime': '2:33:16 PM'}\n",
      "{'StartTime': '2:33:16 PM'}\n"
     ]
    },
    {
     "name": "stderr",
     "output_type": "stream",
     "text": [
      "127.0.0.1 - - [23/Jul/2019 14:33:18] \"OPTIONS /getState HTTP/1.1\" 200 -\n",
      "127.0.0.1 - - [23/Jul/2019 14:33:18] \"POST /getState HTTP/1.1\" 200 -\n",
      "127.0.0.1 - - [23/Jul/2019 14:42:05] \"OPTIONS /0/7/setStartTime HTTP/1.1\" 200 -\n",
      "127.0.0.1 - - [23/Jul/2019 14:42:05] \"POST /0/7/setStartTime HTTP/1.1\" 200 -\n"
     ]
    },
    {
     "name": "stdout",
     "output_type": "stream",
     "text": [
      "0 7\n",
      "{'StartTime': '2:42:05 PM'}\n",
      "{'StartTime': '2:42:05 PM'}\n"
     ]
    },
    {
     "name": "stderr",
     "output_type": "stream",
     "text": [
      "127.0.0.1 - - [23/Jul/2019 14:42:05] \"POST /0/7/setStartTime HTTP/1.1\" 200 -\n"
     ]
    },
    {
     "name": "stdout",
     "output_type": "stream",
     "text": [
      "0 7\n",
      "{'StartTime': '2:42:05 PM'}\n",
      "{'StartTime': '2:42:05 PM'}\n"
     ]
    },
    {
     "name": "stderr",
     "output_type": "stream",
     "text": [
      "127.0.0.1 - - [23/Jul/2019 14:42:06] \"POST /0/7/setStartTime HTTP/1.1\" 200 -\n"
     ]
    },
    {
     "name": "stdout",
     "output_type": "stream",
     "text": [
      "0 7\n",
      "{'StartTime': '2:42:06 PM'}\n",
      "{'StartTime': '2:42:06 PM'}\n"
     ]
    },
    {
     "name": "stderr",
     "output_type": "stream",
     "text": [
      "127.0.0.1 - - [23/Jul/2019 14:42:06] \"POST /0/7/setStartTime HTTP/1.1\" 200 -\n"
     ]
    },
    {
     "name": "stdout",
     "output_type": "stream",
     "text": [
      "0 7\n",
      "{'StartTime': '2:42:06 PM'}\n",
      "{'StartTime': '2:42:06 PM'}\n"
     ]
    },
    {
     "name": "stderr",
     "output_type": "stream",
     "text": [
      "127.0.0.1 - - [23/Jul/2019 14:42:07] \"POST /0/7/setStartTime HTTP/1.1\" 200 -\n"
     ]
    },
    {
     "name": "stdout",
     "output_type": "stream",
     "text": [
      "0 7\n",
      "{'StartTime': '2:42:07 PM'}\n",
      "{'StartTime': '2:42:07 PM'}\n"
     ]
    },
    {
     "name": "stderr",
     "output_type": "stream",
     "text": [
      "127.0.0.1 - - [23/Jul/2019 14:42:08] \"OPTIONS /0/6/setStartTime HTTP/1.1\" 200 -\n",
      "127.0.0.1 - - [23/Jul/2019 14:42:08] \"POST /0/6/setStartTime HTTP/1.1\" 200 -\n"
     ]
    },
    {
     "name": "stdout",
     "output_type": "stream",
     "text": [
      "0 6\n",
      "{'StartTime': '2:42:08 PM'}\n",
      "{'StartTime': '2:42:08 PM'}\n"
     ]
    },
    {
     "name": "stderr",
     "output_type": "stream",
     "text": [
      "127.0.0.1 - - [23/Jul/2019 14:42:09] \"OPTIONS /0/5/setStartTime HTTP/1.1\" 200 -\n",
      "127.0.0.1 - - [23/Jul/2019 14:42:09] \"POST /0/5/setStartTime HTTP/1.1\" 200 -\n"
     ]
    },
    {
     "name": "stdout",
     "output_type": "stream",
     "text": [
      "0 5\n",
      "{'StartTime': '2:42:09 PM'}\n",
      "{'StartTime': '2:42:09 PM'}\n"
     ]
    },
    {
     "name": "stderr",
     "output_type": "stream",
     "text": [
      "127.0.0.1 - - [23/Jul/2019 14:42:09] \"POST /0/6/setStartTime HTTP/1.1\" 200 -\n"
     ]
    },
    {
     "name": "stdout",
     "output_type": "stream",
     "text": [
      "0 6\n",
      "{'StartTime': '2:42:09 PM'}\n",
      "{'StartTime': '2:42:09 PM'}\n"
     ]
    },
    {
     "name": "stderr",
     "output_type": "stream",
     "text": [
      "127.0.0.1 - - [23/Jul/2019 14:42:10] \"OPTIONS /0/7/setStartTime HTTP/1.1\" 200 -\n",
      "127.0.0.1 - - [23/Jul/2019 14:42:10] \"POST /0/7/setStartTime HTTP/1.1\" 200 -\n"
     ]
    },
    {
     "name": "stdout",
     "output_type": "stream",
     "text": [
      "0 7\n",
      "{'StartTime': '2:42:10 PM'}\n",
      "{'StartTime': '2:42:10 PM'}\n"
     ]
    },
    {
     "name": "stderr",
     "output_type": "stream",
     "text": [
      "127.0.0.1 - - [23/Jul/2019 14:42:23] \"OPTIONS /getState HTTP/1.1\" 200 -\n",
      "127.0.0.1 - - [23/Jul/2019 14:42:23] \"POST /getState HTTP/1.1\" 200 -\n",
      "127.0.0.1 - - [23/Jul/2019 14:42:28] \"OPTIONS /getState HTTP/1.1\" 200 -\n",
      "127.0.0.1 - - [23/Jul/2019 14:42:28] \"POST /getState HTTP/1.1\" 200 -\n",
      "127.0.0.1 - - [23/Jul/2019 14:42:32] \"OPTIONS /2/0/setStartTime HTTP/1.1\" 200 -\n",
      "127.0.0.1 - - [23/Jul/2019 14:42:32] \"POST /2/0/setStartTime HTTP/1.1\" 200 -\n"
     ]
    },
    {
     "name": "stdout",
     "output_type": "stream",
     "text": [
      "2 0\n",
      "{'StartTime': '2019-07-24T00:42:32.433Z'}\n",
      "{'StartTime': '2019-07-24T00:42:32.433Z'}\n"
     ]
    },
    {
     "name": "stderr",
     "output_type": "stream",
     "text": [
      "127.0.0.1 - - [23/Jul/2019 14:42:33] \"OPTIONS /2/1/setStartTime HTTP/1.1\" 200 -\n",
      "127.0.0.1 - - [23/Jul/2019 14:42:33] \"POST /2/1/setStartTime HTTP/1.1\" 200 -\n"
     ]
    },
    {
     "name": "stdout",
     "output_type": "stream",
     "text": [
      "2 1\n",
      "{'StartTime': '2019-07-24T00:42:33.191Z'}\n",
      "{'StartTime': '2019-07-24T00:42:33.191Z'}\n"
     ]
    },
    {
     "name": "stderr",
     "output_type": "stream",
     "text": [
      "127.0.0.1 - - [23/Jul/2019 14:42:33] \"OPTIONS /2/2/setStartTime HTTP/1.1\" 200 -\n",
      "127.0.0.1 - - [23/Jul/2019 14:42:33] \"POST /2/2/setStartTime HTTP/1.1\" 200 -\n"
     ]
    },
    {
     "name": "stdout",
     "output_type": "stream",
     "text": [
      "2 2\n",
      "{'StartTime': '2019-07-24T00:42:33.869Z'}\n",
      "{'StartTime': '2019-07-24T00:42:33.869Z'}\n"
     ]
    },
    {
     "name": "stderr",
     "output_type": "stream",
     "text": [
      "127.0.0.1 - - [23/Jul/2019 14:42:46] \"OPTIONS /getState HTTP/1.1\" 200 -\n",
      "127.0.0.1 - - [23/Jul/2019 14:42:47] \"POST /getState HTTP/1.1\" 200 -\n",
      "127.0.0.1 - - [23/Jul/2019 14:42:50] \"POST /getState HTTP/1.1\" 200 -\n",
      "127.0.0.1 - - [23/Jul/2019 14:42:51] \"OPTIONS /1/8/setStartTime HTTP/1.1\" 200 -\n",
      "127.0.0.1 - - [23/Jul/2019 14:42:51] \"POST /1/8/setStartTime HTTP/1.1\" 200 -\n"
     ]
    },
    {
     "name": "stdout",
     "output_type": "stream",
     "text": [
      "1 8\n",
      "{'StartTime': '00:42:51.838Z'}\n",
      "{'StartTime': '00:42:51.838Z'}\n"
     ]
    },
    {
     "name": "stderr",
     "output_type": "stream",
     "text": [
      "127.0.0.1 - - [23/Jul/2019 14:42:52] \"OPTIONS /1/9/setStartTime HTTP/1.1\" 200 -\n",
      "127.0.0.1 - - [23/Jul/2019 14:42:52] \"POST /1/9/setStartTime HTTP/1.1\" 200 -\n"
     ]
    },
    {
     "name": "stdout",
     "output_type": "stream",
     "text": [
      "1 9\n",
      "{'StartTime': '00:42:52.908Z'}\n",
      "{'StartTime': '00:42:52.908Z'}\n"
     ]
    },
    {
     "name": "stderr",
     "output_type": "stream",
     "text": [
      "127.0.0.1 - - [23/Jul/2019 14:42:53] \"OPTIONS /1/10/setStartTime HTTP/1.1\" 200 -\n",
      "127.0.0.1 - - [23/Jul/2019 14:42:53] \"POST /1/10/setStartTime HTTP/1.1\" 200 -\n"
     ]
    },
    {
     "name": "stdout",
     "output_type": "stream",
     "text": [
      "1 10\n",
      "{'StartTime': '00:42:53.532Z'}\n",
      "{'StartTime': '00:42:53.532Z'}\n"
     ]
    },
    {
     "name": "stderr",
     "output_type": "stream",
     "text": [
      "127.0.0.1 - - [23/Jul/2019 14:42:54] \"POST /1/10/setStartTime HTTP/1.1\" 200 -\n"
     ]
    },
    {
     "name": "stdout",
     "output_type": "stream",
     "text": [
      "1 10\n",
      "{'StartTime': '00:42:54.946Z'}\n",
      "{'StartTime': '00:42:54.946Z'}\n"
     ]
    },
    {
     "name": "stderr",
     "output_type": "stream",
     "text": [
      "127.0.0.1 - - [23/Jul/2019 14:42:55] \"POST /1/10/setStartTime HTTP/1.1\" 200 -\n"
     ]
    },
    {
     "name": "stdout",
     "output_type": "stream",
     "text": [
      "1 10\n",
      "{'StartTime': '00:42:55.907Z'}\n",
      "{'StartTime': '00:42:55.907Z'}\n"
     ]
    },
    {
     "name": "stderr",
     "output_type": "stream",
     "text": [
      "127.0.0.1 - - [23/Jul/2019 14:42:56] \"POST /1/10/setStartTime HTTP/1.1\" 200 -\n"
     ]
    },
    {
     "name": "stdout",
     "output_type": "stream",
     "text": [
      "1 10\n",
      "{'StartTime': '00:42:56.783Z'}\n",
      "{'StartTime': '00:42:56.783Z'}\n"
     ]
    },
    {
     "name": "stderr",
     "output_type": "stream",
     "text": [
      "127.0.0.1 - - [23/Jul/2019 14:42:57] \"POST /1/10/setStartTime HTTP/1.1\" 200 -\n"
     ]
    },
    {
     "name": "stdout",
     "output_type": "stream",
     "text": [
      "1 10\n",
      "{'StartTime': '00:42:57.601Z'}\n",
      "{'StartTime': '00:42:57.601Z'}\n"
     ]
    },
    {
     "name": "stderr",
     "output_type": "stream",
     "text": [
      "127.0.0.1 - - [23/Jul/2019 14:42:58] \"POST /1/10/setStartTime HTTP/1.1\" 200 -\n"
     ]
    },
    {
     "name": "stdout",
     "output_type": "stream",
     "text": [
      "1 10\n",
      "{'StartTime': '00:42:58.327Z'}\n",
      "{'StartTime': '00:42:58.327Z'}\n"
     ]
    },
    {
     "name": "stderr",
     "output_type": "stream",
     "text": [
      "127.0.0.1 - - [23/Jul/2019 14:42:59] \"OPTIONS /1/10/setStartTime HTTP/1.1\" 200 -\n",
      "127.0.0.1 - - [23/Jul/2019 14:42:59] \"POST /1/10/setStartTime HTTP/1.1\" 200 -\n"
     ]
    },
    {
     "name": "stdout",
     "output_type": "stream",
     "text": [
      "1 10\n",
      "{'StartTime': '00:42:59.006Z'}\n",
      "{'StartTime': '00:42:59.006Z'}\n"
     ]
    },
    {
     "name": "stderr",
     "output_type": "stream",
     "text": [
      "127.0.0.1 - - [23/Jul/2019 14:42:59] \"POST /1/10/setStartTime HTTP/1.1\" 200 -\n"
     ]
    },
    {
     "name": "stdout",
     "output_type": "stream",
     "text": [
      "1 10\n",
      "{'StartTime': '00:42:59.678Z'}\n",
      "{'StartTime': '00:42:59.678Z'}\n"
     ]
    },
    {
     "name": "stderr",
     "output_type": "stream",
     "text": [
      "127.0.0.1 - - [23/Jul/2019 14:43:00] \"POST /1/10/setStartTime HTTP/1.1\" 200 -\n"
     ]
    },
    {
     "name": "stdout",
     "output_type": "stream",
     "text": [
      "1 10\n",
      "{'StartTime': '00:43:00.357Z'}\n",
      "{'StartTime': '00:43:00.357Z'}\n"
     ]
    },
    {
     "name": "stderr",
     "output_type": "stream",
     "text": [
      "127.0.0.1 - - [23/Jul/2019 14:43:01] \"POST /1/10/setStartTime HTTP/1.1\" 200 -\n"
     ]
    },
    {
     "name": "stdout",
     "output_type": "stream",
     "text": [
      "1 10\n",
      "{'StartTime': '00:43:01.004Z'}\n",
      "{'StartTime': '00:43:01.004Z'}\n"
     ]
    },
    {
     "name": "stderr",
     "output_type": "stream",
     "text": [
      "127.0.0.1 - - [23/Jul/2019 14:43:01] \"POST /1/10/setStartTime HTTP/1.1\" 200 -\n"
     ]
    },
    {
     "name": "stdout",
     "output_type": "stream",
     "text": [
      "1 10\n",
      "{'StartTime': '00:43:01.794Z'}\n",
      "{'StartTime': '00:43:01.794Z'}\n"
     ]
    },
    {
     "name": "stderr",
     "output_type": "stream",
     "text": [
      "127.0.0.1 - - [23/Jul/2019 14:43:02] \"POST /1/10/setStartTime HTTP/1.1\" 200 -\n"
     ]
    },
    {
     "name": "stdout",
     "output_type": "stream",
     "text": [
      "1 10\n",
      "{'StartTime': '00:43:02.209Z'}\n",
      "{'StartTime': '00:43:02.209Z'}\n"
     ]
    },
    {
     "name": "stderr",
     "output_type": "stream",
     "text": [
      "127.0.0.1 - - [23/Jul/2019 14:43:02] \"POST /1/10/setStartTime HTTP/1.1\" 200 -\n"
     ]
    },
    {
     "name": "stdout",
     "output_type": "stream",
     "text": [
      "1 10\n",
      "{'StartTime': '00:43:02.677Z'}\n",
      "{'StartTime': '00:43:02.677Z'}\n"
     ]
    },
    {
     "name": "stderr",
     "output_type": "stream",
     "text": [
      "127.0.0.1 - - [23/Jul/2019 14:43:03] \"POST /1/10/setStartTime HTTP/1.1\" 200 -\n"
     ]
    },
    {
     "name": "stdout",
     "output_type": "stream",
     "text": [
      "1 10\n",
      "{'StartTime': '00:43:03.115Z'}\n",
      "{'StartTime': '00:43:03.115Z'}\n"
     ]
    },
    {
     "name": "stderr",
     "output_type": "stream",
     "text": [
      "127.0.0.1 - - [23/Jul/2019 14:43:30] \"OPTIONS /getState HTTP/1.1\" 200 -\n",
      "127.0.0.1 - - [23/Jul/2019 14:43:30] \"POST /getState HTTP/1.1\" 200 -\n",
      "127.0.0.1 - - [23/Jul/2019 14:43:35] \"POST /getState HTTP/1.1\" 200 -\n",
      "127.0.0.1 - - [23/Jul/2019 14:43:40] \"OPTIONS /getState HTTP/1.1\" 200 -\n",
      "127.0.0.1 - - [23/Jul/2019 14:43:40] \"POST /getState HTTP/1.1\" 200 -\n",
      "127.0.0.1 - - [23/Jul/2019 14:43:41] \"OPTIONS /1/8/setStartTime HTTP/1.1\" 200 -\n",
      "127.0.0.1 - - [23/Jul/2019 14:43:41] \"POST /1/8/setStartTime HTTP/1.1\" 200 -\n"
     ]
    },
    {
     "name": "stdout",
     "output_type": "stream",
     "text": [
      "1 8\n",
      "{'StartTime': '00:43:41.926Z'}\n",
      "{'StartTime': '00:43:41.926Z'}\n"
     ]
    },
    {
     "name": "stderr",
     "output_type": "stream",
     "text": [
      "127.0.0.1 - - [23/Jul/2019 14:43:42] \"OPTIONS /1/9/setStartTime HTTP/1.1\" 200 -\n",
      "127.0.0.1 - - [23/Jul/2019 14:43:42] \"POST /1/9/setStartTime HTTP/1.1\" 200 -\n"
     ]
    },
    {
     "name": "stdout",
     "output_type": "stream",
     "text": [
      "1 9\n",
      "{'StartTime': '00:43:42.567Z'}\n",
      "{'StartTime': '00:43:42.567Z'}\n"
     ]
    },
    {
     "name": "stderr",
     "output_type": "stream",
     "text": [
      "127.0.0.1 - - [23/Jul/2019 14:45:22] \"OPTIONS /getState HTTP/1.1\" 200 -\n",
      "127.0.0.1 - - [23/Jul/2019 14:45:22] \"POST /getState HTTP/1.1\" 200 -\n",
      "127.0.0.1 - - [23/Jul/2019 14:45:26] \"POST /getState HTTP/1.1\" 200 -\n",
      "127.0.0.1 - - [23/Jul/2019 14:45:27] \"OPTIONS /2/0/setEndTime HTTP/1.1\" 200 -\n",
      "127.0.0.1 - - [23/Jul/2019 14:45:27] \"POST /2/0/setEndTime HTTP/1.1\" 200 -\n",
      "127.0.0.1 - - [23/Jul/2019 14:45:28] \"OPTIONS /2/1/setEndTime HTTP/1.1\" 200 -\n",
      "127.0.0.1 - - [23/Jul/2019 14:45:28] \"POST /2/1/setEndTime HTTP/1.1\" 200 -\n",
      "127.0.0.1 - - [23/Jul/2019 14:45:29] \"OPTIONS /2/2/setEndTime HTTP/1.1\" 200 -\n",
      "127.0.0.1 - - [23/Jul/2019 14:45:29] \"POST /2/2/setEndTime HTTP/1.1\" 200 -\n",
      "127.0.0.1 - - [23/Jul/2019 14:45:31] \"OPTIONS /getState HTTP/1.1\" 200 -\n",
      "127.0.0.1 - - [23/Jul/2019 14:45:31] \"POST /getState HTTP/1.1\" 200 -\n",
      "127.0.0.1 - - [23/Jul/2019 14:45:35] \"POST /getState HTTP/1.1\" 200 -\n",
      "127.0.0.1 - - [23/Jul/2019 14:45:38] \"OPTIONS /getState HTTP/1.1\" 200 -\n",
      "127.0.0.1 - - [23/Jul/2019 14:45:38] \"POST /getState HTTP/1.1\" 200 -\n",
      "127.0.0.1 - - [23/Jul/2019 14:45:43] \"OPTIONS /getState HTTP/1.1\" 200 -\n",
      "127.0.0.1 - - [23/Jul/2019 14:45:43] \"POST /getState HTTP/1.1\" 200 -\n",
      "127.0.0.1 - - [23/Jul/2019 15:09:12] \"OPTIONS /getState HTTP/1.1\" 200 -\n",
      "127.0.0.1 - - [23/Jul/2019 15:09:12] \"POST /getState HTTP/1.1\" 200 -\n",
      "127.0.0.1 - - [23/Jul/2019 15:09:42] \"OPTIONS /getState HTTP/1.1\" 200 -\n",
      "127.0.0.1 - - [23/Jul/2019 15:09:42] \"POST /getState HTTP/1.1\" 200 -\n",
      "127.0.0.1 - - [23/Jul/2019 15:09:46] \"POST /getState HTTP/1.1\" 200 -\n",
      "127.0.0.1 - - [23/Jul/2019 15:09:50] \"OPTIONS /getState HTTP/1.1\" 200 -\n",
      "127.0.0.1 - - [23/Jul/2019 15:09:50] \"POST /getState HTTP/1.1\" 200 -\n",
      "127.0.0.1 - - [23/Jul/2019 15:10:06] \"OPTIONS /getState HTTP/1.1\" 200 -\n",
      "127.0.0.1 - - [23/Jul/2019 15:10:06] \"POST /getState HTTP/1.1\" 200 -\n",
      "127.0.0.1 - - [23/Jul/2019 15:13:27] \"OPTIONS /getState HTTP/1.1\" 200 -\n",
      "127.0.0.1 - - [23/Jul/2019 15:13:27] \"POST /getState HTTP/1.1\" 200 -\n",
      "127.0.0.1 - - [23/Jul/2019 15:13:29] \"OPTIONS /1/8/setEndTime HTTP/1.1\" 200 -\n",
      "127.0.0.1 - - [23/Jul/2019 15:13:29] \"POST /1/8/setEndTime HTTP/1.1\" 200 -\n",
      "127.0.0.1 - - [23/Jul/2019 15:13:30] \"OPTIONS /1/9/setEndTime HTTP/1.1\" 200 -\n",
      "127.0.0.1 - - [23/Jul/2019 15:13:30] \"POST /1/9/setEndTime HTTP/1.1\" 200 -\n",
      "127.0.0.1 - - [23/Jul/2019 15:13:31] \"OPTIONS /1/10/setEndTime HTTP/1.1\" 200 -\n",
      "127.0.0.1 - - [23/Jul/2019 15:13:31] \"POST /1/10/setEndTime HTTP/1.1\" 200 -\n",
      "127.0.0.1 - - [23/Jul/2019 15:13:36] \"OPTIONS /getState HTTP/1.1\" 200 -\n",
      "127.0.0.1 - - [23/Jul/2019 15:13:36] \"POST /getState HTTP/1.1\" 200 -\n",
      "127.0.0.1 - - [23/Jul/2019 15:13:43] \"OPTIONS /getState HTTP/1.1\" 200 -\n",
      "127.0.0.1 - - [23/Jul/2019 15:13:43] \"POST /getState HTTP/1.1\" 200 -\n",
      "127.0.0.1 - - [23/Jul/2019 15:13:49] \"OPTIONS /2/3/setEndTime HTTP/1.1\" 200 -\n",
      "127.0.0.1 - - [23/Jul/2019 15:13:49] \"POST /2/3/setEndTime HTTP/1.1\" 200 -\n",
      "127.0.0.1 - - [23/Jul/2019 15:13:49] \"OPTIONS /2/4/setEndTime HTTP/1.1\" 200 -\n",
      "127.0.0.1 - - [23/Jul/2019 15:13:49] \"POST /2/4/setEndTime HTTP/1.1\" 200 -\n",
      "127.0.0.1 - - [23/Jul/2019 15:13:51] \"OPTIONS /getState HTTP/1.1\" 200 -\n",
      "127.0.0.1 - - [23/Jul/2019 15:13:51] \"POST /getState HTTP/1.1\" 200 -\n",
      "127.0.0.1 - - [23/Jul/2019 15:15:41] \"OPTIONS /getState HTTP/1.1\" 200 -\n",
      "127.0.0.1 - - [23/Jul/2019 15:15:41] \"POST /getState HTTP/1.1\" 200 -\n",
      "127.0.0.1 - - [23/Jul/2019 15:16:01] \"OPTIONS /2/3/setEndTime HTTP/1.1\" 200 -\n",
      "127.0.0.1 - - [23/Jul/2019 15:16:01] \"POST /2/3/setEndTime HTTP/1.1\" 200 -\n",
      "127.0.0.1 - - [23/Jul/2019 15:17:04] \"OPTIONS /getState HTTP/1.1\" 200 -\n",
      "127.0.0.1 - - [23/Jul/2019 15:17:04] \"POST /getState HTTP/1.1\" 200 -\n",
      "127.0.0.1 - - [23/Jul/2019 15:17:12] \"OPTIONS /3/addBoat HTTP/1.1\" 200 -\n",
      "127.0.0.1 - - [23/Jul/2019 15:17:12] \"POST /3/addBoat HTTP/1.1\" 200 -\n",
      "127.0.0.1 - - [23/Jul/2019 15:17:14] \"POST /3/addBoat HTTP/1.1\" 200 -\n",
      "127.0.0.1 - - [23/Jul/2019 15:17:14] \"POST /3/addBoat HTTP/1.1\" 200 -\n",
      "127.0.0.1 - - [23/Jul/2019 15:17:17] \"OPTIONS /3/addBoat HTTP/1.1\" 200 -\n",
      "127.0.0.1 - - [23/Jul/2019 15:17:17] \"POST /3/addBoat HTTP/1.1\" 200 -\n",
      "127.0.0.1 - - [23/Jul/2019 15:17:21] \"OPTIONS /3/12/setStartTime HTTP/1.1\" 200 -\n",
      "127.0.0.1 - - [23/Jul/2019 15:17:21] \"POST /3/12/setStartTime HTTP/1.1\" 200 -\n"
     ]
    },
    {
     "name": "stdout",
     "output_type": "stream",
     "text": [
      "3 12\n",
      "{'StartTime': '01:17:21.935Z'}\n",
      "{'StartTime': '01:17:21.935Z'}\n"
     ]
    },
    {
     "name": "stderr",
     "output_type": "stream",
     "text": [
      "127.0.0.1 - - [23/Jul/2019 15:17:22] \"OPTIONS /3/12/setEndTime HTTP/1.1\" 200 -\n",
      "127.0.0.1 - - [23/Jul/2019 15:17:22] \"POST /3/12/setEndTime HTTP/1.1\" 200 -\n",
      "127.0.0.1 - - [23/Jul/2019 15:17:23] \"OPTIONS /3/13/setStartTime HTTP/1.1\" 200 -\n",
      "127.0.0.1 - - [23/Jul/2019 15:17:23] \"POST /3/13/setStartTime HTTP/1.1\" 200 -\n"
     ]
    },
    {
     "name": "stdout",
     "output_type": "stream",
     "text": [
      "3 13\n",
      "{'StartTime': '01:17:23.413Z'}\n",
      "{'StartTime': '01:17:23.413Z'}\n"
     ]
    },
    {
     "name": "stderr",
     "output_type": "stream",
     "text": [
      "127.0.0.1 - - [23/Jul/2019 15:17:24] \"OPTIONS /3/13/setEndTime HTTP/1.1\" 200 -\n",
      "127.0.0.1 - - [23/Jul/2019 15:17:24] \"POST /3/13/setEndTime HTTP/1.1\" 200 -\n",
      "127.0.0.1 - - [23/Jul/2019 15:17:24] \"OPTIONS /3/14/setStartTime HTTP/1.1\" 200 -\n",
      "127.0.0.1 - - [23/Jul/2019 15:17:24] \"POST /3/14/setStartTime HTTP/1.1\" 200 -\n"
     ]
    },
    {
     "name": "stdout",
     "output_type": "stream",
     "text": [
      "3 14\n",
      "{'StartTime': '01:17:24.575Z'}\n",
      "{'StartTime': '01:17:24.575Z'}\n"
     ]
    },
    {
     "name": "stderr",
     "output_type": "stream",
     "text": [
      "127.0.0.1 - - [23/Jul/2019 15:17:25] \"OPTIONS /3/14/setEndTime HTTP/1.1\" 200 -\n",
      "127.0.0.1 - - [23/Jul/2019 15:17:25] \"POST /3/14/setEndTime HTTP/1.1\" 200 -\n",
      "127.0.0.1 - - [23/Jul/2019 15:17:25] \"OPTIONS /3/15/setStartTime HTTP/1.1\" 200 -\n",
      "127.0.0.1 - - [23/Jul/2019 15:17:25] \"POST /3/15/setStartTime HTTP/1.1\" 200 -\n"
     ]
    },
    {
     "name": "stdout",
     "output_type": "stream",
     "text": [
      "3 15\n",
      "{'StartTime': '01:17:25.559Z'}\n",
      "{'StartTime': '01:17:25.559Z'}\n"
     ]
    },
    {
     "name": "stderr",
     "output_type": "stream",
     "text": [
      "127.0.0.1 - - [23/Jul/2019 15:17:25] \"OPTIONS /3/15/setEndTime HTTP/1.1\" 200 -\n",
      "127.0.0.1 - - [23/Jul/2019 15:17:25] \"POST /3/15/setEndTime HTTP/1.1\" 200 -\n",
      "127.0.0.1 - - [23/Jul/2019 15:17:26] \"OPTIONS /3/16/setStartTime HTTP/1.1\" 200 -\n",
      "127.0.0.1 - - [23/Jul/2019 15:17:26] \"POST /3/16/setStartTime HTTP/1.1\" 200 -\n"
     ]
    },
    {
     "name": "stdout",
     "output_type": "stream",
     "text": [
      "3 16\n",
      "{'StartTime': '01:17:26.464Z'}\n",
      "{'StartTime': '01:17:26.464Z'}\n"
     ]
    },
    {
     "name": "stderr",
     "output_type": "stream",
     "text": [
      "127.0.0.1 - - [23/Jul/2019 15:17:26] \"OPTIONS /3/16/setEndTime HTTP/1.1\" 200 -\n",
      "127.0.0.1 - - [23/Jul/2019 15:17:26] \"POST /3/16/setEndTime HTTP/1.1\" 200 -\n",
      "127.0.0.1 - - [23/Jul/2019 15:17:27] \"OPTIONS /3/17/setStartTime HTTP/1.1\" 200 -\n",
      "127.0.0.1 - - [23/Jul/2019 15:17:27] \"POST /3/17/setStartTime HTTP/1.1\" 200 -\n"
     ]
    },
    {
     "name": "stdout",
     "output_type": "stream",
     "text": [
      "3 17\n",
      "{'StartTime': '01:17:27.520Z'}\n",
      "{'StartTime': '01:17:27.520Z'}\n"
     ]
    },
    {
     "name": "stderr",
     "output_type": "stream",
     "text": [
      "127.0.0.1 - - [23/Jul/2019 15:17:27] \"OPTIONS /3/17/setEndTime HTTP/1.1\" 200 -\n",
      "127.0.0.1 - - [23/Jul/2019 15:17:27] \"POST /3/17/setEndTime HTTP/1.1\" 200 -\n",
      "127.0.0.1 - - [23/Jul/2019 17:11:50] \"OPTIONS /3/13/setEndTime HTTP/1.1\" 200 -\n",
      "127.0.0.1 - - [23/Jul/2019 17:11:50] \"POST /3/13/setEndTime HTTP/1.1\" 200 -\n",
      "127.0.0.1 - - [23/Jul/2019 17:11:51] \"POST /3/13/setEndTime HTTP/1.1\" 200 -\n",
      "127.0.0.1 - - [23/Jul/2019 17:11:51] \"POST /3/13/setEndTime HTTP/1.1\" 200 -\n",
      "127.0.0.1 - - [23/Jul/2019 17:11:51] \"POST /3/13/setEndTime HTTP/1.1\" 200 -\n",
      "127.0.0.1 - - [23/Jul/2019 17:11:52] \"POST /3/13/setEndTime HTTP/1.1\" 200 -\n",
      "127.0.0.1 - - [23/Jul/2019 17:11:52] \"POST /3/13/setEndTime HTTP/1.1\" 200 -\n",
      "127.0.0.1 - - [23/Jul/2019 17:11:52] \"POST /3/13/setEndTime HTTP/1.1\" 200 -\n",
      "127.0.0.1 - - [23/Jul/2019 17:11:53] \"POST /3/13/setEndTime HTTP/1.1\" 200 -\n",
      "127.0.0.1 - - [23/Jul/2019 17:11:53] \"POST /3/13/setEndTime HTTP/1.1\" 200 -\n",
      "127.0.0.1 - - [23/Jul/2019 17:11:53] \"POST /3/13/setEndTime HTTP/1.1\" 200 -\n",
      "127.0.0.1 - - [23/Jul/2019 17:11:53] \"POST /3/13/setEndTime HTTP/1.1\" 200 -\n",
      "127.0.0.1 - - [23/Jul/2019 17:11:53] \"POST /3/13/setEndTime HTTP/1.1\" 200 -\n",
      "127.0.0.1 - - [23/Jul/2019 17:11:54] \"POST /3/13/setEndTime HTTP/1.1\" 200 -\n",
      "127.0.0.1 - - [23/Jul/2019 17:11:54] \"POST /3/13/setEndTime HTTP/1.1\" 200 -\n",
      "127.0.0.1 - - [23/Jul/2019 17:11:54] \"POST /3/13/setEndTime HTTP/1.1\" 200 -\n",
      "127.0.0.1 - - [23/Jul/2019 17:11:54] \"POST /3/13/setEndTime HTTP/1.1\" 200 -\n",
      "127.0.0.1 - - [23/Jul/2019 17:11:54] \"POST /3/13/setEndTime HTTP/1.1\" 200 -\n",
      "127.0.0.1 - - [23/Jul/2019 17:11:55] \"POST /3/13/setEndTime HTTP/1.1\" 200 -\n",
      "127.0.0.1 - - [23/Jul/2019 17:11:56] \"OPTIONS /3/12/setEndTime HTTP/1.1\" 200 -\n",
      "127.0.0.1 - - [23/Jul/2019 17:11:56] \"POST /3/12/setEndTime HTTP/1.1\" 200 -\n",
      "127.0.0.1 - - [23/Jul/2019 17:11:57] \"POST /3/12/setEndTime HTTP/1.1\" 200 -\n",
      "127.0.0.1 - - [23/Jul/2019 17:11:57] \"OPTIONS /3/11/setEndTime HTTP/1.1\" 200 -\n",
      "127.0.0.1 - - [23/Jul/2019 17:11:57] \"POST /3/11/setEndTime HTTP/1.1\" 200 -\n",
      "127.0.0.1 - - [23/Jul/2019 17:11:58] \"POST /3/11/setEndTime HTTP/1.1\" 200 -\n",
      "127.0.0.1 - - [23/Jul/2019 17:11:58] \"POST /3/11/setEndTime HTTP/1.1\" 200 -\n",
      "127.0.0.1 - - [23/Jul/2019 17:11:58] \"OPTIONS /3/14/setEndTime HTTP/1.1\" 200 -\n",
      "127.0.0.1 - - [23/Jul/2019 17:11:58] \"POST /3/14/setEndTime HTTP/1.1\" 200 -\n",
      "127.0.0.1 - - [23/Jul/2019 17:12:02] \"OPTIONS /getState HTTP/1.1\" 200 -\n",
      "127.0.0.1 - - [23/Jul/2019 17:12:02] \"POST /getState HTTP/1.1\" 200 -\n",
      "127.0.0.1 - - [23/Jul/2019 17:12:08] \"OPTIONS /0/5/setEndTime HTTP/1.1\" 200 -\n",
      "127.0.0.1 - - [23/Jul/2019 17:12:08] \"POST /0/5/setEndTime HTTP/1.1\" 200 -\n",
      "127.0.0.1 - - [23/Jul/2019 17:12:08] \"OPTIONS /0/6/setEndTime HTTP/1.1\" 200 -\n",
      "127.0.0.1 - - [23/Jul/2019 17:12:08] \"POST /0/6/setEndTime HTTP/1.1\" 200 -\n",
      "127.0.0.1 - - [23/Jul/2019 17:12:09] \"OPTIONS /0/7/setEndTime HTTP/1.1\" 200 -\n",
      "127.0.0.1 - - [23/Jul/2019 17:12:09] \"POST /0/7/setEndTime HTTP/1.1\" 200 -\n",
      "127.0.0.1 - - [23/Jul/2019 17:12:10] \"POST /0/5/setEndTime HTTP/1.1\" 200 -\n",
      "127.0.0.1 - - [23/Jul/2019 17:12:11] \"POST /0/6/setEndTime HTTP/1.1\" 200 -\n",
      "127.0.0.1 - - [23/Jul/2019 17:12:11] \"POST /0/7/setEndTime HTTP/1.1\" 200 -\n",
      "127.0.0.1 - - [23/Jul/2019 17:12:17] \"OPTIONS /0/5/setEndTime HTTP/1.1\" 200 -\n",
      "127.0.0.1 - - [23/Jul/2019 17:12:17] \"POST /0/5/setEndTime HTTP/1.1\" 200 -\n",
      "127.0.0.1 - - [23/Jul/2019 17:12:17] \"OPTIONS /0/6/setEndTime HTTP/1.1\" 200 -\n",
      "127.0.0.1 - - [23/Jul/2019 17:12:17] \"POST /0/6/setEndTime HTTP/1.1\" 200 -\n",
      "127.0.0.1 - - [23/Jul/2019 17:12:18] \"OPTIONS /0/7/setEndTime HTTP/1.1\" 200 -\n",
      "127.0.0.1 - - [23/Jul/2019 17:12:18] \"POST /0/7/setEndTime HTTP/1.1\" 200 -\n",
      "127.0.0.1 - - [23/Jul/2019 17:12:21] \"OPTIONS /0/addBoat HTTP/1.1\" 200 -\n",
      "127.0.0.1 - - [23/Jul/2019 17:12:21] \"POST /0/addBoat HTTP/1.1\" 200 -\n",
      "127.0.0.1 - - [23/Jul/2019 17:12:22] \"POST /0/addBoat HTTP/1.1\" 200 -\n",
      "127.0.0.1 - - [23/Jul/2019 17:12:22] \"POST /0/addBoat HTTP/1.1\" 200 -\n",
      "127.0.0.1 - - [23/Jul/2019 17:12:25] \"OPTIONS /0/6/setEndTime HTTP/1.1\" 200 -\n",
      "127.0.0.1 - - [23/Jul/2019 17:12:25] \"POST /0/6/setEndTime HTTP/1.1\" 200 -\n",
      "127.0.0.1 - - [23/Jul/2019 17:12:26] \"OPTIONS /0/19/setStartTime HTTP/1.1\" 200 -\n",
      "127.0.0.1 - - [23/Jul/2019 17:12:26] \"POST /0/19/setStartTime HTTP/1.1\" 200 -\n"
     ]
    },
    {
     "name": "stdout",
     "output_type": "stream",
     "text": [
      "0 19\n",
      "{'StartTime': '03:12:26.388Z'}\n",
      "{'StartTime': '03:12:26.388Z'}\n"
     ]
    },
    {
     "name": "stderr",
     "output_type": "stream",
     "text": [
      "127.0.0.1 - - [23/Jul/2019 17:12:27] \"OPTIONS /0/20/setStartTime HTTP/1.1\" 200 -\n",
      "127.0.0.1 - - [23/Jul/2019 17:12:27] \"POST /0/20/setStartTime HTTP/1.1\" 200 -\n"
     ]
    },
    {
     "name": "stdout",
     "output_type": "stream",
     "text": [
      "0 20\n",
      "{'StartTime': '03:12:27.265Z'}\n",
      "{'StartTime': '03:12:27.265Z'}\n"
     ]
    },
    {
     "name": "stderr",
     "output_type": "stream",
     "text": [
      "127.0.0.1 - - [23/Jul/2019 17:12:27] \"OPTIONS /0/20/setEndTime HTTP/1.1\" 200 -\n",
      "127.0.0.1 - - [23/Jul/2019 17:12:27] \"POST /0/20/setEndTime HTTP/1.1\" 200 -\n",
      "127.0.0.1 - - [23/Jul/2019 17:12:28] \"OPTIONS /0/18/setStartTime HTTP/1.1\" 200 -\n",
      "127.0.0.1 - - [23/Jul/2019 17:12:28] \"POST /0/18/setStartTime HTTP/1.1\" 200 -\n"
     ]
    },
    {
     "name": "stdout",
     "output_type": "stream",
     "text": [
      "0 18\n",
      "{'StartTime': '03:12:28.380Z'}\n",
      "{'StartTime': '03:12:28.380Z'}\n"
     ]
    },
    {
     "name": "stderr",
     "output_type": "stream",
     "text": [
      "127.0.0.1 - - [23/Jul/2019 17:12:28] \"OPTIONS /0/18/setEndTime HTTP/1.1\" 200 -\n",
      "127.0.0.1 - - [23/Jul/2019 17:12:28] \"POST /0/18/setEndTime HTTP/1.1\" 200 -\n",
      "127.0.0.1 - - [23/Jul/2019 17:12:29] \"OPTIONS /0/19/setEndTime HTTP/1.1\" 200 -\n",
      "127.0.0.1 - - [23/Jul/2019 17:12:29] \"POST /0/19/setEndTime HTTP/1.1\" 200 -\n",
      "127.0.0.1 - - [23/Jul/2019 17:12:30] \"POST /0/18/setEndTime HTTP/1.1\" 200 -\n",
      "127.0.0.1 - - [23/Jul/2019 17:12:31] \"POST /0/19/setEndTime HTTP/1.1\" 200 -\n",
      "127.0.0.1 - - [23/Jul/2019 17:12:50] \"OPTIONS /3/12/setEndTime HTTP/1.1\" 200 -\n",
      "127.0.0.1 - - [23/Jul/2019 17:12:50] \"POST /3/12/setEndTime HTTP/1.1\" 200 -\n",
      "127.0.0.1 - - [23/Jul/2019 17:12:51] \"OPTIONS /3/13/setEndTime HTTP/1.1\" 200 -\n",
      "127.0.0.1 - - [23/Jul/2019 17:12:51] \"POST /3/13/setEndTime HTTP/1.1\" 200 -\n",
      "127.0.0.1 - - [23/Jul/2019 17:12:51] \"OPTIONS /3/14/setEndTime HTTP/1.1\" 200 -\n",
      "127.0.0.1 - - [23/Jul/2019 17:12:51] \"POST /3/14/setEndTime HTTP/1.1\" 200 -\n",
      "127.0.0.1 - - [23/Jul/2019 17:12:52] \"OPTIONS /3/16/setEndTime HTTP/1.1\" 200 -\n",
      "127.0.0.1 - - [23/Jul/2019 17:12:52] \"POST /3/16/setEndTime HTTP/1.1\" 200 -\n",
      "127.0.0.1 - - [23/Jul/2019 17:12:59] \"OPTIONS /3/11/setEndTime HTTP/1.1\" 200 -\n",
      "127.0.0.1 - - [23/Jul/2019 17:12:59] \"POST /3/11/setEndTime HTTP/1.1\" 200 -\n",
      "127.0.0.1 - - [23/Jul/2019 17:13:02] \"OPTIONS /addHeat HTTP/1.1\" 200 -\n",
      "127.0.0.1 - - [23/Jul/2019 17:13:02] \"POST /addHeat HTTP/1.1\" 200 -\n"
     ]
    },
    {
     "name": "stdout",
     "output_type": "stream",
     "text": [
      "{'heats': [{'id': '0', 'boats': [{'id': '5', 'name': 'Name Me', 'color': None, 'StartTime': '2:42:09 PM', 'EndTime': '03:12:17.334Z'}, {'id': '6', 'name': 'Name Me', 'color': None, 'StartTime': '2:42:09 PM', 'EndTime': '03:12:25.436Z'}, {'id': '7', 'name': 'Name Me', 'color': None, 'StartTime': '2:42:10 PM', 'EndTime': '03:12:18.326Z'}, {'id': '18', 'name': 'Name Me', 'color': None, 'StartTime': '03:12:28.380Z', 'EndTime': '03:12:30.818Z'}, {'id': '19', 'name': 'Name Me', 'color': None, 'StartTime': '03:12:26.388Z', 'EndTime': '03:12:31.288Z'}, {'id': '20', 'name': 'Name Me', 'color': None, 'StartTime': '03:12:27.265Z', 'EndTime': '03:12:27.748Z'}]}, {'id': '1', 'boats': [{'id': '8', 'name': 'Name Me', 'color': None, 'StartTime': '00:43:41.926Z', 'EndTime': '01:13:29.885Z'}, {'id': '9', 'name': 'Name Me', 'color': None, 'StartTime': '00:43:42.567Z', 'EndTime': '01:13:30.736Z'}, {'id': '10', 'name': 'Name Me', 'color': None, 'StartTime': '00:43:03.115Z', 'EndTime': '01:13:31.205Z'}]}, {'id': '2', 'boats': [{'id': '0', 'name': 'Name Me', 'color': None, 'StartTime': '2019-07-24T00:42:32.433Z', 'EndTime': '00:45:27.879Z'}, {'id': '1', 'name': 'Name Me', 'color': None, 'StartTime': '2019-07-24T00:42:33.191Z', 'EndTime': '00:45:28.732Z'}, {'id': '2', 'name': 'Name Me', 'color': None, 'StartTime': '2019-07-24T00:42:33.869Z', 'EndTime': '00:45:29.269Z'}, {'id': '3', 'name': 'Name Me', 'color': None, 'StartTime': '2:32:00 PM', 'EndTime': '01:16:01.185Z'}, {'id': '4', 'name': 'Name Me', 'color': None, 'StartTime': '2:32:00 PM', 'EndTime': '01:13:49.815Z'}]}, {'id': '3', 'boats': [{'id': '11', 'name': 'Name Me', 'color': None, 'StartTime': '2:32:41 PM', 'EndTime': '03:12:59.091Z'}, {'id': '12', 'name': 'Name Me', 'color': None, 'StartTime': '01:17:21.935Z', 'EndTime': '03:12:50.709Z'}, {'id': '13', 'name': 'Name Me', 'color': None, 'StartTime': '01:17:23.413Z', 'EndTime': '03:12:51.266Z'}, {'id': '14', 'name': 'Name Me', 'color': None, 'StartTime': '01:17:24.575Z', 'EndTime': '03:12:51.717Z'}, {'id': '15', 'name': 'Name Me', 'color': None, 'StartTime': '01:17:25.559Z', 'EndTime': '01:17:25.981Z'}, {'id': '16', 'name': 'Name Me', 'color': None, 'StartTime': '01:17:26.464Z', 'EndTime': '03:12:52.264Z'}, {'id': '17', 'name': 'Name Me', 'color': None, 'StartTime': '01:17:27.520Z', 'EndTime': '01:17:27.965Z'}]}], 'stateId': 256}\n"
     ]
    },
    {
     "name": "stderr",
     "output_type": "stream",
     "text": [
      "127.0.0.1 - - [23/Jul/2019 17:13:03] \"OPTIONS /4/addBoat HTTP/1.1\" 200 -\n",
      "127.0.0.1 - - [23/Jul/2019 17:13:03] \"POST /4/addBoat HTTP/1.1\" 200 -\n",
      "127.0.0.1 - - [23/Jul/2019 17:13:03] \"POST /4/addBoat HTTP/1.1\" 200 -\n",
      "127.0.0.1 - - [23/Jul/2019 17:13:04] \"POST /4/addBoat HTTP/1.1\" 200 -\n",
      "127.0.0.1 - - [23/Jul/2019 17:13:07] \"OPTIONS /4/23/setStartTime HTTP/1.1\" 200 -\n",
      "127.0.0.1 - - [23/Jul/2019 17:13:07] \"POST /4/23/setStartTime HTTP/1.1\" 200 -\n"
     ]
    },
    {
     "name": "stdout",
     "output_type": "stream",
     "text": [
      "4 23\n",
      "{'StartTime': '03:13:07.075Z'}\n",
      "{'StartTime': '03:13:07.075Z'}\n"
     ]
    },
    {
     "name": "stderr",
     "output_type": "stream",
     "text": [
      "127.0.0.1 - - [23/Jul/2019 17:13:07] \"OPTIONS /4/22/setStartTime HTTP/1.1\" 200 -\n",
      "127.0.0.1 - - [23/Jul/2019 17:13:07] \"POST /4/22/setStartTime HTTP/1.1\" 200 -\n"
     ]
    },
    {
     "name": "stdout",
     "output_type": "stream",
     "text": [
      "4 22\n",
      "{'StartTime': '03:13:07.724Z'}\n",
      "{'StartTime': '03:13:07.724Z'}\n"
     ]
    },
    {
     "name": "stderr",
     "output_type": "stream",
     "text": [
      "127.0.0.1 - - [23/Jul/2019 17:13:08] \"OPTIONS /4/21/setStartTime HTTP/1.1\" 200 -\n",
      "127.0.0.1 - - [23/Jul/2019 17:13:08] \"POST /4/21/setStartTime HTTP/1.1\" 200 -\n"
     ]
    },
    {
     "name": "stdout",
     "output_type": "stream",
     "text": [
      "4 21\n",
      "{'StartTime': '03:13:08.052Z'}\n",
      "{'StartTime': '03:13:08.052Z'}\n"
     ]
    },
    {
     "name": "stderr",
     "output_type": "stream",
     "text": [
      "127.0.0.1 - - [23/Jul/2019 17:13:08] \"OPTIONS /4/21/setEndTime HTTP/1.1\" 200 -\n",
      "127.0.0.1 - - [23/Jul/2019 17:13:08] \"POST /4/21/setEndTime HTTP/1.1\" 200 -\n",
      "127.0.0.1 - - [23/Jul/2019 17:13:08] \"OPTIONS /4/22/setEndTime HTTP/1.1\" 200 -\n",
      "127.0.0.1 - - [23/Jul/2019 17:13:08] \"POST /4/22/setEndTime HTTP/1.1\" 200 -\n",
      "127.0.0.1 - - [23/Jul/2019 17:13:09] \"OPTIONS /4/23/setEndTime HTTP/1.1\" 200 -\n",
      "127.0.0.1 - - [23/Jul/2019 17:13:09] \"POST /4/23/setEndTime HTTP/1.1\" 200 -\n",
      "127.0.0.1 - - [23/Jul/2019 17:13:11] \"POST /4/23/setEndTime HTTP/1.1\" 200 -\n",
      "127.0.0.1 - - [23/Jul/2019 17:13:12] \"POST /4/22/setEndTime HTTP/1.1\" 200 -\n",
      "127.0.0.1 - - [23/Jul/2019 17:13:21] \"OPTIONS /4/addBoat HTTP/1.1\" 200 -\n",
      "127.0.0.1 - - [23/Jul/2019 17:13:21] \"POST /4/addBoat HTTP/1.1\" 200 -\n",
      "127.0.0.1 - - [23/Jul/2019 17:13:21] \"POST /4/addBoat HTTP/1.1\" 200 -\n",
      "127.0.0.1 - - [23/Jul/2019 17:13:25] \"OPTIONS /4/24/setStartTime HTTP/1.1\" 200 -\n",
      "127.0.0.1 - - [23/Jul/2019 17:13:25] \"POST /4/24/setStartTime HTTP/1.1\" 200 -\n"
     ]
    },
    {
     "name": "stdout",
     "output_type": "stream",
     "text": [
      "4 24\n",
      "{'StartTime': '03:13:25.185Z'}\n",
      "{'StartTime': '03:13:25.185Z'}\n"
     ]
    },
    {
     "name": "stderr",
     "output_type": "stream",
     "text": [
      "127.0.0.1 - - [23/Jul/2019 17:13:25] \"OPTIONS /4/25/setStartTime HTTP/1.1\" 200 -\n",
      "127.0.0.1 - - [23/Jul/2019 17:13:25] \"POST /4/25/setStartTime HTTP/1.1\" 200 -\n"
     ]
    },
    {
     "name": "stdout",
     "output_type": "stream",
     "text": [
      "4 25\n",
      "{'StartTime': '03:13:25.576Z'}\n",
      "{'StartTime': '03:13:25.576Z'}\n"
     ]
    },
    {
     "name": "stderr",
     "output_type": "stream",
     "text": [
      "127.0.0.1 - - [23/Jul/2019 17:13:26] \"OPTIONS /4/24/setEndTime HTTP/1.1\" 200 -\n",
      "127.0.0.1 - - [23/Jul/2019 17:13:26] \"POST /4/24/setEndTime HTTP/1.1\" 200 -\n",
      "127.0.0.1 - - [23/Jul/2019 17:13:26] \"OPTIONS /4/25/setEndTime HTTP/1.1\" 200 -\n",
      "127.0.0.1 - - [23/Jul/2019 17:13:26] \"POST /4/25/setEndTime HTTP/1.1\" 200 -\n",
      "127.0.0.1 - - [23/Jul/2019 17:13:55] \"OPTIONS /addHeat HTTP/1.1\" 200 -\n",
      "127.0.0.1 - - [23/Jul/2019 17:13:55] \"POST /addHeat HTTP/1.1\" 200 -\n"
     ]
    },
    {
     "name": "stdout",
     "output_type": "stream",
     "text": [
      "{'heats': [{'id': '0', 'boats': [{'id': '5', 'name': 'Name Me', 'color': None, 'StartTime': '2:42:09 PM', 'EndTime': '03:12:17.334Z'}, {'id': '6', 'name': 'Name Me', 'color': None, 'StartTime': '2:42:09 PM', 'EndTime': '03:12:25.436Z'}, {'id': '7', 'name': 'Name Me', 'color': None, 'StartTime': '2:42:10 PM', 'EndTime': '03:12:18.326Z'}, {'id': '18', 'name': 'Name Me', 'color': None, 'StartTime': '03:12:28.380Z', 'EndTime': '03:12:30.818Z'}, {'id': '19', 'name': 'Name Me', 'color': None, 'StartTime': '03:12:26.388Z', 'EndTime': '03:12:31.288Z'}, {'id': '20', 'name': 'Name Me', 'color': None, 'StartTime': '03:12:27.265Z', 'EndTime': '03:12:27.748Z'}]}, {'id': '1', 'boats': [{'id': '8', 'name': 'Name Me', 'color': None, 'StartTime': '00:43:41.926Z', 'EndTime': '01:13:29.885Z'}, {'id': '9', 'name': 'Name Me', 'color': None, 'StartTime': '00:43:42.567Z', 'EndTime': '01:13:30.736Z'}, {'id': '10', 'name': 'Name Me', 'color': None, 'StartTime': '00:43:03.115Z', 'EndTime': '01:13:31.205Z'}]}, {'id': '2', 'boats': [{'id': '0', 'name': 'Name Me', 'color': None, 'StartTime': '2019-07-24T00:42:32.433Z', 'EndTime': '00:45:27.879Z'}, {'id': '1', 'name': 'Name Me', 'color': None, 'StartTime': '2019-07-24T00:42:33.191Z', 'EndTime': '00:45:28.732Z'}, {'id': '2', 'name': 'Name Me', 'color': None, 'StartTime': '2019-07-24T00:42:33.869Z', 'EndTime': '00:45:29.269Z'}, {'id': '3', 'name': 'Name Me', 'color': None, 'StartTime': '2:32:00 PM', 'EndTime': '01:16:01.185Z'}, {'id': '4', 'name': 'Name Me', 'color': None, 'StartTime': '2:32:00 PM', 'EndTime': '01:13:49.815Z'}]}, {'id': '3', 'boats': [{'id': '11', 'name': 'Name Me', 'color': None, 'StartTime': '2:32:41 PM', 'EndTime': '03:12:59.091Z'}, {'id': '12', 'name': 'Name Me', 'color': None, 'StartTime': '01:17:21.935Z', 'EndTime': '03:12:50.709Z'}, {'id': '13', 'name': 'Name Me', 'color': None, 'StartTime': '01:17:23.413Z', 'EndTime': '03:12:51.266Z'}, {'id': '14', 'name': 'Name Me', 'color': None, 'StartTime': '01:17:24.575Z', 'EndTime': '03:12:51.717Z'}, {'id': '15', 'name': 'Name Me', 'color': None, 'StartTime': '01:17:25.559Z', 'EndTime': '01:17:25.981Z'}, {'id': '16', 'name': 'Name Me', 'color': None, 'StartTime': '01:17:26.464Z', 'EndTime': '03:12:52.264Z'}, {'id': '17', 'name': 'Name Me', 'color': None, 'StartTime': '01:17:27.520Z', 'EndTime': '01:17:27.965Z'}]}, {'id': '4', 'boats': [{'id': '21', 'name': 'Name Me', 'color': None, 'StartTime': '03:13:08.052Z', 'EndTime': '03:13:08.511Z'}, {'id': '22', 'name': 'Name Me', 'color': None, 'StartTime': '03:13:07.724Z', 'EndTime': '03:13:12.004Z'}, {'id': '23', 'name': 'Name Me', 'color': None, 'StartTime': '03:13:07.075Z', 'EndTime': '03:13:11.442Z'}, {'id': '24', 'name': 'Name Me', 'color': None, 'StartTime': '03:13:25.185Z', 'EndTime': '03:13:26.083Z'}, {'id': '25', 'name': 'Name Me', 'color': None, 'StartTime': '03:13:25.576Z', 'EndTime': '03:13:26.457Z'}]}], 'stateId': 286}\n"
     ]
    },
    {
     "name": "stderr",
     "output_type": "stream",
     "text": [
      "127.0.0.1 - - [23/Jul/2019 17:13:56] \"OPTIONS /5/addBoat HTTP/1.1\" 200 -\n",
      "127.0.0.1 - - [23/Jul/2019 17:13:56] \"POST /5/addBoat HTTP/1.1\" 200 -\n",
      "127.0.0.1 - - [23/Jul/2019 17:13:57] \"POST /5/addBoat HTTP/1.1\" 200 -\n",
      "127.0.0.1 - - [23/Jul/2019 17:13:58] \"POST /5/addBoat HTTP/1.1\" 200 -\n",
      "127.0.0.1 - - [23/Jul/2019 17:14:01] \"OPTIONS /5/26/setStartTime HTTP/1.1\" 200 -\n",
      "127.0.0.1 - - [23/Jul/2019 17:14:02] \"POST /5/26/setStartTime HTTP/1.1\" 200 -\n"
     ]
    },
    {
     "name": "stdout",
     "output_type": "stream",
     "text": [
      "5 26\n",
      "{'StartTime': '03:14:01.995Z'}\n",
      "{'StartTime': '03:14:01.995Z'}\n"
     ]
    },
    {
     "name": "stderr",
     "output_type": "stream",
     "text": [
      "127.0.0.1 - - [23/Jul/2019 17:14:02] \"OPTIONS /5/26/setEndTime HTTP/1.1\" 200 -\n",
      "127.0.0.1 - - [23/Jul/2019 17:14:02] \"POST /5/26/setEndTime HTTP/1.1\" 200 -\n",
      "127.0.0.1 - - [23/Jul/2019 17:14:06] \"OPTIONS /5/27/setStartTime HTTP/1.1\" 200 -\n",
      "127.0.0.1 - - [23/Jul/2019 17:14:06] \"POST /5/27/setStartTime HTTP/1.1\" 200 -\n"
     ]
    },
    {
     "name": "stdout",
     "output_type": "stream",
     "text": [
      "5 27\n",
      "{'StartTime': '03:14:06.855Z'}\n",
      "{'StartTime': '03:14:06.855Z'}\n"
     ]
    },
    {
     "name": "stderr",
     "output_type": "stream",
     "text": [
      "127.0.0.1 - - [23/Jul/2019 17:14:07] \"OPTIONS /5/27/setEndTime HTTP/1.1\" 200 -\n",
      "127.0.0.1 - - [23/Jul/2019 17:14:07] \"POST /5/27/setEndTime HTTP/1.1\" 200 -\n",
      "127.0.0.1 - - [23/Jul/2019 17:14:07] \"OPTIONS /5/28/setStartTime HTTP/1.1\" 200 -\n",
      "127.0.0.1 - - [23/Jul/2019 17:14:07] \"POST /5/28/setStartTime HTTP/1.1\" 200 -\n"
     ]
    },
    {
     "name": "stdout",
     "output_type": "stream",
     "text": [
      "5 28\n",
      "{'StartTime': '03:14:07.910Z'}\n",
      "{'StartTime': '03:14:07.910Z'}\n"
     ]
    },
    {
     "name": "stderr",
     "output_type": "stream",
     "text": [
      "127.0.0.1 - - [23/Jul/2019 17:14:08] \"OPTIONS /5/28/setEndTime HTTP/1.1\" 200 -\n",
      "127.0.0.1 - - [23/Jul/2019 17:14:08] \"POST /5/28/setEndTime HTTP/1.1\" 200 -\n",
      "127.0.0.1 - - [23/Jul/2019 17:14:09] \"POST /5/27/setEndTime HTTP/1.1\" 200 -\n",
      "127.0.0.1 - - [23/Jul/2019 17:14:09] \"OPTIONS /5/26/setEndTime HTTP/1.1\" 200 -\n",
      "127.0.0.1 - - [23/Jul/2019 17:14:09] \"POST /5/26/setEndTime HTTP/1.1\" 200 -\n",
      "127.0.0.1 - - [23/Jul/2019 17:14:10] \"POST /5/28/setEndTime HTTP/1.1\" 200 -\n",
      "127.0.0.1 - - [23/Jul/2019 17:14:13] \"OPTIONS /addHeat HTTP/1.1\" 200 -\n",
      "127.0.0.1 - - [23/Jul/2019 17:14:13] \"POST /addHeat HTTP/1.1\" 200 -\n"
     ]
    },
    {
     "name": "stdout",
     "output_type": "stream",
     "text": [
      "{'heats': [{'id': '0', 'boats': [{'id': '5', 'name': 'Name Me', 'color': None, 'StartTime': '2:42:09 PM', 'EndTime': '03:12:17.334Z'}, {'id': '6', 'name': 'Name Me', 'color': None, 'StartTime': '2:42:09 PM', 'EndTime': '03:12:25.436Z'}, {'id': '7', 'name': 'Name Me', 'color': None, 'StartTime': '2:42:10 PM', 'EndTime': '03:12:18.326Z'}, {'id': '18', 'name': 'Name Me', 'color': None, 'StartTime': '03:12:28.380Z', 'EndTime': '03:12:30.818Z'}, {'id': '19', 'name': 'Name Me', 'color': None, 'StartTime': '03:12:26.388Z', 'EndTime': '03:12:31.288Z'}, {'id': '20', 'name': 'Name Me', 'color': None, 'StartTime': '03:12:27.265Z', 'EndTime': '03:12:27.748Z'}]}, {'id': '1', 'boats': [{'id': '8', 'name': 'Name Me', 'color': None, 'StartTime': '00:43:41.926Z', 'EndTime': '01:13:29.885Z'}, {'id': '9', 'name': 'Name Me', 'color': None, 'StartTime': '00:43:42.567Z', 'EndTime': '01:13:30.736Z'}, {'id': '10', 'name': 'Name Me', 'color': None, 'StartTime': '00:43:03.115Z', 'EndTime': '01:13:31.205Z'}]}, {'id': '2', 'boats': [{'id': '0', 'name': 'Name Me', 'color': None, 'StartTime': '2019-07-24T00:42:32.433Z', 'EndTime': '00:45:27.879Z'}, {'id': '1', 'name': 'Name Me', 'color': None, 'StartTime': '2019-07-24T00:42:33.191Z', 'EndTime': '00:45:28.732Z'}, {'id': '2', 'name': 'Name Me', 'color': None, 'StartTime': '2019-07-24T00:42:33.869Z', 'EndTime': '00:45:29.269Z'}, {'id': '3', 'name': 'Name Me', 'color': None, 'StartTime': '2:32:00 PM', 'EndTime': '01:16:01.185Z'}, {'id': '4', 'name': 'Name Me', 'color': None, 'StartTime': '2:32:00 PM', 'EndTime': '01:13:49.815Z'}]}, {'id': '3', 'boats': [{'id': '11', 'name': 'Name Me', 'color': None, 'StartTime': '2:32:41 PM', 'EndTime': '03:12:59.091Z'}, {'id': '12', 'name': 'Name Me', 'color': None, 'StartTime': '01:17:21.935Z', 'EndTime': '03:12:50.709Z'}, {'id': '13', 'name': 'Name Me', 'color': None, 'StartTime': '01:17:23.413Z', 'EndTime': '03:12:51.266Z'}, {'id': '14', 'name': 'Name Me', 'color': None, 'StartTime': '01:17:24.575Z', 'EndTime': '03:12:51.717Z'}, {'id': '15', 'name': 'Name Me', 'color': None, 'StartTime': '01:17:25.559Z', 'EndTime': '01:17:25.981Z'}, {'id': '16', 'name': 'Name Me', 'color': None, 'StartTime': '01:17:26.464Z', 'EndTime': '03:12:52.264Z'}, {'id': '17', 'name': 'Name Me', 'color': None, 'StartTime': '01:17:27.520Z', 'EndTime': '01:17:27.965Z'}]}, {'id': '4', 'boats': [{'id': '21', 'name': 'Name Me', 'color': None, 'StartTime': '03:13:08.052Z', 'EndTime': '03:13:08.511Z'}, {'id': '22', 'name': 'Name Me', 'color': None, 'StartTime': '03:13:07.724Z', 'EndTime': '03:13:12.004Z'}, {'id': '23', 'name': 'Name Me', 'color': None, 'StartTime': '03:13:07.075Z', 'EndTime': '03:13:11.442Z'}, {'id': '24', 'name': 'Name Me', 'color': None, 'StartTime': '03:13:25.185Z', 'EndTime': '03:13:26.083Z'}, {'id': '25', 'name': 'Name Me', 'color': None, 'StartTime': '03:13:25.576Z', 'EndTime': '03:13:26.457Z'}]}, {'id': '5', 'boats': [{'id': '26', 'name': 'Name Me', 'color': None, 'StartTime': '03:14:01.995Z', 'EndTime': '03:14:09.925Z'}, {'id': '27', 'name': 'Name Me', 'color': None, 'StartTime': '03:14:06.855Z', 'EndTime': '03:14:09.432Z'}, {'id': '28', 'name': 'Name Me', 'color': None, 'StartTime': '03:14:07.910Z', 'EndTime': '03:14:10.575Z'}]}], 'stateId': 308}\n"
     ]
    },
    {
     "name": "stderr",
     "output_type": "stream",
     "text": [
      "127.0.0.1 - - [23/Jul/2019 17:14:13] \"POST /addHeat HTTP/1.1\" 200 -\n"
     ]
    },
    {
     "name": "stdout",
     "output_type": "stream",
     "text": [
      "{'heats': [{'id': '0', 'boats': [{'id': '5', 'name': 'Name Me', 'color': None, 'StartTime': '2:42:09 PM', 'EndTime': '03:12:17.334Z'}, {'id': '6', 'name': 'Name Me', 'color': None, 'StartTime': '2:42:09 PM', 'EndTime': '03:12:25.436Z'}, {'id': '7', 'name': 'Name Me', 'color': None, 'StartTime': '2:42:10 PM', 'EndTime': '03:12:18.326Z'}, {'id': '18', 'name': 'Name Me', 'color': None, 'StartTime': '03:12:28.380Z', 'EndTime': '03:12:30.818Z'}, {'id': '19', 'name': 'Name Me', 'color': None, 'StartTime': '03:12:26.388Z', 'EndTime': '03:12:31.288Z'}, {'id': '20', 'name': 'Name Me', 'color': None, 'StartTime': '03:12:27.265Z', 'EndTime': '03:12:27.748Z'}]}, {'id': '1', 'boats': [{'id': '8', 'name': 'Name Me', 'color': None, 'StartTime': '00:43:41.926Z', 'EndTime': '01:13:29.885Z'}, {'id': '9', 'name': 'Name Me', 'color': None, 'StartTime': '00:43:42.567Z', 'EndTime': '01:13:30.736Z'}, {'id': '10', 'name': 'Name Me', 'color': None, 'StartTime': '00:43:03.115Z', 'EndTime': '01:13:31.205Z'}]}, {'id': '2', 'boats': [{'id': '0', 'name': 'Name Me', 'color': None, 'StartTime': '2019-07-24T00:42:32.433Z', 'EndTime': '00:45:27.879Z'}, {'id': '1', 'name': 'Name Me', 'color': None, 'StartTime': '2019-07-24T00:42:33.191Z', 'EndTime': '00:45:28.732Z'}, {'id': '2', 'name': 'Name Me', 'color': None, 'StartTime': '2019-07-24T00:42:33.869Z', 'EndTime': '00:45:29.269Z'}, {'id': '3', 'name': 'Name Me', 'color': None, 'StartTime': '2:32:00 PM', 'EndTime': '01:16:01.185Z'}, {'id': '4', 'name': 'Name Me', 'color': None, 'StartTime': '2:32:00 PM', 'EndTime': '01:13:49.815Z'}]}, {'id': '3', 'boats': [{'id': '11', 'name': 'Name Me', 'color': None, 'StartTime': '2:32:41 PM', 'EndTime': '03:12:59.091Z'}, {'id': '12', 'name': 'Name Me', 'color': None, 'StartTime': '01:17:21.935Z', 'EndTime': '03:12:50.709Z'}, {'id': '13', 'name': 'Name Me', 'color': None, 'StartTime': '01:17:23.413Z', 'EndTime': '03:12:51.266Z'}, {'id': '14', 'name': 'Name Me', 'color': None, 'StartTime': '01:17:24.575Z', 'EndTime': '03:12:51.717Z'}, {'id': '15', 'name': 'Name Me', 'color': None, 'StartTime': '01:17:25.559Z', 'EndTime': '01:17:25.981Z'}, {'id': '16', 'name': 'Name Me', 'color': None, 'StartTime': '01:17:26.464Z', 'EndTime': '03:12:52.264Z'}, {'id': '17', 'name': 'Name Me', 'color': None, 'StartTime': '01:17:27.520Z', 'EndTime': '01:17:27.965Z'}]}, {'id': '4', 'boats': [{'id': '21', 'name': 'Name Me', 'color': None, 'StartTime': '03:13:08.052Z', 'EndTime': '03:13:08.511Z'}, {'id': '22', 'name': 'Name Me', 'color': None, 'StartTime': '03:13:07.724Z', 'EndTime': '03:13:12.004Z'}, {'id': '23', 'name': 'Name Me', 'color': None, 'StartTime': '03:13:07.075Z', 'EndTime': '03:13:11.442Z'}, {'id': '24', 'name': 'Name Me', 'color': None, 'StartTime': '03:13:25.185Z', 'EndTime': '03:13:26.083Z'}, {'id': '25', 'name': 'Name Me', 'color': None, 'StartTime': '03:13:25.576Z', 'EndTime': '03:13:26.457Z'}]}, {'id': '5', 'boats': [{'id': '26', 'name': 'Name Me', 'color': None, 'StartTime': '03:14:01.995Z', 'EndTime': '03:14:09.925Z'}, {'id': '27', 'name': 'Name Me', 'color': None, 'StartTime': '03:14:06.855Z', 'EndTime': '03:14:09.432Z'}, {'id': '28', 'name': 'Name Me', 'color': None, 'StartTime': '03:14:07.910Z', 'EndTime': '03:14:10.575Z'}]}, {'id': '6', 'boats': []}], 'stateId': 309}\n"
     ]
    },
    {
     "name": "stderr",
     "output_type": "stream",
     "text": [
      "127.0.0.1 - - [23/Jul/2019 17:14:15] \"OPTIONS /7/addBoat HTTP/1.1\" 200 -\n",
      "127.0.0.1 - - [23/Jul/2019 17:14:15] \"POST /7/addBoat HTTP/1.1\" 200 -\n",
      "127.0.0.1 - - [23/Jul/2019 17:14:17] \"OPTIONS /7/29/setStartTime HTTP/1.1\" 200 -\n",
      "127.0.0.1 - - [23/Jul/2019 17:14:17] \"POST /7/29/setStartTime HTTP/1.1\" 200 -\n"
     ]
    },
    {
     "name": "stdout",
     "output_type": "stream",
     "text": [
      "7 29\n",
      "{'StartTime': '03:14:17.855Z'}\n",
      "{'StartTime': '03:14:17.855Z'}\n"
     ]
    },
    {
     "name": "stderr",
     "output_type": "stream",
     "text": [
      "127.0.0.1 - - [23/Jul/2019 17:14:18] \"OPTIONS /7/29/setEndTime HTTP/1.1\" 200 -\n",
      "127.0.0.1 - - [23/Jul/2019 17:14:18] \"POST /7/29/setEndTime HTTP/1.1\" 200 -\n",
      "127.0.0.1 - - [23/Jul/2019 17:14:21] \"OPTIONS /addHeat HTTP/1.1\" 200 -\n",
      "127.0.0.1 - - [23/Jul/2019 17:14:21] \"POST /addHeat HTTP/1.1\" 200 -\n"
     ]
    },
    {
     "name": "stdout",
     "output_type": "stream",
     "text": [
      "{'heats': [{'id': '0', 'boats': [{'id': '5', 'name': 'Name Me', 'color': None, 'StartTime': '2:42:09 PM', 'EndTime': '03:12:17.334Z'}, {'id': '6', 'name': 'Name Me', 'color': None, 'StartTime': '2:42:09 PM', 'EndTime': '03:12:25.436Z'}, {'id': '7', 'name': 'Name Me', 'color': None, 'StartTime': '2:42:10 PM', 'EndTime': '03:12:18.326Z'}, {'id': '18', 'name': 'Name Me', 'color': None, 'StartTime': '03:12:28.380Z', 'EndTime': '03:12:30.818Z'}, {'id': '19', 'name': 'Name Me', 'color': None, 'StartTime': '03:12:26.388Z', 'EndTime': '03:12:31.288Z'}, {'id': '20', 'name': 'Name Me', 'color': None, 'StartTime': '03:12:27.265Z', 'EndTime': '03:12:27.748Z'}]}, {'id': '1', 'boats': [{'id': '8', 'name': 'Name Me', 'color': None, 'StartTime': '00:43:41.926Z', 'EndTime': '01:13:29.885Z'}, {'id': '9', 'name': 'Name Me', 'color': None, 'StartTime': '00:43:42.567Z', 'EndTime': '01:13:30.736Z'}, {'id': '10', 'name': 'Name Me', 'color': None, 'StartTime': '00:43:03.115Z', 'EndTime': '01:13:31.205Z'}]}, {'id': '2', 'boats': [{'id': '0', 'name': 'Name Me', 'color': None, 'StartTime': '2019-07-24T00:42:32.433Z', 'EndTime': '00:45:27.879Z'}, {'id': '1', 'name': 'Name Me', 'color': None, 'StartTime': '2019-07-24T00:42:33.191Z', 'EndTime': '00:45:28.732Z'}, {'id': '2', 'name': 'Name Me', 'color': None, 'StartTime': '2019-07-24T00:42:33.869Z', 'EndTime': '00:45:29.269Z'}, {'id': '3', 'name': 'Name Me', 'color': None, 'StartTime': '2:32:00 PM', 'EndTime': '01:16:01.185Z'}, {'id': '4', 'name': 'Name Me', 'color': None, 'StartTime': '2:32:00 PM', 'EndTime': '01:13:49.815Z'}]}, {'id': '3', 'boats': [{'id': '11', 'name': 'Name Me', 'color': None, 'StartTime': '2:32:41 PM', 'EndTime': '03:12:59.091Z'}, {'id': '12', 'name': 'Name Me', 'color': None, 'StartTime': '01:17:21.935Z', 'EndTime': '03:12:50.709Z'}, {'id': '13', 'name': 'Name Me', 'color': None, 'StartTime': '01:17:23.413Z', 'EndTime': '03:12:51.266Z'}, {'id': '14', 'name': 'Name Me', 'color': None, 'StartTime': '01:17:24.575Z', 'EndTime': '03:12:51.717Z'}, {'id': '15', 'name': 'Name Me', 'color': None, 'StartTime': '01:17:25.559Z', 'EndTime': '01:17:25.981Z'}, {'id': '16', 'name': 'Name Me', 'color': None, 'StartTime': '01:17:26.464Z', 'EndTime': '03:12:52.264Z'}, {'id': '17', 'name': 'Name Me', 'color': None, 'StartTime': '01:17:27.520Z', 'EndTime': '01:17:27.965Z'}]}, {'id': '4', 'boats': [{'id': '21', 'name': 'Name Me', 'color': None, 'StartTime': '03:13:08.052Z', 'EndTime': '03:13:08.511Z'}, {'id': '22', 'name': 'Name Me', 'color': None, 'StartTime': '03:13:07.724Z', 'EndTime': '03:13:12.004Z'}, {'id': '23', 'name': 'Name Me', 'color': None, 'StartTime': '03:13:07.075Z', 'EndTime': '03:13:11.442Z'}, {'id': '24', 'name': 'Name Me', 'color': None, 'StartTime': '03:13:25.185Z', 'EndTime': '03:13:26.083Z'}, {'id': '25', 'name': 'Name Me', 'color': None, 'StartTime': '03:13:25.576Z', 'EndTime': '03:13:26.457Z'}]}, {'id': '5', 'boats': [{'id': '26', 'name': 'Name Me', 'color': None, 'StartTime': '03:14:01.995Z', 'EndTime': '03:14:09.925Z'}, {'id': '27', 'name': 'Name Me', 'color': None, 'StartTime': '03:14:06.855Z', 'EndTime': '03:14:09.432Z'}, {'id': '28', 'name': 'Name Me', 'color': None, 'StartTime': '03:14:07.910Z', 'EndTime': '03:14:10.575Z'}]}, {'id': '6', 'boats': []}, {'id': '7', 'boats': [{'id': '29', 'name': 'Name Me', 'color': None, 'StartTime': '03:14:17.855Z', 'EndTime': '03:14:18.308Z'}]}], 'stateId': 315}\n"
     ]
    },
    {
     "name": "stderr",
     "output_type": "stream",
     "text": [
      "127.0.0.1 - - [23/Jul/2019 17:14:21] \"POST /addHeat HTTP/1.1\" 200 -\n"
     ]
    },
    {
     "name": "stdout",
     "output_type": "stream",
     "text": [
      "{'heats': [{'id': '0', 'boats': [{'id': '5', 'name': 'Name Me', 'color': None, 'StartTime': '2:42:09 PM', 'EndTime': '03:12:17.334Z'}, {'id': '6', 'name': 'Name Me', 'color': None, 'StartTime': '2:42:09 PM', 'EndTime': '03:12:25.436Z'}, {'id': '7', 'name': 'Name Me', 'color': None, 'StartTime': '2:42:10 PM', 'EndTime': '03:12:18.326Z'}, {'id': '18', 'name': 'Name Me', 'color': None, 'StartTime': '03:12:28.380Z', 'EndTime': '03:12:30.818Z'}, {'id': '19', 'name': 'Name Me', 'color': None, 'StartTime': '03:12:26.388Z', 'EndTime': '03:12:31.288Z'}, {'id': '20', 'name': 'Name Me', 'color': None, 'StartTime': '03:12:27.265Z', 'EndTime': '03:12:27.748Z'}]}, {'id': '1', 'boats': [{'id': '8', 'name': 'Name Me', 'color': None, 'StartTime': '00:43:41.926Z', 'EndTime': '01:13:29.885Z'}, {'id': '9', 'name': 'Name Me', 'color': None, 'StartTime': '00:43:42.567Z', 'EndTime': '01:13:30.736Z'}, {'id': '10', 'name': 'Name Me', 'color': None, 'StartTime': '00:43:03.115Z', 'EndTime': '01:13:31.205Z'}]}, {'id': '2', 'boats': [{'id': '0', 'name': 'Name Me', 'color': None, 'StartTime': '2019-07-24T00:42:32.433Z', 'EndTime': '00:45:27.879Z'}, {'id': '1', 'name': 'Name Me', 'color': None, 'StartTime': '2019-07-24T00:42:33.191Z', 'EndTime': '00:45:28.732Z'}, {'id': '2', 'name': 'Name Me', 'color': None, 'StartTime': '2019-07-24T00:42:33.869Z', 'EndTime': '00:45:29.269Z'}, {'id': '3', 'name': 'Name Me', 'color': None, 'StartTime': '2:32:00 PM', 'EndTime': '01:16:01.185Z'}, {'id': '4', 'name': 'Name Me', 'color': None, 'StartTime': '2:32:00 PM', 'EndTime': '01:13:49.815Z'}]}, {'id': '3', 'boats': [{'id': '11', 'name': 'Name Me', 'color': None, 'StartTime': '2:32:41 PM', 'EndTime': '03:12:59.091Z'}, {'id': '12', 'name': 'Name Me', 'color': None, 'StartTime': '01:17:21.935Z', 'EndTime': '03:12:50.709Z'}, {'id': '13', 'name': 'Name Me', 'color': None, 'StartTime': '01:17:23.413Z', 'EndTime': '03:12:51.266Z'}, {'id': '14', 'name': 'Name Me', 'color': None, 'StartTime': '01:17:24.575Z', 'EndTime': '03:12:51.717Z'}, {'id': '15', 'name': 'Name Me', 'color': None, 'StartTime': '01:17:25.559Z', 'EndTime': '01:17:25.981Z'}, {'id': '16', 'name': 'Name Me', 'color': None, 'StartTime': '01:17:26.464Z', 'EndTime': '03:12:52.264Z'}, {'id': '17', 'name': 'Name Me', 'color': None, 'StartTime': '01:17:27.520Z', 'EndTime': '01:17:27.965Z'}]}, {'id': '4', 'boats': [{'id': '21', 'name': 'Name Me', 'color': None, 'StartTime': '03:13:08.052Z', 'EndTime': '03:13:08.511Z'}, {'id': '22', 'name': 'Name Me', 'color': None, 'StartTime': '03:13:07.724Z', 'EndTime': '03:13:12.004Z'}, {'id': '23', 'name': 'Name Me', 'color': None, 'StartTime': '03:13:07.075Z', 'EndTime': '03:13:11.442Z'}, {'id': '24', 'name': 'Name Me', 'color': None, 'StartTime': '03:13:25.185Z', 'EndTime': '03:13:26.083Z'}, {'id': '25', 'name': 'Name Me', 'color': None, 'StartTime': '03:13:25.576Z', 'EndTime': '03:13:26.457Z'}]}, {'id': '5', 'boats': [{'id': '26', 'name': 'Name Me', 'color': None, 'StartTime': '03:14:01.995Z', 'EndTime': '03:14:09.925Z'}, {'id': '27', 'name': 'Name Me', 'color': None, 'StartTime': '03:14:06.855Z', 'EndTime': '03:14:09.432Z'}, {'id': '28', 'name': 'Name Me', 'color': None, 'StartTime': '03:14:07.910Z', 'EndTime': '03:14:10.575Z'}]}, {'id': '6', 'boats': []}, {'id': '7', 'boats': [{'id': '29', 'name': 'Name Me', 'color': None, 'StartTime': '03:14:17.855Z', 'EndTime': '03:14:18.308Z'}]}, {'id': '8', 'boats': []}], 'stateId': 316}\n"
     ]
    },
    {
     "name": "stderr",
     "output_type": "stream",
     "text": [
      "127.0.0.1 - - [23/Jul/2019 17:14:23] \"OPTIONS /9/addBoat HTTP/1.1\" 200 -\n",
      "127.0.0.1 - - [23/Jul/2019 17:14:23] \"POST /9/addBoat HTTP/1.1\" 200 -\n",
      "127.0.0.1 - - [23/Jul/2019 17:14:25] \"POST /9/addBoat HTTP/1.1\" 200 -\n",
      "127.0.0.1 - - [23/Jul/2019 17:14:25] \"POST /9/addBoat HTTP/1.1\" 200 -\n",
      "127.0.0.1 - - [23/Jul/2019 17:14:26] \"OPTIONS /9/32/setStartTime HTTP/1.1\" 200 -\n",
      "127.0.0.1 - - [23/Jul/2019 17:14:26] \"POST /9/32/setStartTime HTTP/1.1\" 200 -\n"
     ]
    },
    {
     "name": "stdout",
     "output_type": "stream",
     "text": [
      "9 32\n",
      "{'StartTime': '03:14:26.886Z'}\n",
      "{'StartTime': '03:14:26.886Z'}\n"
     ]
    },
    {
     "name": "stderr",
     "output_type": "stream",
     "text": [
      "127.0.0.1 - - [23/Jul/2019 17:14:27] \"OPTIONS /9/31/setStartTime HTTP/1.1\" 200 -\n",
      "127.0.0.1 - - [23/Jul/2019 17:14:27] \"POST /9/31/setStartTime HTTP/1.1\" 200 -\n"
     ]
    },
    {
     "name": "stdout",
     "output_type": "stream",
     "text": [
      "9 31\n",
      "{'StartTime': '03:14:27.245Z'}\n",
      "{'StartTime': '03:14:27.245Z'}\n"
     ]
    },
    {
     "name": "stderr",
     "output_type": "stream",
     "text": [
      "127.0.0.1 - - [23/Jul/2019 17:14:27] \"OPTIONS /9/30/setStartTime HTTP/1.1\" 200 -\n",
      "127.0.0.1 - - [23/Jul/2019 17:14:27] \"POST /9/30/setStartTime HTTP/1.1\" 200 -\n"
     ]
    },
    {
     "name": "stdout",
     "output_type": "stream",
     "text": [
      "9 30\n",
      "{'StartTime': '03:14:27.580Z'}\n",
      "{'StartTime': '03:14:27.580Z'}\n"
     ]
    },
    {
     "name": "stderr",
     "output_type": "stream",
     "text": [
      "127.0.0.1 - - [23/Jul/2019 17:14:28] \"OPTIONS /9/30/setEndTime HTTP/1.1\" 200 -\n",
      "127.0.0.1 - - [23/Jul/2019 17:14:28] \"POST /9/30/setEndTime HTTP/1.1\" 200 -\n",
      "127.0.0.1 - - [23/Jul/2019 17:14:28] \"OPTIONS /9/31/setEndTime HTTP/1.1\" 200 -\n",
      "127.0.0.1 - - [23/Jul/2019 17:14:28] \"POST /9/31/setEndTime HTTP/1.1\" 200 -\n",
      "127.0.0.1 - - [23/Jul/2019 17:14:28] \"OPTIONS /9/32/setEndTime HTTP/1.1\" 200 -\n",
      "127.0.0.1 - - [23/Jul/2019 17:14:28] \"POST /9/32/setEndTime HTTP/1.1\" 200 -\n",
      "127.0.0.1 - - [23/Jul/2019 17:14:29] \"POST /9/32/setEndTime HTTP/1.1\" 200 -\n",
      "127.0.0.1 - - [23/Jul/2019 17:14:30] \"POST /9/31/setEndTime HTTP/1.1\" 200 -\n",
      "127.0.0.1 - - [23/Jul/2019 17:14:30] \"POST /9/32/setEndTime HTTP/1.1\" 200 -\n",
      "127.0.0.1 - - [23/Jul/2019 17:14:35] \"OPTIONS /8/addBoat HTTP/1.1\" 200 -\n",
      "127.0.0.1 - - [23/Jul/2019 17:14:35] \"POST /8/addBoat HTTP/1.1\" 200 -\n",
      "127.0.0.1 - - [23/Jul/2019 17:14:35] \"POST /8/addBoat HTTP/1.1\" 200 -\n",
      "127.0.0.1 - - [23/Jul/2019 17:14:42] \"OPTIONS /8/33/setName HTTP/1.1\" 200 -\n",
      "127.0.0.1 - - [23/Jul/2019 17:14:42] \"POST /8/33/setName HTTP/1.1\" 200 -\n",
      "127.0.0.1 - - [23/Jul/2019 17:14:52] \"OPTIONS /8/33/setName HTTP/1.1\" 200 -\n",
      "127.0.0.1 - - [23/Jul/2019 17:14:52] \"POST /8/33/setName HTTP/1.1\" 200 -\n",
      "127.0.0.1 - - [23/Jul/2019 17:15:06] \"OPTIONS /8/33/setName HTTP/1.1\" 200 -\n",
      "127.0.0.1 - - [23/Jul/2019 17:15:06] \"POST /8/33/setName HTTP/1.1\" 200 -\n"
     ]
    }
   ],
   "source": [
    "if __name__ == \"__main__\":\n",
    "    app.run()"
   ]
  }
 ],
 "metadata": {
  "kernelspec": {
   "display_name": "Python 3",
   "language": "python",
   "name": "python3"
  },
  "language_info": {
   "codemirror_mode": {
    "name": "ipython",
    "version": 3
   },
   "file_extension": ".py",
   "mimetype": "text/x-python",
   "name": "python",
   "nbconvert_exporter": "python",
   "pygments_lexer": "ipython3",
   "version": "3.6.4"
  }
 },
 "nbformat": 4,
 "nbformat_minor": 2
}
