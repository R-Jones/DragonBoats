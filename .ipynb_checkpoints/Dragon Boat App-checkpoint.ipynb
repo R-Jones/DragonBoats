{
 "cells": [
  {
   "cell_type": "code",
   "execution_count": 2,
   "metadata": {},
   "outputs": [],
   "source": [
    "from flask import Flask, request\n",
    "from flask_cors import CORS\n",
    "import json\n",
    "import os\n",
    "app = Flask(__name__)\n",
    "CORS(app)\n",
    "\n",
    "mockdb = {\"races\":[], \"stateId\":0}\n",
    "\n",
    "boatCounter = 0\n",
    "heatCounter = 0\n",
    "raceCounter = 0\n",
    "\n",
    "@app.route(\"/\")\n",
    "def index():\n",
    "    root_dir = os.path.dirname(os.getcwd())\n",
    "    #print('foo')\n",
    "    #print(request.get_json())\n",
    "    #print(os.getcwd())\n",
    "    #!pwd\n",
    "    return app.send_static_file('index.html')\n",
    "    #return app.send_static_file('dragonboat.html')\n",
    "    #return '{\"resp\":\"Hello World!\"}'\n",
    "    \n",
    "@app.route('/addRace',methods=['POST'])\n",
    "def addRace():\n",
    "    global raceCounter, stateId\n",
    "    mockdb[\"races\"].append({\"id\":str(raceCounter),\"heats\":[]})\n",
    "    mockdb[\"stateId\"] += 1\n",
    "    raceCounter+=1\n",
    "    return json.dumps(mockdb)\n",
    "\n",
    "@app.route('/<raceId>/addHeat',methods=['POST'])\n",
    "def addHeat(raceId):\n",
    "    global heatCounter\n",
    "    print(mockdb)\n",
    "    print(type(raceId))\n",
    "    race = [race for race in mockdb[\"races\"] if race[\"id\"] == raceId]\n",
    "    if not race:\n",
    "        return '{\"error\": \"Race not found\"}'\n",
    "        \n",
    "    race[0][\"heats\"].append({\"id\":str(heatCounter),\"boats\":[]})\n",
    "    heatCounter+=1\n",
    "    mockdb[\"stateId\"] += 1\n",
    "    return json.dumps(mockdb)\n",
    "\n",
    "@app.route('/<raceId>/<heatId>/addBoat',methods=['POST'])\n",
    "def addBoat(raceId,heatId):\n",
    "    global boatCounter\n",
    "    race = [race for race in mockdb[\"races\"] if race[\"id\"] == raceId]\n",
    "    if not race:\n",
    "        return '{\"error\": \"Race not found\"}'\n",
    "    heat = [heat for heat in race[0][\"heats\"] if heat[\"id\"] == heatId]\n",
    "    if not heat:\n",
    "        return '{\"error\": \"Heat not found\"}'\n",
    "    heat[0][\"boats\"].append({\"id\":str(boatCounter),\"StartTime\":None,\"EndTime\":None})\n",
    "    boatCounter+=1\n",
    "    mockdb[\"stateId\"]+=1\n",
    "    return json.dumps(mockdb)\n",
    "\n",
    "def setBoatParm(raceId,heatId,boatId,k,v):\n",
    "    race = [race for race in mockdb[\"races\"] if race[\"id\"] == raceId]\n",
    "    if not race:\n",
    "        return '{\"error\": \"Race not found\"}'\n",
    "    heat = [heat for heat in race[0][\"heats\"] if heat[\"id\"] == heatId]\n",
    "    if not heat:\n",
    "        return '{\"error\": \"Heat not found\"}'\n",
    "    boat = [boat for boat in heat[0][\"boats\"] if boat[\"id\"] == boatId]\n",
    "    if not boat:\n",
    "        return '{\"error\": \"Boat not found\"}'\n",
    "    boat[0][k] = v\n",
    "    \n",
    "    mockdb[\"stateId\"] += 1\n",
    "    \n",
    "    return json.dumps(mockdb)\n",
    "\n",
    "@app.route('/<raceId>/<heatId>/<boatId>/setStartTime',methods=['POST'])\n",
    "def setStartTime(raceId,heatId,boatId,time):\n",
    "    reqJSON = request.get_json()\n",
    "    if not \"StartTime\" in reqJSON:\n",
    "        return '{\"error\": \"missing start time\"}'\n",
    "    print(request.get_json())\n",
    "    mockdb[\"stateId\"] += 1\n",
    "    return setBoatParm(raceId,heatId,boatId,\"StartTime\",time)\n",
    "\n",
    "@app.route('/<raceId>/<heatId>/<boatId>/setEndTime',methods=['POST'])\n",
    "def setEndTime(raceId,heatId,boatId,time):\n",
    "    reqJSON = request.get_json()\n",
    "    if not \"EndTime\" in reqJSON:\n",
    "        return '{\"error\": \"missing end time\"}'\n",
    "    mockdb[\"stateId\"] += 1\n",
    "    return setBoatParm(raceId,heatId,boatId,\"EndTime\",time)\n",
    "\n",
    "@app.route('/getState',methods=['POST'])\n",
    "def getState():\n",
    "    reqJSON = request.get_json()\n",
    "    if reqJSON and \"stateId\" in reqJSON and str(mockdb[\"stateId\"]) == reqJSON[\"stateId\"]:\n",
    "        return '{\"unchanged\": 1}'\n",
    "    return json.dumps(mockdb)"
   ]
  },
  {
   "cell_type": "code",
   "execution_count": 1,
   "metadata": {},
   "outputs": [],
   "source": [
    "!explorer .\n"
   ]
  },
  {
   "cell_type": "code",
   "execution_count": 1,
   "metadata": {},
   "outputs": [
    {
     "name": "stdout",
     "output_type": "stream",
     "text": [
      "Collecting flask-cors\n",
      "  Downloading https://files.pythonhosted.org/packages/78/38/e68b11daa5d613e3a91e4bf3da76c94ac9ee0d9cd515af9c1ab80d36f709/Flask_Cors-3.0.8-py2.py3-none-any.whl\n",
      "Requirement already satisfied, skipping upgrade: Flask>=0.9 in c:\\users\\ryan\\anaconda3\\lib\\site-packages (from flask-cors) (0.12.2)\n",
      "Requirement already satisfied, skipping upgrade: Six in c:\\users\\ryan\\anaconda3\\lib\\site-packages (from flask-cors) (1.11.0)\n",
      "Requirement already satisfied, skipping upgrade: Werkzeug>=0.7 in c:\\users\\ryan\\anaconda3\\lib\\site-packages (from Flask>=0.9->flask-cors) (0.14.1)\n",
      "Requirement already satisfied, skipping upgrade: Jinja2>=2.4 in c:\\users\\ryan\\anaconda3\\lib\\site-packages (from Flask>=0.9->flask-cors) (2.10)\n",
      "Requirement already satisfied, skipping upgrade: itsdangerous>=0.21 in c:\\users\\ryan\\anaconda3\\lib\\site-packages (from Flask>=0.9->flask-cors) (0.24)\n",
      "Requirement already satisfied, skipping upgrade: click>=2.0 in c:\\users\\ryan\\anaconda3\\lib\\site-packages (from Flask>=0.9->flask-cors) (6.7)\n",
      "Requirement already satisfied, skipping upgrade: MarkupSafe>=0.23 in c:\\users\\ryan\\anaconda3\\lib\\site-packages (from Jinja2>=2.4->Flask>=0.9->flask-cors) (1.0)\n",
      "Installing collected packages: flask-cors\n",
      "  Found existing installation: Flask-Cors 3.0.4\n",
      "    Uninstalling Flask-Cors-3.0.4:\n",
      "      Successfully uninstalled Flask-Cors-3.0.4\n",
      "Successfully installed flask-cors-3.0.8\n"
     ]
    }
   ],
   "source": [
    "!pip install -U flask-cors"
   ]
  },
  {
   "cell_type": "code",
   "execution_count": null,
   "metadata": {},
   "outputs": [],
   "source": [
    "!code index.html"
   ]
  },
  {
   "cell_type": "code",
   "execution_count": null,
   "metadata": {},
   "outputs": [
    {
     "name": "stderr",
     "output_type": "stream",
     "text": [
      " * Running on http://127.0.0.1:5000/ (Press CTRL+C to quit)\n"
     ]
    }
   ],
   "source": [
    "if __name__ == \"__main__\":\n",
    "    app.run()"
   ]
  },
  {
   "cell_type": "code",
   "execution_count": null,
   "metadata": {},
   "outputs": [],
   "source": [
    "#next:\n",
    "#The screens: \n",
    "#Admin screen(races)\n",
    "#Admin screen(heats)\n",
    "#Admin screen(boats)\n",
    "#Leaderboard\n",
    "!explorer ."
   ]
  },
  {
   "cell_type": "code",
   "execution_count": 62,
   "metadata": {},
   "outputs": [
    {
     "data": {
      "text/plain": [
       "'{\"races\": [{\"id\": 0, \"heats\": [{\"id\": 0, \"boats\": [{\"id\": 0, \"StartTime\": null, \"EndTime\": null}]}]}, {\"id\": 1, \"heats\": []}], \"stateId\": 0}'"
      ]
     },
     "execution_count": 62,
     "metadata": {},
     "output_type": "execute_result"
    }
   ],
   "source": [
    "addRace()"
   ]
  },
  {
   "cell_type": "code",
   "execution_count": 63,
   "metadata": {},
   "outputs": [
    {
     "data": {
      "text/plain": [
       "'{\"races\": [{\"id\": 0, \"heats\": [{\"id\": 0, \"boats\": [{\"id\": 0, \"StartTime\": null, \"EndTime\": null}]}, {\"id\": 1, \"boats\": []}]}, {\"id\": 1, \"heats\": []}], \"stateId\": 0}'"
      ]
     },
     "execution_count": 63,
     "metadata": {},
     "output_type": "execute_result"
    }
   ],
   "source": [
    "addHeat(raceId=0)"
   ]
  },
  {
   "cell_type": "code",
   "execution_count": 64,
   "metadata": {},
   "outputs": [
    {
     "data": {
      "text/plain": [
       "'{\"races\": [{\"id\": 0, \"heats\": [{\"id\": 0, \"boats\": [{\"id\": 0, \"StartTime\": null, \"EndTime\": null}, {\"id\": 0, \"StartTime\": null, \"EndTime\": null}]}, {\"id\": 1, \"boats\": []}]}, {\"id\": 1, \"heats\": []}], \"stateId\": 0}'"
      ]
     },
     "execution_count": 64,
     "metadata": {},
     "output_type": "execute_result"
    }
   ],
   "source": [
    "addBoat(raceId=0,heatId=0)"
   ]
  },
  {
   "cell_type": "code",
   "execution_count": 2,
   "metadata": {},
   "outputs": [
    {
     "ename": "ModuleNotFoundError",
     "evalue": "No module named 'pymongo'",
     "output_type": "error",
     "traceback": [
      "\u001b[1;31m---------------------------------------------------------------------------\u001b[0m",
      "\u001b[1;31mModuleNotFoundError\u001b[0m                       Traceback (most recent call last)",
      "\u001b[1;32m<ipython-input-2-c275cfc49946>\u001b[0m in \u001b[0;36m<module>\u001b[1;34m()\u001b[0m\n\u001b[1;32m----> 1\u001b[1;33m \u001b[1;32mimport\u001b[0m \u001b[0mpymongo\u001b[0m\u001b[1;33m\u001b[0m\u001b[0m\n\u001b[0m",
      "\u001b[1;31mModuleNotFoundError\u001b[0m: No module named 'pymongo'"
     ]
    }
   ],
   "source": [
    "import pymongo"
   ]
  },
  {
   "cell_type": "code",
   "execution_count": 3,
   "metadata": {},
   "outputs": [
    {
     "name": "stdout",
     "output_type": "stream",
     "text": [
      "Collecting pymongo\n",
      "  Downloading https://files.pythonhosted.org/packages/c7/af/37efccd56d4d2498240eed09587394e27c5900238f3dc46715844385c202/pymongo-3.8.0-cp36-cp36m-win_amd64.whl (321kB)\n",
      "Installing collected packages: pymongo\n",
      "Successfully installed pymongo-3.8.0\n"
     ]
    }
   ],
   "source": [
    "!pip install pymongo"
   ]
  },
  {
   "cell_type": "code",
   "execution_count": null,
   "metadata": {},
   "outputs": [],
   "source": [
    "#requirements:\n",
    "#Need to update for some particular heat and boat"
   ]
  },
  {
   "cell_type": "code",
   "execution_count": null,
   "metadata": {},
   "outputs": [],
   "source": [
    "cot\n",
    "caught\n",
    "kit\n",
    "cat\n",
    "kate\n",
    "coat\n",
    "coot\n",
    "cut\n",
    "kite\n",
    "basket\n"
   ]
  },
  {
   "cell_type": "code",
   "execution_count": null,
   "metadata": {},
   "outputs": [],
   "source": [
    "from flask import Flask, request\n",
    "from flask_cors import CORS\n",
    "import json\n",
    "import os\n",
    "app = Flask(__name__)\n",
    "CORS(app)\n",
    "\n",
    "mockdb = {\"races\":[], \"stateId\":0}\n",
    "\n",
    "boatCounter = 0\n",
    "heatCounter = 0\n",
    "raceCounter = 0\n",
    "\n",
    "@app.route(\"/\")\n",
    "def index():\n",
    "    root_dir = os.path.dirname(os.getcwd())\n",
    "    #print('foo')\n",
    "    #print(request.get_json())\n",
    "    #print(os.getcwd())\n",
    "    #!pwd\n",
    "    return app.send_static_file('index.html')\n",
    "    #return app.send_static_file('dragonboat.html')\n",
    "    #return '{\"resp\":\"Hello World!\"}'\n",
    "    \n",
    "@app.route('/addRace',methods=['POST'])\n",
    "def addRace():\n",
    "    global raceCounter, stateId\n",
    "    mockdb[\"races\"].append({\"id\":str(raceCounter),\"heats\":[]})\n",
    "    mockdb[\"stateId\"] += 1\n",
    "    raceCounter+=1\n",
    "    return json.dumps(mockdb)\n",
    "\n",
    "@app.route('/<raceId>/addHeat',methods=['POST'])\n",
    "def addHeat(raceId):\n",
    "    global heatCounter\n",
    "    print(mockdb)\n",
    "    print(type(raceId))\n",
    "    race = [race for race in mockdb[\"races\"] if race[\"id\"] == raceId]\n",
    "    if not race:\n",
    "        return '{\"error\": \"Race not found\"}'\n",
    "        \n",
    "    race[0][\"heats\"].append({\"id\":str(heatCounter),\"boats\":[]})\n",
    "    heatCounter+=1\n",
    "    mockdb[\"stateId\"] += 1\n",
    "    return json.dumps(mockdb)\n",
    "\n",
    "@app.route('/<raceId>/<heatId>/addBoat',methods=['POST'])\n",
    "def addBoat(raceId,heatId):\n",
    "    global boatCounter\n",
    "    race = [race for race in mockdb[\"races\"] if race[\"id\"] == raceId]\n",
    "    if not race:\n",
    "        return '{\"error\": \"Race not found\"}'\n",
    "    heat = [heat for heat in race[0][\"heats\"] if heat[\"id\"] == heatId]\n",
    "    if not heat:\n",
    "        return '{\"error\": \"Heat not found\"}'\n",
    "    heat[0][\"boats\"].append({\"id\":str(boatCounter),\"StartTime\":None,\"EndTime\":None})\n",
    "    boatCounter+=1\n",
    "    mockdb[\"stateId\"]+=1\n",
    "    return json.dumps(mockdb)\n",
    "\n",
    "def setBoatParm(raceId,heatId,boatId,k,v):\n",
    "    race = [race for race in mockdb[\"races\"] if race[\"id\"] == raceId]\n",
    "    if not race:\n",
    "        return '{\"error\": \"Race not found\"}'\n",
    "    heat = [heat for heat in race[0][\"heats\"] if heat[\"id\"] == heatId]\n",
    "    if not heat:\n",
    "        return '{\"error\": \"Heat not found\"}'\n",
    "    boat = [boat for boat in heat[0][\"boats\"] if boat[\"id\"] == boatId]\n",
    "    if not boat:\n",
    "        return '{\"error\": \"Boat not found\"}'\n",
    "    boat[0][k] = v\n",
    "    \n",
    "    mockdb[\"stateId\"] += 1\n",
    "    \n",
    "    return json.dumps(mockdb)\n",
    "\n",
    "@app.route('/<raceId>/<heatId>/<boatId>/setStartTime',methods=['POST'])\n",
    "def setStartTime(raceId,heatId,boatId,time):\n",
    "    reqJSON = request.get_json()\n",
    "    if not \"StartTime\" in reqJSON:\n",
    "        return '{\"error\": \"missing start time\"}'\n",
    "    print(request.get_json())\n",
    "    mockdb[\"stateId\"] += 1\n",
    "    return setBoatParm(raceId,heatId,boatId,\"StartTime\",time)\n",
    "\n",
    "@app.route('/<raceId>/<heatId>/<boatId>/setEndTime',methods=['POST'])\n",
    "def setEndTime(raceId,heatId,boatId,time):\n",
    "    reqJSON = request.get_json()\n",
    "    if not \"EndTime\" in reqJSON:\n",
    "        return '{\"error\": \"missing end time\"}'\n",
    "    mockdb[\"stateId\"] += 1\n",
    "    return setBoatParm(raceId,heatId,boatId,\"EndTime\",time)\n",
    "\n",
    "@app.route('/getState',methods=['POST'])\n",
    "def getState():\n",
    "    reqJSON = request.get_json()\n",
    "    if reqJSON and \"stateId\" in reqJSON and str(mockdb[\"stateId\"]) == reqJSON[\"stateId\"]:\n",
    "        return '{\"unchanged\": 1}'\n",
    "    return json.dumps(mockdb)"
   ]
  }
 ],
 "metadata": {
  "kernelspec": {
   "display_name": "Python 3",
   "language": "python",
   "name": "python3"
  },
  "language_info": {
   "codemirror_mode": {
    "name": "ipython",
    "version": 3
   },
   "file_extension": ".py",
   "mimetype": "text/x-python",
   "name": "python",
   "nbconvert_exporter": "python",
   "pygments_lexer": "ipython3",
   "version": "3.6.5"
  }
 },
 "nbformat": 4,
 "nbformat_minor": 2
}
