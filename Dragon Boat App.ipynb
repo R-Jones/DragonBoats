{
 "cells": [
  {
   "cell_type": "code",
   "execution_count": 1,
   "metadata": {},
   "outputs": [],
   "source": [
    "from flask import Flask, request\n",
    "from flask_cors import CORS\n",
    "import json\n",
    "import os\n",
    "app = Flask(__name__)\n",
    "CORS(app)\n",
    "\n",
    "mockdb = {\"heats\":[], \"stateId\":0}\n",
    "\n",
    "boatCounter = 0\n",
    "heatCounter = 0\n",
    "\n",
    "@app.route(\"/\")\n",
    "def index():\n",
    "    root_dir = os.path.dirname(os.getcwd())\n",
    "    return app.send_static_file('index.html')\n",
    "\n",
    "@app.route('/addHeat',methods=['POST'])\n",
    "def addHeat():\n",
    "    global heatCounter\n",
    "    print(mockdb)\n",
    "        \n",
    "    mockdb[\"heats\"].append({\"id\":str(heatCounter),\"boats\":[]})\n",
    "    heatCounter+=1\n",
    "    mockdb[\"stateId\"] += 1\n",
    "    return json.dumps(mockdb)\n",
    "\n",
    "@app.route('/<heatId>/addBoat',methods=['POST'])\n",
    "def addBoat(heatId):\n",
    "    global boatCounter\n",
    "    heat = [heat for heat in mockdb[\"heats\"] if heat[\"id\"] == heatId]\n",
    "    if not heat:\n",
    "        return '{\"error\": \"Heat not found\"}'\n",
    "    heat[0][\"boats\"].append({\"id\":str(boatCounter),\"StartTime\":None,\"EndTime\":None})\n",
    "    boatCounter+=1\n",
    "    mockdb[\"stateId\"]+=1\n",
    "    return json.dumps(mockdb)\n",
    "\n",
    "def setBoatParm(heatId,boatId,k,v):\n",
    "    heat = [heat for heat in mockdb[\"heats\"] if heat[\"id\"] == heatId]\n",
    "    if not heat:\n",
    "        return '{\"error\": \"Heat not found\"}'\n",
    "    boat = [boat for boat in heat[0][\"boats\"] if boat[\"id\"] == boatId]\n",
    "    if not boat:\n",
    "        return '{\"error\": \"Boat not found\"}'\n",
    "    boat[0][k] = v\n",
    "    \n",
    "    mockdb[\"stateId\"] += 1\n",
    "    \n",
    "    return json.dumps(mockdb)\n",
    "\n",
    "@app.route('/<heatId>/<boatId>/setStartTime',methods=['POST'])\n",
    "def setStartTime(heatId,boatId,time):\n",
    "    reqJSON = request.get_json()\n",
    "    if not \"StartTime\" in reqJSON:\n",
    "        return '{\"error\": \"missing start time\"}'\n",
    "    print(request.get_json())\n",
    "    mockdb[\"stateId\"] += 1\n",
    "    return setBoatParm(heatId,boatId,\"StartTime\",time)\n",
    "\n",
    "@app.route('/<heatId>/<boatId>/setEndTime',methods=['POST'])\n",
    "def setEndTime(heatId,boatId,time):\n",
    "    reqJSON = request.get_json()\n",
    "    if not \"EndTime\" in reqJSON:\n",
    "        return '{\"error\": \"missing end time\"}'\n",
    "    mockdb[\"stateId\"] += 1\n",
    "    return setBoatParm(heatId,boatId,\"EndTime\",time)\n",
    "\n",
    "@app.route('/getState',methods=['POST'])\n",
    "def getState():\n",
    "    reqJSON = request.get_json()\n",
    "    if reqJSON and \"stateId\" in reqJSON and str(mockdb[\"stateId\"]) == reqJSON[\"stateId\"]:\n",
    "        return '{\"unchanged\": 1}'\n",
    "    return json.dumps(mockdb)"
   ]
  },
  {
   "cell_type": "code",
   "execution_count": null,
   "metadata": {},
   "outputs": [
    {
     "name": "stderr",
     "output_type": "stream",
     "text": [
      " * Running on http://127.0.0.1:5000/ (Press CTRL+C to quit)\n",
      "127.0.0.1 - - [22/Jul/2019 13:08:46] \"POST /addHeat HTTP/1.1\" 200 -\n"
     ]
    },
    {
     "name": "stdout",
     "output_type": "stream",
     "text": [
      "{'heats': [], 'stateId': 0}\n"
     ]
    },
    {
     "name": "stderr",
     "output_type": "stream",
     "text": [
      "127.0.0.1 - - [22/Jul/2019 13:08:46] \"POST /addHeat HTTP/1.1\" 200 -\n"
     ]
    },
    {
     "name": "stdout",
     "output_type": "stream",
     "text": [
      "{'heats': [{'id': '0', 'boats': []}], 'stateId': 1}\n"
     ]
    },
    {
     "name": "stderr",
     "output_type": "stream",
     "text": [
      "127.0.0.1 - - [22/Jul/2019 13:08:47] \"POST /addHeat HTTP/1.1\" 200 -\n"
     ]
    },
    {
     "name": "stdout",
     "output_type": "stream",
     "text": [
      "{'heats': [{'id': '0', 'boats': []}, {'id': '1', 'boats': []}], 'stateId': 2}\n"
     ]
    },
    {
     "name": "stderr",
     "output_type": "stream",
     "text": [
      "127.0.0.1 - - [22/Jul/2019 13:08:47] \"POST /addHeat HTTP/1.1\" 200 -\n"
     ]
    },
    {
     "name": "stdout",
     "output_type": "stream",
     "text": [
      "{'heats': [{'id': '0', 'boats': []}, {'id': '1', 'boats': []}, {'id': '2', 'boats': []}], 'stateId': 3}\n"
     ]
    },
    {
     "name": "stderr",
     "output_type": "stream",
     "text": [
      "127.0.0.1 - - [22/Jul/2019 13:08:47] \"POST /addHeat HTTP/1.1\" 200 -\n"
     ]
    },
    {
     "name": "stdout",
     "output_type": "stream",
     "text": [
      "{'heats': [{'id': '0', 'boats': []}, {'id': '1', 'boats': []}, {'id': '2', 'boats': []}, {'id': '3', 'boats': []}], 'stateId': 4}\n"
     ]
    },
    {
     "name": "stderr",
     "output_type": "stream",
     "text": [
      "127.0.0.1 - - [22/Jul/2019 13:08:48] \"POST /addHeat HTTP/1.1\" 200 -\n"
     ]
    },
    {
     "name": "stdout",
     "output_type": "stream",
     "text": [
      "{'heats': [{'id': '0', 'boats': []}, {'id': '1', 'boats': []}, {'id': '2', 'boats': []}, {'id': '3', 'boats': []}, {'id': '4', 'boats': []}], 'stateId': 5}\n"
     ]
    },
    {
     "name": "stderr",
     "output_type": "stream",
     "text": [
      "127.0.0.1 - - [22/Jul/2019 13:08:52] \"POST /undefined/addBoat HTTP/1.1\" 200 -\n",
      "127.0.0.1 - - [22/Jul/2019 13:09:25] \"POST /addHeat HTTP/1.1\" 200 -\n"
     ]
    },
    {
     "name": "stdout",
     "output_type": "stream",
     "text": [
      "{'heats': [{'id': '0', 'boats': []}, {'id': '1', 'boats': []}, {'id': '2', 'boats': []}, {'id': '3', 'boats': []}, {'id': '4', 'boats': []}, {'id': '5', 'boats': []}], 'stateId': 6}\n"
     ]
    },
    {
     "name": "stderr",
     "output_type": "stream",
     "text": [
      "127.0.0.1 - - [22/Jul/2019 13:09:27] \"POST /addHeat HTTP/1.1\" 200 -\n"
     ]
    },
    {
     "name": "stdout",
     "output_type": "stream",
     "text": [
      "{'heats': [{'id': '0', 'boats': []}, {'id': '1', 'boats': []}, {'id': '2', 'boats': []}, {'id': '3', 'boats': []}, {'id': '4', 'boats': []}, {'id': '5', 'boats': []}, {'id': '6', 'boats': []}], 'stateId': 7}\n"
     ]
    },
    {
     "name": "stderr",
     "output_type": "stream",
     "text": [
      "127.0.0.1 - - [22/Jul/2019 13:09:49] \"POST /addHeat HTTP/1.1\" 200 -\n"
     ]
    },
    {
     "name": "stdout",
     "output_type": "stream",
     "text": [
      "{'heats': [{'id': '0', 'boats': []}, {'id': '1', 'boats': []}, {'id': '2', 'boats': []}, {'id': '3', 'boats': []}, {'id': '4', 'boats': []}, {'id': '5', 'boats': []}, {'id': '6', 'boats': []}, {'id': '7', 'boats': []}], 'stateId': 8}\n"
     ]
    },
    {
     "name": "stderr",
     "output_type": "stream",
     "text": [
      "127.0.0.1 - - [22/Jul/2019 13:09:52] \"POST /addHeat HTTP/1.1\" 200 -\n"
     ]
    },
    {
     "name": "stdout",
     "output_type": "stream",
     "text": [
      "{'heats': [{'id': '0', 'boats': []}, {'id': '1', 'boats': []}, {'id': '2', 'boats': []}, {'id': '3', 'boats': []}, {'id': '4', 'boats': []}, {'id': '5', 'boats': []}, {'id': '6', 'boats': []}, {'id': '7', 'boats': []}, {'id': '8', 'boats': []}], 'stateId': 9}\n"
     ]
    },
    {
     "name": "stderr",
     "output_type": "stream",
     "text": [
      "127.0.0.1 - - [22/Jul/2019 13:09:52] \"POST /addHeat HTTP/1.1\" 200 -\n"
     ]
    },
    {
     "name": "stdout",
     "output_type": "stream",
     "text": [
      "{'heats': [{'id': '0', 'boats': []}, {'id': '1', 'boats': []}, {'id': '2', 'boats': []}, {'id': '3', 'boats': []}, {'id': '4', 'boats': []}, {'id': '5', 'boats': []}, {'id': '6', 'boats': []}, {'id': '7', 'boats': []}, {'id': '8', 'boats': []}, {'id': '9', 'boats': []}], 'stateId': 10}\n"
     ]
    },
    {
     "name": "stderr",
     "output_type": "stream",
     "text": [
      "127.0.0.1 - - [22/Jul/2019 13:09:53] \"POST /addHeat HTTP/1.1\" 200 -\n"
     ]
    },
    {
     "name": "stdout",
     "output_type": "stream",
     "text": [
      "{'heats': [{'id': '0', 'boats': []}, {'id': '1', 'boats': []}, {'id': '2', 'boats': []}, {'id': '3', 'boats': []}, {'id': '4', 'boats': []}, {'id': '5', 'boats': []}, {'id': '6', 'boats': []}, {'id': '7', 'boats': []}, {'id': '8', 'boats': []}, {'id': '9', 'boats': []}, {'id': '10', 'boats': []}], 'stateId': 11}\n"
     ]
    },
    {
     "name": "stderr",
     "output_type": "stream",
     "text": [
      "127.0.0.1 - - [22/Jul/2019 13:09:53] \"POST /addHeat HTTP/1.1\" 200 -\n"
     ]
    },
    {
     "name": "stdout",
     "output_type": "stream",
     "text": [
      "{'heats': [{'id': '0', 'boats': []}, {'id': '1', 'boats': []}, {'id': '2', 'boats': []}, {'id': '3', 'boats': []}, {'id': '4', 'boats': []}, {'id': '5', 'boats': []}, {'id': '6', 'boats': []}, {'id': '7', 'boats': []}, {'id': '8', 'boats': []}, {'id': '9', 'boats': []}, {'id': '10', 'boats': []}, {'id': '11', 'boats': []}], 'stateId': 12}\n"
     ]
    },
    {
     "name": "stderr",
     "output_type": "stream",
     "text": [
      "127.0.0.1 - - [22/Jul/2019 13:09:53] \"POST /addHeat HTTP/1.1\" 200 -\n"
     ]
    },
    {
     "name": "stdout",
     "output_type": "stream",
     "text": [
      "{'heats': [{'id': '0', 'boats': []}, {'id': '1', 'boats': []}, {'id': '2', 'boats': []}, {'id': '3', 'boats': []}, {'id': '4', 'boats': []}, {'id': '5', 'boats': []}, {'id': '6', 'boats': []}, {'id': '7', 'boats': []}, {'id': '8', 'boats': []}, {'id': '9', 'boats': []}, {'id': '10', 'boats': []}, {'id': '11', 'boats': []}, {'id': '12', 'boats': []}], 'stateId': 13}\n"
     ]
    },
    {
     "name": "stderr",
     "output_type": "stream",
     "text": [
      "127.0.0.1 - - [22/Jul/2019 13:09:54] \"POST /addHeat HTTP/1.1\" 200 -\n"
     ]
    },
    {
     "name": "stdout",
     "output_type": "stream",
     "text": [
      "{'heats': [{'id': '0', 'boats': []}, {'id': '1', 'boats': []}, {'id': '2', 'boats': []}, {'id': '3', 'boats': []}, {'id': '4', 'boats': []}, {'id': '5', 'boats': []}, {'id': '6', 'boats': []}, {'id': '7', 'boats': []}, {'id': '8', 'boats': []}, {'id': '9', 'boats': []}, {'id': '10', 'boats': []}, {'id': '11', 'boats': []}, {'id': '12', 'boats': []}, {'id': '13', 'boats': []}], 'stateId': 14}\n"
     ]
    },
    {
     "name": "stderr",
     "output_type": "stream",
     "text": [
      "127.0.0.1 - - [22/Jul/2019 13:09:54] \"POST /addHeat HTTP/1.1\" 200 -\n"
     ]
    },
    {
     "name": "stdout",
     "output_type": "stream",
     "text": [
      "{'heats': [{'id': '0', 'boats': []}, {'id': '1', 'boats': []}, {'id': '2', 'boats': []}, {'id': '3', 'boats': []}, {'id': '4', 'boats': []}, {'id': '5', 'boats': []}, {'id': '6', 'boats': []}, {'id': '7', 'boats': []}, {'id': '8', 'boats': []}, {'id': '9', 'boats': []}, {'id': '10', 'boats': []}, {'id': '11', 'boats': []}, {'id': '12', 'boats': []}, {'id': '13', 'boats': []}, {'id': '14', 'boats': []}], 'stateId': 15}\n"
     ]
    },
    {
     "name": "stderr",
     "output_type": "stream",
     "text": [
      "127.0.0.1 - - [22/Jul/2019 13:09:55] \"POST /addHeat HTTP/1.1\" 200 -\n"
     ]
    },
    {
     "name": "stdout",
     "output_type": "stream",
     "text": [
      "{'heats': [{'id': '0', 'boats': []}, {'id': '1', 'boats': []}, {'id': '2', 'boats': []}, {'id': '3', 'boats': []}, {'id': '4', 'boats': []}, {'id': '5', 'boats': []}, {'id': '6', 'boats': []}, {'id': '7', 'boats': []}, {'id': '8', 'boats': []}, {'id': '9', 'boats': []}, {'id': '10', 'boats': []}, {'id': '11', 'boats': []}, {'id': '12', 'boats': []}, {'id': '13', 'boats': []}, {'id': '14', 'boats': []}, {'id': '15', 'boats': []}], 'stateId': 16}\n"
     ]
    },
    {
     "name": "stderr",
     "output_type": "stream",
     "text": [
      "127.0.0.1 - - [22/Jul/2019 13:09:55] \"POST /addHeat HTTP/1.1\" 200 -\n"
     ]
    },
    {
     "name": "stdout",
     "output_type": "stream",
     "text": [
      "{'heats': [{'id': '0', 'boats': []}, {'id': '1', 'boats': []}, {'id': '2', 'boats': []}, {'id': '3', 'boats': []}, {'id': '4', 'boats': []}, {'id': '5', 'boats': []}, {'id': '6', 'boats': []}, {'id': '7', 'boats': []}, {'id': '8', 'boats': []}, {'id': '9', 'boats': []}, {'id': '10', 'boats': []}, {'id': '11', 'boats': []}, {'id': '12', 'boats': []}, {'id': '13', 'boats': []}, {'id': '14', 'boats': []}, {'id': '15', 'boats': []}, {'id': '16', 'boats': []}], 'stateId': 17}\n"
     ]
    },
    {
     "name": "stderr",
     "output_type": "stream",
     "text": [
      "127.0.0.1 - - [22/Jul/2019 13:09:56] \"POST /addHeat HTTP/1.1\" 200 -\n"
     ]
    },
    {
     "name": "stdout",
     "output_type": "stream",
     "text": [
      "{'heats': [{'id': '0', 'boats': []}, {'id': '1', 'boats': []}, {'id': '2', 'boats': []}, {'id': '3', 'boats': []}, {'id': '4', 'boats': []}, {'id': '5', 'boats': []}, {'id': '6', 'boats': []}, {'id': '7', 'boats': []}, {'id': '8', 'boats': []}, {'id': '9', 'boats': []}, {'id': '10', 'boats': []}, {'id': '11', 'boats': []}, {'id': '12', 'boats': []}, {'id': '13', 'boats': []}, {'id': '14', 'boats': []}, {'id': '15', 'boats': []}, {'id': '16', 'boats': []}, {'id': '17', 'boats': []}], 'stateId': 18}\n"
     ]
    },
    {
     "name": "stderr",
     "output_type": "stream",
     "text": [
      "127.0.0.1 - - [22/Jul/2019 13:09:56] \"POST /addHeat HTTP/1.1\" 200 -\n"
     ]
    },
    {
     "name": "stdout",
     "output_type": "stream",
     "text": [
      "{'heats': [{'id': '0', 'boats': []}, {'id': '1', 'boats': []}, {'id': '2', 'boats': []}, {'id': '3', 'boats': []}, {'id': '4', 'boats': []}, {'id': '5', 'boats': []}, {'id': '6', 'boats': []}, {'id': '7', 'boats': []}, {'id': '8', 'boats': []}, {'id': '9', 'boats': []}, {'id': '10', 'boats': []}, {'id': '11', 'boats': []}, {'id': '12', 'boats': []}, {'id': '13', 'boats': []}, {'id': '14', 'boats': []}, {'id': '15', 'boats': []}, {'id': '16', 'boats': []}, {'id': '17', 'boats': []}, {'id': '18', 'boats': []}], 'stateId': 19}\n"
     ]
    },
    {
     "name": "stderr",
     "output_type": "stream",
     "text": [
      "127.0.0.1 - - [22/Jul/2019 13:10:14] \"POST /addHeat HTTP/1.1\" 200 -\n"
     ]
    },
    {
     "name": "stdout",
     "output_type": "stream",
     "text": [
      "{'heats': [{'id': '0', 'boats': []}, {'id': '1', 'boats': []}, {'id': '2', 'boats': []}, {'id': '3', 'boats': []}, {'id': '4', 'boats': []}, {'id': '5', 'boats': []}, {'id': '6', 'boats': []}, {'id': '7', 'boats': []}, {'id': '8', 'boats': []}, {'id': '9', 'boats': []}, {'id': '10', 'boats': []}, {'id': '11', 'boats': []}, {'id': '12', 'boats': []}, {'id': '13', 'boats': []}, {'id': '14', 'boats': []}, {'id': '15', 'boats': []}, {'id': '16', 'boats': []}, {'id': '17', 'boats': []}, {'id': '18', 'boats': []}, {'id': '19', 'boats': []}], 'stateId': 20}\n"
     ]
    },
    {
     "name": "stderr",
     "output_type": "stream",
     "text": [
      "127.0.0.1 - - [22/Jul/2019 13:10:15] \"POST /addHeat HTTP/1.1\" 200 -\n"
     ]
    },
    {
     "name": "stdout",
     "output_type": "stream",
     "text": [
      "{'heats': [{'id': '0', 'boats': []}, {'id': '1', 'boats': []}, {'id': '2', 'boats': []}, {'id': '3', 'boats': []}, {'id': '4', 'boats': []}, {'id': '5', 'boats': []}, {'id': '6', 'boats': []}, {'id': '7', 'boats': []}, {'id': '8', 'boats': []}, {'id': '9', 'boats': []}, {'id': '10', 'boats': []}, {'id': '11', 'boats': []}, {'id': '12', 'boats': []}, {'id': '13', 'boats': []}, {'id': '14', 'boats': []}, {'id': '15', 'boats': []}, {'id': '16', 'boats': []}, {'id': '17', 'boats': []}, {'id': '18', 'boats': []}, {'id': '19', 'boats': []}, {'id': '20', 'boats': []}], 'stateId': 21}\n"
     ]
    },
    {
     "name": "stderr",
     "output_type": "stream",
     "text": [
      "127.0.0.1 - - [22/Jul/2019 13:10:15] \"POST /addHeat HTTP/1.1\" 200 -\n"
     ]
    },
    {
     "name": "stdout",
     "output_type": "stream",
     "text": [
      "{'heats': [{'id': '0', 'boats': []}, {'id': '1', 'boats': []}, {'id': '2', 'boats': []}, {'id': '3', 'boats': []}, {'id': '4', 'boats': []}, {'id': '5', 'boats': []}, {'id': '6', 'boats': []}, {'id': '7', 'boats': []}, {'id': '8', 'boats': []}, {'id': '9', 'boats': []}, {'id': '10', 'boats': []}, {'id': '11', 'boats': []}, {'id': '12', 'boats': []}, {'id': '13', 'boats': []}, {'id': '14', 'boats': []}, {'id': '15', 'boats': []}, {'id': '16', 'boats': []}, {'id': '17', 'boats': []}, {'id': '18', 'boats': []}, {'id': '19', 'boats': []}, {'id': '20', 'boats': []}, {'id': '21', 'boats': []}], 'stateId': 22}\n"
     ]
    },
    {
     "name": "stderr",
     "output_type": "stream",
     "text": [
      "127.0.0.1 - - [22/Jul/2019 13:10:15] \"POST /addHeat HTTP/1.1\" 200 -\n"
     ]
    },
    {
     "name": "stdout",
     "output_type": "stream",
     "text": [
      "{'heats': [{'id': '0', 'boats': []}, {'id': '1', 'boats': []}, {'id': '2', 'boats': []}, {'id': '3', 'boats': []}, {'id': '4', 'boats': []}, {'id': '5', 'boats': []}, {'id': '6', 'boats': []}, {'id': '7', 'boats': []}, {'id': '8', 'boats': []}, {'id': '9', 'boats': []}, {'id': '10', 'boats': []}, {'id': '11', 'boats': []}, {'id': '12', 'boats': []}, {'id': '13', 'boats': []}, {'id': '14', 'boats': []}, {'id': '15', 'boats': []}, {'id': '16', 'boats': []}, {'id': '17', 'boats': []}, {'id': '18', 'boats': []}, {'id': '19', 'boats': []}, {'id': '20', 'boats': []}, {'id': '21', 'boats': []}, {'id': '22', 'boats': []}], 'stateId': 23}\n"
     ]
    },
    {
     "name": "stderr",
     "output_type": "stream",
     "text": [
      "127.0.0.1 - - [22/Jul/2019 13:10:16] \"POST /addHeat HTTP/1.1\" 200 -\n"
     ]
    },
    {
     "name": "stdout",
     "output_type": "stream",
     "text": [
      "{'heats': [{'id': '0', 'boats': []}, {'id': '1', 'boats': []}, {'id': '2', 'boats': []}, {'id': '3', 'boats': []}, {'id': '4', 'boats': []}, {'id': '5', 'boats': []}, {'id': '6', 'boats': []}, {'id': '7', 'boats': []}, {'id': '8', 'boats': []}, {'id': '9', 'boats': []}, {'id': '10', 'boats': []}, {'id': '11', 'boats': []}, {'id': '12', 'boats': []}, {'id': '13', 'boats': []}, {'id': '14', 'boats': []}, {'id': '15', 'boats': []}, {'id': '16', 'boats': []}, {'id': '17', 'boats': []}, {'id': '18', 'boats': []}, {'id': '19', 'boats': []}, {'id': '20', 'boats': []}, {'id': '21', 'boats': []}, {'id': '22', 'boats': []}, {'id': '23', 'boats': []}], 'stateId': 24}\n"
     ]
    },
    {
     "name": "stderr",
     "output_type": "stream",
     "text": [
      "127.0.0.1 - - [22/Jul/2019 13:10:16] \"POST /addHeat HTTP/1.1\" 200 -\n"
     ]
    },
    {
     "name": "stdout",
     "output_type": "stream",
     "text": [
      "{'heats': [{'id': '0', 'boats': []}, {'id': '1', 'boats': []}, {'id': '2', 'boats': []}, {'id': '3', 'boats': []}, {'id': '4', 'boats': []}, {'id': '5', 'boats': []}, {'id': '6', 'boats': []}, {'id': '7', 'boats': []}, {'id': '8', 'boats': []}, {'id': '9', 'boats': []}, {'id': '10', 'boats': []}, {'id': '11', 'boats': []}, {'id': '12', 'boats': []}, {'id': '13', 'boats': []}, {'id': '14', 'boats': []}, {'id': '15', 'boats': []}, {'id': '16', 'boats': []}, {'id': '17', 'boats': []}, {'id': '18', 'boats': []}, {'id': '19', 'boats': []}, {'id': '20', 'boats': []}, {'id': '21', 'boats': []}, {'id': '22', 'boats': []}, {'id': '23', 'boats': []}, {'id': '24', 'boats': []}], 'stateId': 25}\n"
     ]
    },
    {
     "name": "stderr",
     "output_type": "stream",
     "text": [
      "127.0.0.1 - - [22/Jul/2019 13:10:37] \"POST /undefined/addBoat HTTP/1.1\" 200 -\n",
      "127.0.0.1 - - [22/Jul/2019 13:11:58] \"POST /undefined/addBoat HTTP/1.1\" 200 -\n",
      "127.0.0.1 - - [22/Jul/2019 13:12:20] \"POST /0/addBoat HTTP/1.1\" 200 -\n",
      "127.0.0.1 - - [22/Jul/2019 13:12:21] \"POST /0/addBoat HTTP/1.1\" 200 -\n",
      "127.0.0.1 - - [22/Jul/2019 13:12:22] \"POST /0/addBoat HTTP/1.1\" 200 -\n",
      "127.0.0.1 - - [22/Jul/2019 13:12:23] \"POST /0/addBoat HTTP/1.1\" 200 -\n",
      "127.0.0.1 - - [22/Jul/2019 13:12:23] \"POST /0/addBoat HTTP/1.1\" 200 -\n",
      "127.0.0.1 - - [22/Jul/2019 13:12:23] \"POST /0/addBoat HTTP/1.1\" 200 -\n",
      "127.0.0.1 - - [22/Jul/2019 13:12:24] \"POST /0/addBoat HTTP/1.1\" 200 -\n",
      "127.0.0.1 - - [22/Jul/2019 13:12:24] \"POST /0/addBoat HTTP/1.1\" 200 -\n",
      "127.0.0.1 - - [22/Jul/2019 13:12:25] \"POST /0/addBoat HTTP/1.1\" 200 -\n",
      "127.0.0.1 - - [22/Jul/2019 13:14:58] \"POST /addHeat HTTP/1.1\" 200 -\n"
     ]
    },
    {
     "name": "stdout",
     "output_type": "stream",
     "text": [
      "{'heats': [{'id': '0', 'boats': [{'id': '0', 'StartTime': None, 'EndTime': None}, {'id': '1', 'StartTime': None, 'EndTime': None}, {'id': '2', 'StartTime': None, 'EndTime': None}, {'id': '3', 'StartTime': None, 'EndTime': None}, {'id': '4', 'StartTime': None, 'EndTime': None}, {'id': '5', 'StartTime': None, 'EndTime': None}, {'id': '6', 'StartTime': None, 'EndTime': None}, {'id': '7', 'StartTime': None, 'EndTime': None}, {'id': '8', 'StartTime': None, 'EndTime': None}]}, {'id': '1', 'boats': []}, {'id': '2', 'boats': []}, {'id': '3', 'boats': []}, {'id': '4', 'boats': []}, {'id': '5', 'boats': []}, {'id': '6', 'boats': []}, {'id': '7', 'boats': []}, {'id': '8', 'boats': []}, {'id': '9', 'boats': []}, {'id': '10', 'boats': []}, {'id': '11', 'boats': []}, {'id': '12', 'boats': []}, {'id': '13', 'boats': []}, {'id': '14', 'boats': []}, {'id': '15', 'boats': []}, {'id': '16', 'boats': []}, {'id': '17', 'boats': []}, {'id': '18', 'boats': []}, {'id': '19', 'boats': []}, {'id': '20', 'boats': []}, {'id': '21', 'boats': []}, {'id': '22', 'boats': []}, {'id': '23', 'boats': []}, {'id': '24', 'boats': []}, {'id': '25', 'boats': []}], 'stateId': 35}\n"
     ]
    },
    {
     "name": "stderr",
     "output_type": "stream",
     "text": [
      "127.0.0.1 - - [22/Jul/2019 13:14:59] \"POST /addHeat HTTP/1.1\" 200 -\n"
     ]
    },
    {
     "name": "stdout",
     "output_type": "stream",
     "text": [
      "{'heats': [{'id': '0', 'boats': [{'id': '0', 'StartTime': None, 'EndTime': None}, {'id': '1', 'StartTime': None, 'EndTime': None}, {'id': '2', 'StartTime': None, 'EndTime': None}, {'id': '3', 'StartTime': None, 'EndTime': None}, {'id': '4', 'StartTime': None, 'EndTime': None}, {'id': '5', 'StartTime': None, 'EndTime': None}, {'id': '6', 'StartTime': None, 'EndTime': None}, {'id': '7', 'StartTime': None, 'EndTime': None}, {'id': '8', 'StartTime': None, 'EndTime': None}]}, {'id': '1', 'boats': []}, {'id': '2', 'boats': []}, {'id': '3', 'boats': []}, {'id': '4', 'boats': []}, {'id': '5', 'boats': []}, {'id': '6', 'boats': []}, {'id': '7', 'boats': []}, {'id': '8', 'boats': []}, {'id': '9', 'boats': []}, {'id': '10', 'boats': []}, {'id': '11', 'boats': []}, {'id': '12', 'boats': []}, {'id': '13', 'boats': []}, {'id': '14', 'boats': []}, {'id': '15', 'boats': []}, {'id': '16', 'boats': []}, {'id': '17', 'boats': []}, {'id': '18', 'boats': []}, {'id': '19', 'boats': []}, {'id': '20', 'boats': []}, {'id': '21', 'boats': []}, {'id': '22', 'boats': []}, {'id': '23', 'boats': []}, {'id': '24', 'boats': []}, {'id': '25', 'boats': []}, {'id': '26', 'boats': []}], 'stateId': 36}\n"
     ]
    },
    {
     "name": "stderr",
     "output_type": "stream",
     "text": [
      "127.0.0.1 - - [22/Jul/2019 13:15:00] \"POST /addHeat HTTP/1.1\" 200 -\n"
     ]
    },
    {
     "name": "stdout",
     "output_type": "stream",
     "text": [
      "{'heats': [{'id': '0', 'boats': [{'id': '0', 'StartTime': None, 'EndTime': None}, {'id': '1', 'StartTime': None, 'EndTime': None}, {'id': '2', 'StartTime': None, 'EndTime': None}, {'id': '3', 'StartTime': None, 'EndTime': None}, {'id': '4', 'StartTime': None, 'EndTime': None}, {'id': '5', 'StartTime': None, 'EndTime': None}, {'id': '6', 'StartTime': None, 'EndTime': None}, {'id': '7', 'StartTime': None, 'EndTime': None}, {'id': '8', 'StartTime': None, 'EndTime': None}]}, {'id': '1', 'boats': []}, {'id': '2', 'boats': []}, {'id': '3', 'boats': []}, {'id': '4', 'boats': []}, {'id': '5', 'boats': []}, {'id': '6', 'boats': []}, {'id': '7', 'boats': []}, {'id': '8', 'boats': []}, {'id': '9', 'boats': []}, {'id': '10', 'boats': []}, {'id': '11', 'boats': []}, {'id': '12', 'boats': []}, {'id': '13', 'boats': []}, {'id': '14', 'boats': []}, {'id': '15', 'boats': []}, {'id': '16', 'boats': []}, {'id': '17', 'boats': []}, {'id': '18', 'boats': []}, {'id': '19', 'boats': []}, {'id': '20', 'boats': []}, {'id': '21', 'boats': []}, {'id': '22', 'boats': []}, {'id': '23', 'boats': []}, {'id': '24', 'boats': []}, {'id': '25', 'boats': []}, {'id': '26', 'boats': []}, {'id': '27', 'boats': []}], 'stateId': 37}\n"
     ]
    },
    {
     "name": "stderr",
     "output_type": "stream",
     "text": [
      "127.0.0.1 - - [22/Jul/2019 13:15:01] \"POST /addHeat HTTP/1.1\" 200 -\n"
     ]
    },
    {
     "name": "stdout",
     "output_type": "stream",
     "text": [
      "{'heats': [{'id': '0', 'boats': [{'id': '0', 'StartTime': None, 'EndTime': None}, {'id': '1', 'StartTime': None, 'EndTime': None}, {'id': '2', 'StartTime': None, 'EndTime': None}, {'id': '3', 'StartTime': None, 'EndTime': None}, {'id': '4', 'StartTime': None, 'EndTime': None}, {'id': '5', 'StartTime': None, 'EndTime': None}, {'id': '6', 'StartTime': None, 'EndTime': None}, {'id': '7', 'StartTime': None, 'EndTime': None}, {'id': '8', 'StartTime': None, 'EndTime': None}]}, {'id': '1', 'boats': []}, {'id': '2', 'boats': []}, {'id': '3', 'boats': []}, {'id': '4', 'boats': []}, {'id': '5', 'boats': []}, {'id': '6', 'boats': []}, {'id': '7', 'boats': []}, {'id': '8', 'boats': []}, {'id': '9', 'boats': []}, {'id': '10', 'boats': []}, {'id': '11', 'boats': []}, {'id': '12', 'boats': []}, {'id': '13', 'boats': []}, {'id': '14', 'boats': []}, {'id': '15', 'boats': []}, {'id': '16', 'boats': []}, {'id': '17', 'boats': []}, {'id': '18', 'boats': []}, {'id': '19', 'boats': []}, {'id': '20', 'boats': []}, {'id': '21', 'boats': []}, {'id': '22', 'boats': []}, {'id': '23', 'boats': []}, {'id': '24', 'boats': []}, {'id': '25', 'boats': []}, {'id': '26', 'boats': []}, {'id': '27', 'boats': []}, {'id': '28', 'boats': []}], 'stateId': 38}\n"
     ]
    },
    {
     "name": "stderr",
     "output_type": "stream",
     "text": [
      "127.0.0.1 - - [22/Jul/2019 13:15:01] \"POST /addHeat HTTP/1.1\" 200 -\n"
     ]
    },
    {
     "name": "stdout",
     "output_type": "stream",
     "text": [
      "{'heats': [{'id': '0', 'boats': [{'id': '0', 'StartTime': None, 'EndTime': None}, {'id': '1', 'StartTime': None, 'EndTime': None}, {'id': '2', 'StartTime': None, 'EndTime': None}, {'id': '3', 'StartTime': None, 'EndTime': None}, {'id': '4', 'StartTime': None, 'EndTime': None}, {'id': '5', 'StartTime': None, 'EndTime': None}, {'id': '6', 'StartTime': None, 'EndTime': None}, {'id': '7', 'StartTime': None, 'EndTime': None}, {'id': '8', 'StartTime': None, 'EndTime': None}]}, {'id': '1', 'boats': []}, {'id': '2', 'boats': []}, {'id': '3', 'boats': []}, {'id': '4', 'boats': []}, {'id': '5', 'boats': []}, {'id': '6', 'boats': []}, {'id': '7', 'boats': []}, {'id': '8', 'boats': []}, {'id': '9', 'boats': []}, {'id': '10', 'boats': []}, {'id': '11', 'boats': []}, {'id': '12', 'boats': []}, {'id': '13', 'boats': []}, {'id': '14', 'boats': []}, {'id': '15', 'boats': []}, {'id': '16', 'boats': []}, {'id': '17', 'boats': []}, {'id': '18', 'boats': []}, {'id': '19', 'boats': []}, {'id': '20', 'boats': []}, {'id': '21', 'boats': []}, {'id': '22', 'boats': []}, {'id': '23', 'boats': []}, {'id': '24', 'boats': []}, {'id': '25', 'boats': []}, {'id': '26', 'boats': []}, {'id': '27', 'boats': []}, {'id': '28', 'boats': []}, {'id': '29', 'boats': []}], 'stateId': 39}\n"
     ]
    },
    {
     "name": "stderr",
     "output_type": "stream",
     "text": [
      "127.0.0.1 - - [22/Jul/2019 13:15:01] \"POST /addHeat HTTP/1.1\" 200 -\n"
     ]
    },
    {
     "name": "stdout",
     "output_type": "stream",
     "text": [
      "{'heats': [{'id': '0', 'boats': [{'id': '0', 'StartTime': None, 'EndTime': None}, {'id': '1', 'StartTime': None, 'EndTime': None}, {'id': '2', 'StartTime': None, 'EndTime': None}, {'id': '3', 'StartTime': None, 'EndTime': None}, {'id': '4', 'StartTime': None, 'EndTime': None}, {'id': '5', 'StartTime': None, 'EndTime': None}, {'id': '6', 'StartTime': None, 'EndTime': None}, {'id': '7', 'StartTime': None, 'EndTime': None}, {'id': '8', 'StartTime': None, 'EndTime': None}]}, {'id': '1', 'boats': []}, {'id': '2', 'boats': []}, {'id': '3', 'boats': []}, {'id': '4', 'boats': []}, {'id': '5', 'boats': []}, {'id': '6', 'boats': []}, {'id': '7', 'boats': []}, {'id': '8', 'boats': []}, {'id': '9', 'boats': []}, {'id': '10', 'boats': []}, {'id': '11', 'boats': []}, {'id': '12', 'boats': []}, {'id': '13', 'boats': []}, {'id': '14', 'boats': []}, {'id': '15', 'boats': []}, {'id': '16', 'boats': []}, {'id': '17', 'boats': []}, {'id': '18', 'boats': []}, {'id': '19', 'boats': []}, {'id': '20', 'boats': []}, {'id': '21', 'boats': []}, {'id': '22', 'boats': []}, {'id': '23', 'boats': []}, {'id': '24', 'boats': []}, {'id': '25', 'boats': []}, {'id': '26', 'boats': []}, {'id': '27', 'boats': []}, {'id': '28', 'boats': []}, {'id': '29', 'boats': []}, {'id': '30', 'boats': []}], 'stateId': 40}\n"
     ]
    },
    {
     "name": "stderr",
     "output_type": "stream",
     "text": [
      "127.0.0.1 - - [22/Jul/2019 13:16:34] \"POST /getState HTTP/1.1\" 200 -\n",
      "127.0.0.1 - - [22/Jul/2019 13:18:23] \"POST /getState HTTP/1.1\" 200 -\n",
      "127.0.0.1 - - [22/Jul/2019 13:19:07] \"POST /getState HTTP/1.1\" 200 -\n",
      "127.0.0.1 - - [22/Jul/2019 13:20:43] \"POST /getState HTTP/1.1\" 200 -\n",
      "127.0.0.1 - - [22/Jul/2019 13:22:34] \"POST /getState HTTP/1.1\" 200 -\n",
      "127.0.0.1 - - [22/Jul/2019 13:22:38] \"POST /getState HTTP/1.1\" 200 -\n",
      "127.0.0.1 - - [22/Jul/2019 13:22:52] \"POST /getState HTTP/1.1\" 200 -\n",
      "127.0.0.1 - - [22/Jul/2019 13:23:14] \"POST /getState HTTP/1.1\" 200 -\n"
     ]
    }
   ],
   "source": [
    "if __name__ == \"__main__\":\n",
    "    app.run()"
   ]
  }
 ],
 "metadata": {
  "kernelspec": {
   "display_name": "Python 3",
   "language": "python",
   "name": "python3"
  },
  "language_info": {
   "codemirror_mode": {
    "name": "ipython",
    "version": 3
   },
   "file_extension": ".py",
   "mimetype": "text/x-python",
   "name": "python",
   "nbconvert_exporter": "python",
   "pygments_lexer": "ipython3",
   "version": "3.6.5"
  }
 },
 "nbformat": 4,
 "nbformat_minor": 2
}
