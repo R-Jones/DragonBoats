{
 "cells": [
  {
   "cell_type": "code",
   "execution_count": 1,
   "metadata": {},
   "outputs": [],
   "source": [
    "from flask import Flask, request\n",
    "from flask_cors import CORS\n",
    "import json\n",
    "import os\n",
    "app = Flask(__name__)\n",
    "CORS(app)\n",
    "\n",
    "mockdb = {\"heats\":[], \"stateId\":0}\n",
    "\n",
    "boatCounter = 0\n",
    "heatCounter = 0\n",
    "\n",
    "@app.route(\"/\")\n",
    "def index():\n",
    "    root_dir = os.path.dirname(os.getcwd())\n",
    "    return app.send_static_file('index.html')\n",
    "\n",
    "@app.route('/addHeat',methods=['POST'])\n",
    "def addHeat():\n",
    "    global heatCounter\n",
    "    print(mockdb)\n",
    "        \n",
    "    mockdb[\"heats\"].append({\"id\":str(heatCounter),\"boats\":[]})\n",
    "    heatCounter+=1\n",
    "    mockdb[\"stateId\"] += 1\n",
    "    return json.dumps(mockdb)\n",
    "\n",
    "@app.route('/<heatId>/addBoat',methods=['POST'])\n",
    "def addBoat(heatId):\n",
    "    global boatCounter\n",
    "    heat = [heat for heat in mockdb[\"heats\"] if heat[\"id\"] == heatId]\n",
    "    if not heat:\n",
    "        return '{\"error\": \"Heat not found\"}'\n",
    "    Id = str(boatCounter)\n",
    "    heat[0][\"boats\"].append({\"id\":Id,\"name\":\"Boat \" + Id,\"color\":None,\"StartTime\":None,\"EndTime\":None})\n",
    "    boatCounter+=1\n",
    "    mockdb[\"stateId\"]+=1\n",
    "    return json.dumps(mockdb)\n",
    "\n",
    "def setBoatParm(heatId,boatId,k,v):\n",
    "    heat = [heat for heat in mockdb[\"heats\"] if heat[\"id\"] == heatId]\n",
    "    if not heat:\n",
    "        return '{\"error\": \"Heat not found\"}'\n",
    "    boat = [boat for boat in heat[0][\"boats\"] if boat[\"id\"] == boatId]\n",
    "    if not boat:\n",
    "        return '{\"error\": \"Boat not found\"}'\n",
    "    boat[0][k] = v\n",
    "    \n",
    "    mockdb[\"stateId\"] += 1\n",
    "    \n",
    "    return json.dumps(mockdb)\n",
    "\n",
    "@app.route('/<heatId>/<boatId>/setStartTime',methods=['POST'])\n",
    "def setStartTime(heatId,boatId):\n",
    "    print(heatId,boatId)\n",
    "    reqJSON = request.get_json()\n",
    "    print(reqJSON)\n",
    "    if not \"StartTime\" in reqJSON:\n",
    "        return '{\"error\": \"missing start time\"}'\n",
    "    print(request.get_json())\n",
    "    mockdb[\"stateId\"] += 1\n",
    "    return setBoatParm(heatId,boatId,\"StartTime\",reqJSON[\"StartTime\"])\n",
    "\n",
    "@app.route('/<heatId>/<boatId>/setEndTime',methods=['POST'])\n",
    "def setEndTime(heatId,boatId):\n",
    "    reqJSON = request.get_json()\n",
    "    if not \"EndTime\" in reqJSON:\n",
    "        return '{\"error\": \"missing end time\"}'\n",
    "    mockdb[\"stateId\"] += 1\n",
    "    return setBoatParm(heatId,boatId,\"EndTime\",reqJSON[\"EndTime\"])\n",
    "\n",
    "@app.route('/<heatId>/<boatId>/setName',methods=['POST'])\n",
    "def setName(heatId,boatId):\n",
    "    reqJSON = request.get_json()\n",
    "    if not \"Name\" in reqJSON:\n",
    "        return '{\"error\": \"missing name\"}'\n",
    "    mockdb[\"stateId\"] += 1\n",
    "    return setBoatParm(heatId,boatId,\"name\",reqJSON[\"Name\"])\n",
    "\n",
    "@app.route('/<heatId>/<boatId>/setColor',methods=['POST'])\n",
    "def setColor(heatId,boatId):\n",
    "    reqJSON = request.get_json()\n",
    "    if not \"Color\" in reqJSON:\n",
    "        return '{\"error\": \"missing color\"}'\n",
    "    mockdb[\"stateId\"] += 1\n",
    "    return setBoatParm(heatId,boatId,\"color\",reqJSON[\"Color\"])\n",
    "\n",
    "@app.route('/getState',methods=['POST'])\n",
    "def getState():\n",
    "    reqJSON = request.get_json()\n",
    "    if reqJSON and \"stateId\" in reqJSON and str(mockdb[\"stateId\"]) == reqJSON[\"stateId\"]:\n",
    "        return '{\"unchanged\": 1}'\n",
    "    return json.dumps(mockdb)"
   ]
  },
  {
   "cell_type": "code",
   "execution_count": null,
   "metadata": {},
   "outputs": [
    {
     "name": "stdout",
     "output_type": "stream",
     "text": [
      " * Serving Flask app \"__main__\" (lazy loading)\n",
      " * Environment: production\n",
      "   WARNING: Do not use the development server in a production environment.\n",
      "   Use a production WSGI server instead.\n",
      " * Debug mode: off\n"
     ]
    },
    {
     "name": "stderr",
     "output_type": "stream",
     "text": [
      " * Running on http://127.0.0.1:5000/ (Press CTRL+C to quit)\n",
      "127.0.0.1 - - [23/Jul/2019 17:20:59] \"OPTIONS /getState HTTP/1.1\" 200 -\n",
      "127.0.0.1 - - [23/Jul/2019 17:20:59] \"POST /getState HTTP/1.1\" 200 -\n",
      "127.0.0.1 - - [23/Jul/2019 17:21:00] \"OPTIONS /addHeat HTTP/1.1\" 200 -\n",
      "127.0.0.1 - - [23/Jul/2019 17:21:00] \"POST /addHeat HTTP/1.1\" 200 -\n"
     ]
    },
    {
     "name": "stdout",
     "output_type": "stream",
     "text": [
      "{'heats': [], 'stateId': 0}\n"
     ]
    },
    {
     "name": "stderr",
     "output_type": "stream",
     "text": [
      "127.0.0.1 - - [23/Jul/2019 17:21:02] \"OPTIONS /0/addBoat HTTP/1.1\" 200 -\n",
      "127.0.0.1 - - [23/Jul/2019 17:21:02] \"POST /0/addBoat HTTP/1.1\" 200 -\n",
      "127.0.0.1 - - [23/Jul/2019 17:21:03] \"POST /0/addBoat HTTP/1.1\" 200 -\n",
      "127.0.0.1 - - [23/Jul/2019 17:21:03] \"POST /0/addBoat HTTP/1.1\" 200 -\n",
      "127.0.0.1 - - [23/Jul/2019 17:21:09] \"OPTIONS /0/1/setName HTTP/1.1\" 200 -\n",
      "127.0.0.1 - - [23/Jul/2019 17:21:09] \"POST /0/1/setName HTTP/1.1\" 200 -\n",
      "127.0.0.1 - - [23/Jul/2019 17:21:43] \"OPTIONS /getState HTTP/1.1\" 200 -\n",
      "127.0.0.1 - - [23/Jul/2019 17:21:43] \"POST /getState HTTP/1.1\" 200 -\n",
      "127.0.0.1 - - [23/Jul/2019 17:21:44] \"OPTIONS /addHeat HTTP/1.1\" 200 -\n",
      "127.0.0.1 - - [23/Jul/2019 17:21:44] \"POST /addHeat HTTP/1.1\" 200 -\n"
     ]
    },
    {
     "name": "stdout",
     "output_type": "stream",
     "text": [
      "{'heats': [{'id': '0', 'boats': [{'id': '0', 'name': 'Boat 0', 'color': None, 'StartTime': None, 'EndTime': None}, {'id': '1', 'name': 'Boat 12', 'color': None, 'StartTime': None, 'EndTime': None}, {'id': '2', 'name': 'Boat 2', 'color': None, 'StartTime': None, 'EndTime': None}]}], 'stateId': 6}\n"
     ]
    },
    {
     "name": "stderr",
     "output_type": "stream",
     "text": [
      "127.0.0.1 - - [23/Jul/2019 17:21:51] \"OPTIONS /0/0/setName HTTP/1.1\" 200 -\n",
      "127.0.0.1 - - [23/Jul/2019 17:21:51] \"POST /0/0/setName HTTP/1.1\" 200 -\n",
      "127.0.0.1 - - [23/Jul/2019 17:22:22] \"OPTIONS /getState HTTP/1.1\" 200 -\n",
      "127.0.0.1 - - [23/Jul/2019 17:22:22] \"POST /getState HTTP/1.1\" 200 -\n",
      "127.0.0.1 - - [23/Jul/2019 17:22:24] \"OPTIONS /1/addBoat HTTP/1.1\" 200 -\n",
      "127.0.0.1 - - [23/Jul/2019 17:22:24] \"POST /1/addBoat HTTP/1.1\" 200 -\n",
      "127.0.0.1 - - [23/Jul/2019 17:22:25] \"POST /1/addBoat HTTP/1.1\" 200 -\n",
      "127.0.0.1 - - [23/Jul/2019 17:22:26] \"OPTIONS /1/3/setName HTTP/1.1\" 200 -\n",
      "127.0.0.1 - - [23/Jul/2019 17:22:26] \"POST /1/3/setName HTTP/1.1\" 200 -\n",
      "127.0.0.1 - - [23/Jul/2019 17:22:29] \"OPTIONS /1/4/setName HTTP/1.1\" 200 -\n",
      "127.0.0.1 - - [23/Jul/2019 17:22:29] \"POST /1/4/setName HTTP/1.1\" 200 -\n",
      "127.0.0.1 - - [23/Jul/2019 17:22:32] \"POST /1/4/setName HTTP/1.1\" 200 -\n",
      "127.0.0.1 - - [23/Jul/2019 17:23:24] \"OPTIONS /getState HTTP/1.1\" 200 -\n",
      "127.0.0.1 - - [23/Jul/2019 17:23:24] \"POST /getState HTTP/1.1\" 200 -\n",
      "127.0.0.1 - - [23/Jul/2019 17:23:25] \"OPTIONS /addHeat HTTP/1.1\" 200 -\n",
      "127.0.0.1 - - [23/Jul/2019 17:23:25] \"POST /addHeat HTTP/1.1\" 200 -\n"
     ]
    },
    {
     "name": "stdout",
     "output_type": "stream",
     "text": [
      "{'heats': [{'id': '0', 'boats': [{'id': '0', 'name': 'Boat 12', 'color': None, 'StartTime': None, 'EndTime': None}, {'id': '1', 'name': 'Boat 12', 'color': None, 'StartTime': None, 'EndTime': None}, {'id': '2', 'name': 'Boat 2', 'color': None, 'StartTime': None, 'EndTime': None}]}, {'id': '1', 'boats': [{'id': '3', 'name': 'Boat 3', 'color': None, 'StartTime': None, 'EndTime': None}, {'id': '4', 'name': 'Boat 444', 'color': None, 'StartTime': None, 'EndTime': None}]}], 'stateId': 17}\n"
     ]
    },
    {
     "name": "stderr",
     "output_type": "stream",
     "text": [
      "127.0.0.1 - - [23/Jul/2019 17:23:26] \"POST /addHeat HTTP/1.1\" 200 -\n"
     ]
    },
    {
     "name": "stdout",
     "output_type": "stream",
     "text": [
      "{'heats': [{'id': '0', 'boats': [{'id': '0', 'name': 'Boat 12', 'color': None, 'StartTime': None, 'EndTime': None}, {'id': '1', 'name': 'Boat 12', 'color': None, 'StartTime': None, 'EndTime': None}, {'id': '2', 'name': 'Boat 2', 'color': None, 'StartTime': None, 'EndTime': None}]}, {'id': '1', 'boats': [{'id': '3', 'name': 'Boat 3', 'color': None, 'StartTime': None, 'EndTime': None}, {'id': '4', 'name': 'Boat 444', 'color': None, 'StartTime': None, 'EndTime': None}]}, {'id': '2', 'boats': []}], 'stateId': 18}\n"
     ]
    },
    {
     "name": "stderr",
     "output_type": "stream",
     "text": [
      "127.0.0.1 - - [23/Jul/2019 17:23:30] \"OPTIONS /1/4/setStartTime HTTP/1.1\" 200 -\n",
      "127.0.0.1 - - [23/Jul/2019 17:23:30] \"POST /1/4/setStartTime HTTP/1.1\" 200 -\n"
     ]
    },
    {
     "name": "stdout",
     "output_type": "stream",
     "text": [
      "1 4\n",
      "{'StartTime': '03:23:30.847Z'}\n",
      "{'StartTime': '03:23:30.847Z'}\n"
     ]
    },
    {
     "name": "stderr",
     "output_type": "stream",
     "text": [
      "127.0.0.1 - - [23/Jul/2019 17:23:31] \"OPTIONS /1/3/setStartTime HTTP/1.1\" 200 -\n",
      "127.0.0.1 - - [23/Jul/2019 17:23:31] \"POST /1/3/setStartTime HTTP/1.1\" 200 -\n"
     ]
    },
    {
     "name": "stdout",
     "output_type": "stream",
     "text": [
      "1 3\n",
      "{'StartTime': '03:23:31.317Z'}\n",
      "{'StartTime': '03:23:31.317Z'}\n"
     ]
    },
    {
     "name": "stderr",
     "output_type": "stream",
     "text": [
      "127.0.0.1 - - [23/Jul/2019 17:23:31] \"OPTIONS /1/3/setEndTime HTTP/1.1\" 200 -\n",
      "127.0.0.1 - - [23/Jul/2019 17:23:31] \"POST /1/3/setEndTime HTTP/1.1\" 200 -\n",
      "127.0.0.1 - - [23/Jul/2019 17:23:32] \"OPTIONS /1/4/setEndTime HTTP/1.1\" 200 -\n",
      "127.0.0.1 - - [23/Jul/2019 17:23:32] \"POST /1/4/setEndTime HTTP/1.1\" 200 -\n",
      "127.0.0.1 - - [23/Jul/2019 17:23:33] \"OPTIONS /addHeat HTTP/1.1\" 200 -\n",
      "127.0.0.1 - - [23/Jul/2019 17:23:33] \"POST /addHeat HTTP/1.1\" 200 -\n"
     ]
    },
    {
     "name": "stdout",
     "output_type": "stream",
     "text": [
      "{'heats': [{'id': '0', 'boats': [{'id': '0', 'name': 'Boat 12', 'color': None, 'StartTime': None, 'EndTime': None}, {'id': '1', 'name': 'Boat 12', 'color': None, 'StartTime': None, 'EndTime': None}, {'id': '2', 'name': 'Boat 2', 'color': None, 'StartTime': None, 'EndTime': None}]}, {'id': '1', 'boats': [{'id': '3', 'name': 'Boat 3', 'color': None, 'StartTime': '03:23:31.317Z', 'EndTime': '03:23:31.849Z'}, {'id': '4', 'name': 'Boat 444', 'color': None, 'StartTime': '03:23:30.847Z', 'EndTime': '03:23:32.333Z'}]}, {'id': '2', 'boats': []}, {'id': '3', 'boats': []}], 'stateId': 27}\n"
     ]
    },
    {
     "name": "stderr",
     "output_type": "stream",
     "text": [
      "127.0.0.1 - - [23/Jul/2019 17:23:35] \"OPTIONS /4/addBoat HTTP/1.1\" 200 -\n",
      "127.0.0.1 - - [23/Jul/2019 17:23:35] \"POST /4/addBoat HTTP/1.1\" 200 -\n",
      "127.0.0.1 - - [23/Jul/2019 17:23:36] \"POST /4/addBoat HTTP/1.1\" 200 -\n",
      "127.0.0.1 - - [23/Jul/2019 17:23:36] \"POST /4/addBoat HTTP/1.1\" 200 -\n",
      "127.0.0.1 - - [23/Jul/2019 17:23:40] \"OPTIONS /4/6/setName HTTP/1.1\" 200 -\n",
      "127.0.0.1 - - [23/Jul/2019 17:23:40] \"POST /4/6/setName HTTP/1.1\" 200 -\n",
      "127.0.0.1 - - [23/Jul/2019 17:23:43] \"POST /4/6/setName HTTP/1.1\" 200 -\n",
      "127.0.0.1 - - [23/Jul/2019 17:25:07] \"OPTIONS /getState HTTP/1.1\" 200 -\n",
      "127.0.0.1 - - [23/Jul/2019 17:25:07] \"POST /getState HTTP/1.1\" 200 -\n",
      "127.0.0.1 - - [23/Jul/2019 17:25:14] \"OPTIONS /0/0/setStartTime HTTP/1.1\" 200 -\n",
      "127.0.0.1 - - [23/Jul/2019 17:25:14] \"POST /0/0/setStartTime HTTP/1.1\" 200 -\n"
     ]
    },
    {
     "name": "stdout",
     "output_type": "stream",
     "text": [
      "0 0\n",
      "{'StartTime': '03:25:14.809Z'}\n",
      "{'StartTime': '03:25:14.809Z'}\n"
     ]
    },
    {
     "name": "stderr",
     "output_type": "stream",
     "text": [
      "127.0.0.1 - - [23/Jul/2019 17:25:15] \"OPTIONS /0/0/setEndTime HTTP/1.1\" 200 -\n",
      "127.0.0.1 - - [23/Jul/2019 17:25:15] \"POST /0/0/setEndTime HTTP/1.1\" 200 -\n",
      "127.0.0.1 - - [23/Jul/2019 17:25:28] \"OPTIONS /getState HTTP/1.1\" 200 -\n",
      "127.0.0.1 - - [23/Jul/2019 17:25:28] \"POST /getState HTTP/1.1\" 200 -\n",
      "127.0.0.1 - - [23/Jul/2019 17:25:53] \"OPTIONS /1/3/setName HTTP/1.1\" 200 -\n",
      "127.0.0.1 - - [23/Jul/2019 17:25:53] \"POST /1/3/setName HTTP/1.1\" 200 -\n",
      "127.0.0.1 - - [23/Jul/2019 17:38:16] \"OPTIONS /getState HTTP/1.1\" 200 -\n",
      "127.0.0.1 - - [23/Jul/2019 17:38:16] \"POST /getState HTTP/1.1\" 200 -\n",
      "127.0.0.1 - - [23/Jul/2019 17:38:25] \"OPTIONS /0/0/setName HTTP/1.1\" 200 -\n",
      "127.0.0.1 - - [23/Jul/2019 17:38:25] \"POST /0/0/setName HTTP/1.1\" 200 -\n",
      "127.0.0.1 - - [23/Jul/2019 17:38:27] \"OPTIONS /0/1/setName HTTP/1.1\" 200 -\n",
      "127.0.0.1 - - [23/Jul/2019 17:38:27] \"POST /0/1/setName HTTP/1.1\" 200 -\n",
      "127.0.0.1 - - [23/Jul/2019 17:38:30] \"POST /0/1/setName HTTP/1.1\" 200 -\n",
      "127.0.0.1 - - [23/Jul/2019 17:40:51] \"OPTIONS /0/1/setName HTTP/1.1\" 200 -\n",
      "127.0.0.1 - - [23/Jul/2019 17:40:51] \"POST /0/1/setName HTTP/1.1\" 200 -\n",
      "127.0.0.1 - - [23/Jul/2019 17:40:53] \"OPTIONS /0/0/setName HTTP/1.1\" 200 -\n",
      "127.0.0.1 - - [23/Jul/2019 17:40:53] \"POST /0/0/setName HTTP/1.1\" 200 -\n",
      "127.0.0.1 - - [23/Jul/2019 17:41:37] \"OPTIONS /getState HTTP/1.1\" 200 -\n",
      "127.0.0.1 - - [23/Jul/2019 17:41:37] \"POST /getState HTTP/1.1\" 200 -\n",
      "127.0.0.1 - - [23/Jul/2019 17:41:40] \"OPTIONS /1/3/setName HTTP/1.1\" 200 -\n",
      "127.0.0.1 - - [23/Jul/2019 17:41:40] \"POST /1/3/setName HTTP/1.1\" 200 -\n",
      "127.0.0.1 - - [23/Jul/2019 17:41:43] \"POST /1/3/setName HTTP/1.1\" 200 -\n",
      "127.0.0.1 - - [23/Jul/2019 17:41:46] \"OPTIONS /1/4/setName HTTP/1.1\" 200 -\n",
      "127.0.0.1 - - [23/Jul/2019 17:41:46] \"POST /1/4/setName HTTP/1.1\" 200 -\n",
      "127.0.0.1 - - [23/Jul/2019 17:42:13] \"OPTIONS /1/3/setName HTTP/1.1\" 200 -\n",
      "127.0.0.1 - - [23/Jul/2019 17:42:13] \"POST /1/3/setName HTTP/1.1\" 200 -\n",
      "127.0.0.1 - - [23/Jul/2019 17:42:22] \"OPTIONS /1/3/setName HTTP/1.1\" 200 -\n",
      "127.0.0.1 - - [23/Jul/2019 17:42:22] \"POST /1/3/setName HTTP/1.1\" 200 -\n",
      "127.0.0.1 - - [23/Jul/2019 17:42:25] \"POST /1/3/setName HTTP/1.1\" 200 -\n",
      "127.0.0.1 - - [23/Jul/2019 17:43:00] \"OPTIONS /1/3/setName HTTP/1.1\" 200 -\n",
      "127.0.0.1 - - [23/Jul/2019 17:43:00] \"POST /1/3/setName HTTP/1.1\" 200 -\n",
      "127.0.0.1 - - [23/Jul/2019 17:43:21] \"OPTIONS /getState HTTP/1.1\" 200 -\n",
      "127.0.0.1 - - [23/Jul/2019 17:43:21] \"POST /getState HTTP/1.1\" 200 -\n",
      "127.0.0.1 - - [23/Jul/2019 17:43:51] \"OPTIONS /getState HTTP/1.1\" 200 -\n",
      "127.0.0.1 - - [23/Jul/2019 17:43:51] \"POST /getState HTTP/1.1\" 200 -\n",
      "127.0.0.1 - - [23/Jul/2019 17:43:55] \"OPTIONS /1/3/setName HTTP/1.1\" 200 -\n",
      "127.0.0.1 - - [23/Jul/2019 17:43:55] \"POST /1/3/setName HTTP/1.1\" 200 -\n",
      "127.0.0.1 - - [23/Jul/2019 17:43:57] \"POST /1/3/setName HTTP/1.1\" 200 -\n",
      "127.0.0.1 - - [23/Jul/2019 17:44:13] \"OPTIONS /1/3/setName HTTP/1.1\" 200 -\n",
      "127.0.0.1 - - [23/Jul/2019 17:44:13] \"POST /1/3/setName HTTP/1.1\" 200 -\n",
      "127.0.0.1 - - [23/Jul/2019 17:44:44] \"OPTIONS /1/3/setName HTTP/1.1\" 200 -\n",
      "127.0.0.1 - - [23/Jul/2019 17:44:44] \"POST /1/3/setName HTTP/1.1\" 200 -\n",
      "127.0.0.1 - - [23/Jul/2019 17:44:47] \"POST /1/3/setName HTTP/1.1\" 200 -\n",
      "127.0.0.1 - - [23/Jul/2019 17:45:37] \"OPTIONS /getState HTTP/1.1\" 200 -\n",
      "127.0.0.1 - - [23/Jul/2019 17:45:37] \"POST /getState HTTP/1.1\" 200 -\n",
      "127.0.0.1 - - [23/Jul/2019 17:45:40] \"OPTIONS /1/3/setName HTTP/1.1\" 200 -\n",
      "127.0.0.1 - - [23/Jul/2019 17:45:40] \"OPTIONS /1/3/setColor HTTP/1.1\" 200 -\n",
      "127.0.0.1 - - [23/Jul/2019 17:45:40] \"POST /1/3/setColor HTTP/1.1\" 200 -\n",
      "127.0.0.1 - - [23/Jul/2019 17:45:40] \"POST /1/3/setName HTTP/1.1\" 200 -\n",
      "127.0.0.1 - - [23/Jul/2019 17:45:43] \"POST /1/3/setColor HTTP/1.1\" 200 -\n",
      "127.0.0.1 - - [23/Jul/2019 17:45:43] \"POST /1/3/setName HTTP/1.1\" 200 -\n",
      "127.0.0.1 - - [23/Jul/2019 17:45:53] \"OPTIONS /1/3/setName HTTP/1.1\" 200 -\n",
      "127.0.0.1 - - [23/Jul/2019 17:45:53] \"OPTIONS /1/3/setColor HTTP/1.1\" 200 -\n",
      "127.0.0.1 - - [23/Jul/2019 17:45:53] \"POST /1/3/setName HTTP/1.1\" 200 -\n",
      "127.0.0.1 - - [23/Jul/2019 17:45:53] \"POST /1/3/setColor HTTP/1.1\" 200 -\n",
      "127.0.0.1 - - [23/Jul/2019 17:45:55] \"POST /1/3/setColor HTTP/1.1\" 200 -\n",
      "127.0.0.1 - - [23/Jul/2019 17:45:55] \"POST /1/3/setName HTTP/1.1\" 200 -\n",
      "127.0.0.1 - - [23/Jul/2019 17:46:38] \"OPTIONS /1/4/setName HTTP/1.1\" 200 -\n",
      "127.0.0.1 - - [23/Jul/2019 17:46:38] \"OPTIONS /1/4/setColor HTTP/1.1\" 200 -\n",
      "127.0.0.1 - - [23/Jul/2019 17:46:38] \"POST /1/4/setName HTTP/1.1\" 200 -\n",
      "127.0.0.1 - - [23/Jul/2019 17:46:38] \"POST /1/4/setColor HTTP/1.1\" 200 -\n",
      "127.0.0.1 - - [23/Jul/2019 17:46:43] \"OPTIONS /1/3/setName HTTP/1.1\" 200 -\n",
      "127.0.0.1 - - [23/Jul/2019 17:46:43] \"OPTIONS /1/3/setColor HTTP/1.1\" 200 -\n",
      "127.0.0.1 - - [23/Jul/2019 17:46:43] \"POST /1/3/setName HTTP/1.1\" 200 -\n",
      "127.0.0.1 - - [23/Jul/2019 17:46:43] \"POST /1/3/setColor HTTP/1.1\" 200 -\n",
      "127.0.0.1 - - [23/Jul/2019 17:46:52] \"OPTIONS /1/addBoat HTTP/1.1\" 200 -\n",
      "127.0.0.1 - - [23/Jul/2019 17:46:52] \"POST /1/addBoat HTTP/1.1\" 200 -\n",
      "127.0.0.1 - - [23/Jul/2019 17:48:00] \"OPTIONS /getState HTTP/1.1\" 200 -\n",
      "127.0.0.1 - - [23/Jul/2019 17:48:00] \"POST /getState HTTP/1.1\" 200 -\n",
      "127.0.0.1 - - [23/Jul/2019 17:48:04] \"OPTIONS /1/8/setName HTTP/1.1\" 200 -\n",
      "127.0.0.1 - - [23/Jul/2019 17:48:04] \"OPTIONS /1/8/setColor HTTP/1.1\" 200 -\n",
      "127.0.0.1 - - [23/Jul/2019 17:48:04] \"POST /1/8/setName HTTP/1.1\" 200 -\n",
      "127.0.0.1 - - [23/Jul/2019 17:48:04] \"POST /1/8/setColor HTTP/1.1\" 200 -\n",
      "127.0.0.1 - - [23/Jul/2019 17:48:12] \"OPTIONS /1/8/setStartTime HTTP/1.1\" 200 -\n",
      "127.0.0.1 - - [23/Jul/2019 17:48:12] \"POST /1/8/setStartTime HTTP/1.1\" 200 -\n"
     ]
    },
    {
     "name": "stdout",
     "output_type": "stream",
     "text": [
      "1 8\n",
      "{'StartTime': '03:48:12.562Z'}\n",
      "{'StartTime': '03:48:12.562Z'}\n"
     ]
    },
    {
     "name": "stderr",
     "output_type": "stream",
     "text": [
      "127.0.0.1 - - [23/Jul/2019 17:48:13] \"OPTIONS /1/8/setEndTime HTTP/1.1\" 200 -\n",
      "127.0.0.1 - - [23/Jul/2019 17:48:13] \"POST /1/8/setEndTime HTTP/1.1\" 200 -\n",
      "127.0.0.1 - - [23/Jul/2019 17:48:36] \"OPTIONS /1/addBoat HTTP/1.1\" 200 -\n",
      "127.0.0.1 - - [23/Jul/2019 17:48:36] \"POST /1/addBoat HTTP/1.1\" 200 -\n",
      "127.0.0.1 - - [23/Jul/2019 17:48:37] \"POST /1/addBoat HTTP/1.1\" 200 -\n",
      "127.0.0.1 - - [23/Jul/2019 17:48:38] \"POST /1/addBoat HTTP/1.1\" 200 -\n",
      "127.0.0.1 - - [23/Jul/2019 17:48:40] \"OPTIONS /1/10/setName HTTP/1.1\" 200 -\n",
      "127.0.0.1 - - [23/Jul/2019 17:48:40] \"OPTIONS /1/10/setColor HTTP/1.1\" 200 -\n",
      "127.0.0.1 - - [23/Jul/2019 17:48:40] \"POST /1/10/setName HTTP/1.1\" 200 -\n",
      "127.0.0.1 - - [23/Jul/2019 17:48:40] \"POST /1/10/setColor HTTP/1.1\" 200 -\n"
     ]
    }
   ],
   "source": [
    "if __name__ == \"__main__\":\n",
    "    app.run()"
   ]
  }
 ],
 "metadata": {
  "kernelspec": {
   "display_name": "Python 3",
   "language": "python",
   "name": "python3"
  },
  "language_info": {
   "codemirror_mode": {
    "name": "ipython",
    "version": 3
   },
   "file_extension": ".py",
   "mimetype": "text/x-python",
   "name": "python",
   "nbconvert_exporter": "python",
   "pygments_lexer": "ipython3",
   "version": "3.6.4"
  }
 },
 "nbformat": 4,
 "nbformat_minor": 2
}
